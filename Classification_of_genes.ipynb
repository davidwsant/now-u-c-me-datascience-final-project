{
 "cells": [
  {
   "cell_type": "markdown",
   "metadata": {},
   "source": [
    "# Now you \"C\" me DataScience Final Project \n",
    "link to video: https://youtu.be/lhodcPtmywc"
   ]
  },
  {
   "cell_type": "markdown",
   "metadata": {},
   "source": [
    "# RNA and hMeDIP Clustering and Data Exploration"
   ]
  },
  {
   "cell_type": "markdown",
   "metadata": {},
   "source": [
    "## Information obtained from data cleaning\n",
    "\n",
    "In the three previous notebooks I have cleaned up all of the data and created dataframes that contain info about all of the expressed genes. There is one dataframe for each data set (Human ARPE-19 cells treated with vitamin C, Rat Schwann cells treated with vitamin C, and Rat Schwann cells treated with cAMP). The columns (not necessarily in this order) are as follows: \n",
    "\n",
    "1. Ensembl ID: this is just the ID for each gene, will be used as the index\n",
    "2. Change: meaning the change in transcription in response to either vitamin C or cAMP, this will be the label\n",
    "3. Name: This is the gene name. I kept these so that we can look at the clusters later, but this will not be included in the analysis.\n",
    "4. Biotype: Most of these are protein coding, so this will be changed to a binary classification of either protein coding or not protein coding\n",
    "5. Chromosome: Should not be a confounding variable, but I thought I should include it for just in case.\n",
    "6. Length: Entire transcript length, from transcription start site (TSS) to transcription termination site (TTS)\n",
    "7. Exonic Length: Length of the coding transcript, exons only\n",
    "8. TSS_Downregulated: Number of peaks that decrease in 5hmC enrichment that are located in that gene's TSS\n",
    "9. Downstream_Promoter_Downregulated: Number of peaks that decrease in 5hmC enrichment that are located in that gene's downstream promoter (250 bp downstream to 3,000 bp downstream)\n",
    "10. Gene_Body_Downregulated: Number of peaks that decrease in 5hmC enrichment that are located in that gene body (from 3,000 bp downstream of the TSS to the TTS)\n",
    "11. Upstream_Promoter_Downregulated: Number of peaks that decrease in 5hmC enrichment that are located in that gene's upstream promoter (250 bp upstream to 3,000 bp upstream)\n",
    "12. TSS_Nondifferential: Number of peaks that do not change in 5hmC enrichment that are located in that gene's TSS\n",
    "13. Downstream_Promoter_Nondifferential: Number of peaks that do not change in 5hmC enrichment that are located in that gene's downstream promoter (250 bp downstream to 3,000 bp downstream)\n",
    "14. Gene_Body_Nondifferential: Number of peaks that do not change in 5hmC enrichment that are located in that gene body (from 3,000 bp downstream of the TSS to the TTS)\n",
    "15. Upstream_Promoter_Nondifferential: Number of peaks that do not change in 5hmC enrichment that are located in that gene's upstream promoter (250 bp upstream to 3,000 bp upstream)\n",
    "16. TSS_Upregulated: Number of peaks that increase in 5hmC enrichment that are located in that gene's TSS\n",
    "17. Downstream_Promoter_Upregulated: Number of peaks that increae in 5hmC enrichment that are located in that gene's downstream promoter (250 bp downstream to 3,000 bp downstream)\n",
    "18. Gene_Body_Upregulated: Number of peaks that increase in 5hmC enrichment that are located in that gene body (from 3,000 bp downstream of the TSS to the TTS)\n",
    "19. Upstream_Promoter_Upregulated: Number of peaks that increase in 5hmC enrichment that are located in that gene's upstream promoter (250 bp upstream to 3,000 bp upstream)\n",
    "\n",
    "\n"
   ]
  },
  {
   "cell_type": "markdown",
   "metadata": {},
   "source": [
    "## This notebook will contain classification steps for these datasets\n",
    "\n",
    "For this notebook, I will include information about the machine learning classification. I plan to split one dataset (ARPE) into test and train sets to see how well I can classify the test genes. Whichever one works best will be trained on all of the genes from the ARPE dataset and then used to classify the genes in the schwann cell dataset. I predict that this will not be particularly successful on predicting changes in the Schwann cells, simply because it is another cell type and another species (human vs. rat). The cAMP dataset is also likely to not have great prediction because it is treated with cAMP, which affects three transcription factors (CREM, CREM, ATF1). "
   ]
  },
  {
   "cell_type": "code",
   "execution_count": 1,
   "metadata": {},
   "outputs": [],
   "source": [
    "import os\n",
    "import pandas as pd\n",
    "import numpy as np\n",
    "\n",
    "\n",
    "from sklearn import tree, svm, metrics\n",
    "from sklearn.neighbors import KNeighborsClassifier\n",
    "from sklearn.model_selection import train_test_split, cross_val_score\n",
    "from sklearn.preprocessing import scale\n",
    "\n",
    "import matplotlib.pyplot as plt\n",
    "%matplotlib inline\n",
    "plt.rcParams['figure.figsize'] = (10, 10)\n",
    "plt.style.use('ggplot')"
   ]
  },
  {
   "cell_type": "code",
   "execution_count": 2,
   "metadata": {},
   "outputs": [],
   "source": [
    "cleaned_data_path = \"Output_Tables_and_Results/\"\n",
    "output_path = \"Classification_Output/\""
   ]
  },
  {
   "cell_type": "code",
   "execution_count": 3,
   "metadata": {},
   "outputs": [
    {
     "data": {
      "text/plain": [
       "['ARPE_Intermediate_Files',\n",
       " 'SC_VitC_Combined_Cleaned_Data.csv',\n",
       " 'SC_cAMP_Combined_Cleaned_Data.pkl',\n",
       " '.DS_Store',\n",
       " 'ARPE_Combined_Cleaned_Data.csv',\n",
       " 'ARPE_Combined_Cleaned_Data.pkl',\n",
       " 'SC-VitC_Intermediate_Files',\n",
       " 'SC-cAMP_Intermediate_Files',\n",
       " 'SC_cAMP_Combined_Cleaned_Data.csv',\n",
       " 'SC_VitC_Combined_Cleaned_Data.pkl']"
      ]
     },
     "execution_count": 3,
     "metadata": {},
     "output_type": "execute_result"
    }
   ],
   "source": [
    "os.listdir(\"Output_Tables_and_Results/\")\n"
   ]
  },
  {
   "cell_type": "code",
   "execution_count": 4,
   "metadata": {},
   "outputs": [],
   "source": [
    "ARPE_cleaned_dataset = pd.read_pickle(cleaned_data_path+\"ARPE_Combined_Cleaned_Data.pkl\")\n",
    "SC_VitC_cleaned_dataset = pd.read_pickle(cleaned_data_path+\"SC_VitC_Combined_Cleaned_Data.pkl\")\n",
    "SC_cAMP_cleaned_dataset = pd.read_pickle(cleaned_data_path+\"SC_cAMP_Combined_Cleaned_Data.pkl\")\n",
    "\n"
   ]
  },
  {
   "cell_type": "code",
   "execution_count": null,
   "metadata": {},
   "outputs": [],
   "source": []
  },
  {
   "cell_type": "code",
   "execution_count": 5,
   "metadata": {
    "scrolled": true
   },
   "outputs": [
    {
     "data": {
      "text/html": [
       "<div>\n",
       "<style scoped>\n",
       "    .dataframe tbody tr th:only-of-type {\n",
       "        vertical-align: middle;\n",
       "    }\n",
       "\n",
       "    .dataframe tbody tr th {\n",
       "        vertical-align: top;\n",
       "    }\n",
       "\n",
       "    .dataframe thead th {\n",
       "        text-align: right;\n",
       "    }\n",
       "</style>\n",
       "<table border=\"1\" class=\"dataframe\">\n",
       "  <thead>\n",
       "    <tr style=\"text-align: right;\">\n",
       "      <th></th>\n",
       "      <th>Change</th>\n",
       "      <th>Name</th>\n",
       "      <th>Biotype</th>\n",
       "      <th>Chr</th>\n",
       "      <th>Length</th>\n",
       "      <th>Exonic Length</th>\n",
       "      <th>TSS_Downregulated</th>\n",
       "      <th>Downstream_Promoter_Downregulated</th>\n",
       "      <th>Gene_Body_Downregulated</th>\n",
       "      <th>Upstream_Promoter_Downregulated</th>\n",
       "      <th>TSS_Nondifferential</th>\n",
       "      <th>Downstream_Promoter_Nondifferential</th>\n",
       "      <th>Gene_Body_Nondifferential</th>\n",
       "      <th>Upstream_Promoter_Nondifferential</th>\n",
       "      <th>TSS_Upregulated</th>\n",
       "      <th>Downstream_Promoter_Upregulated</th>\n",
       "      <th>Gene_Body_Upregulated</th>\n",
       "      <th>Upstream_Promoter_Upregulated</th>\n",
       "    </tr>\n",
       "    <tr>\n",
       "      <th>Ensembl_ID</th>\n",
       "      <th></th>\n",
       "      <th></th>\n",
       "      <th></th>\n",
       "      <th></th>\n",
       "      <th></th>\n",
       "      <th></th>\n",
       "      <th></th>\n",
       "      <th></th>\n",
       "      <th></th>\n",
       "      <th></th>\n",
       "      <th></th>\n",
       "      <th></th>\n",
       "      <th></th>\n",
       "      <th></th>\n",
       "      <th></th>\n",
       "      <th></th>\n",
       "      <th></th>\n",
       "      <th></th>\n",
       "    </tr>\n",
       "  </thead>\n",
       "  <tbody>\n",
       "    <tr>\n",
       "      <th>ENSG00000000003</th>\n",
       "      <td>Downregulated</td>\n",
       "      <td>TSPAN6</td>\n",
       "      <td>protein_coding</td>\n",
       "      <td>X</td>\n",
       "      <td>9996.0</td>\n",
       "      <td>3796.0</td>\n",
       "      <td>0.0</td>\n",
       "      <td>0.0</td>\n",
       "      <td>0.0</td>\n",
       "      <td>0.0</td>\n",
       "      <td>1.0</td>\n",
       "      <td>0.0</td>\n",
       "      <td>0.0</td>\n",
       "      <td>0.0</td>\n",
       "      <td>0.0</td>\n",
       "      <td>0.0</td>\n",
       "      <td>0.0</td>\n",
       "      <td>0.0</td>\n",
       "    </tr>\n",
       "    <tr>\n",
       "      <th>ENSG00000000419</th>\n",
       "      <td>Nondifferential</td>\n",
       "      <td>DPM1</td>\n",
       "      <td>protein_coding</td>\n",
       "      <td>20</td>\n",
       "      <td>23689.0</td>\n",
       "      <td>1161.0</td>\n",
       "      <td>0.0</td>\n",
       "      <td>0.0</td>\n",
       "      <td>0.0</td>\n",
       "      <td>0.0</td>\n",
       "      <td>0.0</td>\n",
       "      <td>0.0</td>\n",
       "      <td>0.0</td>\n",
       "      <td>0.0</td>\n",
       "      <td>0.0</td>\n",
       "      <td>0.0</td>\n",
       "      <td>1.0</td>\n",
       "      <td>0.0</td>\n",
       "    </tr>\n",
       "    <tr>\n",
       "      <th>ENSG00000000457</th>\n",
       "      <td>Nondifferential</td>\n",
       "      <td>SCYL3</td>\n",
       "      <td>protein_coding</td>\n",
       "      <td>1</td>\n",
       "      <td>44322.0</td>\n",
       "      <td>6364.0</td>\n",
       "      <td>0.0</td>\n",
       "      <td>0.0</td>\n",
       "      <td>0.0</td>\n",
       "      <td>0.0</td>\n",
       "      <td>0.0</td>\n",
       "      <td>0.0</td>\n",
       "      <td>1.0</td>\n",
       "      <td>0.0</td>\n",
       "      <td>0.0</td>\n",
       "      <td>0.0</td>\n",
       "      <td>1.0</td>\n",
       "      <td>0.0</td>\n",
       "    </tr>\n",
       "    <tr>\n",
       "      <th>ENSG00000000460</th>\n",
       "      <td>Nondifferential</td>\n",
       "      <td>C1orf112</td>\n",
       "      <td>protein_coding</td>\n",
       "      <td>1</td>\n",
       "      <td>58672.0</td>\n",
       "      <td>4355.0</td>\n",
       "      <td>0.0</td>\n",
       "      <td>0.0</td>\n",
       "      <td>0.0</td>\n",
       "      <td>0.0</td>\n",
       "      <td>0.0</td>\n",
       "      <td>0.0</td>\n",
       "      <td>4.0</td>\n",
       "      <td>0.0</td>\n",
       "      <td>0.0</td>\n",
       "      <td>0.0</td>\n",
       "      <td>2.0</td>\n",
       "      <td>0.0</td>\n",
       "    </tr>\n",
       "    <tr>\n",
       "      <th>ENSG00000000971</th>\n",
       "      <td>Upregulated</td>\n",
       "      <td>CFH</td>\n",
       "      <td>protein_coding</td>\n",
       "      <td>1</td>\n",
       "      <td>95627.0</td>\n",
       "      <td>4127.0</td>\n",
       "      <td>0.0</td>\n",
       "      <td>0.0</td>\n",
       "      <td>0.0</td>\n",
       "      <td>0.0</td>\n",
       "      <td>0.0</td>\n",
       "      <td>1.0</td>\n",
       "      <td>1.0</td>\n",
       "      <td>0.0</td>\n",
       "      <td>0.0</td>\n",
       "      <td>0.0</td>\n",
       "      <td>0.0</td>\n",
       "      <td>0.0</td>\n",
       "    </tr>\n",
       "  </tbody>\n",
       "</table>\n",
       "</div>"
      ],
      "text/plain": [
       "                          Change      Name         Biotype Chr   Length  \\\n",
       "Ensembl_ID                                                                \n",
       "ENSG00000000003    Downregulated    TSPAN6  protein_coding   X   9996.0   \n",
       "ENSG00000000419  Nondifferential      DPM1  protein_coding  20  23689.0   \n",
       "ENSG00000000457  Nondifferential     SCYL3  protein_coding   1  44322.0   \n",
       "ENSG00000000460  Nondifferential  C1orf112  protein_coding   1  58672.0   \n",
       "ENSG00000000971      Upregulated       CFH  protein_coding   1  95627.0   \n",
       "\n",
       "                 Exonic Length  TSS_Downregulated  \\\n",
       "Ensembl_ID                                          \n",
       "ENSG00000000003         3796.0                0.0   \n",
       "ENSG00000000419         1161.0                0.0   \n",
       "ENSG00000000457         6364.0                0.0   \n",
       "ENSG00000000460         4355.0                0.0   \n",
       "ENSG00000000971         4127.0                0.0   \n",
       "\n",
       "                 Downstream_Promoter_Downregulated  Gene_Body_Downregulated  \\\n",
       "Ensembl_ID                                                                    \n",
       "ENSG00000000003                                0.0                      0.0   \n",
       "ENSG00000000419                                0.0                      0.0   \n",
       "ENSG00000000457                                0.0                      0.0   \n",
       "ENSG00000000460                                0.0                      0.0   \n",
       "ENSG00000000971                                0.0                      0.0   \n",
       "\n",
       "                 Upstream_Promoter_Downregulated  TSS_Nondifferential  \\\n",
       "Ensembl_ID                                                              \n",
       "ENSG00000000003                              0.0                  1.0   \n",
       "ENSG00000000419                              0.0                  0.0   \n",
       "ENSG00000000457                              0.0                  0.0   \n",
       "ENSG00000000460                              0.0                  0.0   \n",
       "ENSG00000000971                              0.0                  0.0   \n",
       "\n",
       "                 Downstream_Promoter_Nondifferential  \\\n",
       "Ensembl_ID                                             \n",
       "ENSG00000000003                                  0.0   \n",
       "ENSG00000000419                                  0.0   \n",
       "ENSG00000000457                                  0.0   \n",
       "ENSG00000000460                                  0.0   \n",
       "ENSG00000000971                                  1.0   \n",
       "\n",
       "                 Gene_Body_Nondifferential  Upstream_Promoter_Nondifferential  \\\n",
       "Ensembl_ID                                                                      \n",
       "ENSG00000000003                        0.0                                0.0   \n",
       "ENSG00000000419                        0.0                                0.0   \n",
       "ENSG00000000457                        1.0                                0.0   \n",
       "ENSG00000000460                        4.0                                0.0   \n",
       "ENSG00000000971                        1.0                                0.0   \n",
       "\n",
       "                 TSS_Upregulated  Downstream_Promoter_Upregulated  \\\n",
       "Ensembl_ID                                                          \n",
       "ENSG00000000003              0.0                              0.0   \n",
       "ENSG00000000419              0.0                              0.0   \n",
       "ENSG00000000457              0.0                              0.0   \n",
       "ENSG00000000460              0.0                              0.0   \n",
       "ENSG00000000971              0.0                              0.0   \n",
       "\n",
       "                 Gene_Body_Upregulated  Upstream_Promoter_Upregulated  \n",
       "Ensembl_ID                                                             \n",
       "ENSG00000000003                    0.0                            0.0  \n",
       "ENSG00000000419                    1.0                            0.0  \n",
       "ENSG00000000457                    1.0                            0.0  \n",
       "ENSG00000000460                    2.0                            0.0  \n",
       "ENSG00000000971                    0.0                            0.0  "
      ]
     },
     "execution_count": 5,
     "metadata": {},
     "output_type": "execute_result"
    }
   ],
   "source": [
    "ARPE_cleaned_dataset.head()"
   ]
  },
  {
   "cell_type": "markdown",
   "metadata": {},
   "source": [
    "The first step is going to be to split the data into numpy arrays. Unfortunately, I am also going to have to create dummy variables for the categorical variables that I want to include. I also need to change the \"Change\" to numbers. I think I will use 0 for downregulated, 1 for nondifferential and 2 for upregulated. Biotype will be split into \"protein_coding\" vs everything else. For chromosomes, I am just going to split it into nuclear chromosomes vs mitochondrial chromosome and patches.  \n"
   ]
  },
  {
   "cell_type": "code",
   "execution_count": 6,
   "metadata": {},
   "outputs": [
    {
     "data": {
      "text/plain": [
       "array(['X', '20', '1', '6', '7', '12', '11', '4', '17', '2', '16', '3',\n",
       "       '19', '9', '13', '14', '8', 'Y', '5', '10', '22', '18', '15', '21',\n",
       "       'MT', 'KI270711.1', 'GL000219.1', 'KI270713.1', 'GL000195.1'],\n",
       "      dtype=object)"
      ]
     },
     "execution_count": 6,
     "metadata": {},
     "output_type": "execute_result"
    }
   ],
   "source": [
    "ARPE_cleaned_dataset[\"Chr\"].unique()"
   ]
  },
  {
   "cell_type": "code",
   "execution_count": 7,
   "metadata": {},
   "outputs": [],
   "source": [
    "def get_change(change):\n",
    "    if change == \"Downregulated\":\n",
    "        return 0\n",
    "    elif change == \"Nondifferential\":\n",
    "        return 1\n",
    "    elif change == \"Upregulated\":\n",
    "        return 2\n",
    "    else:\n",
    "        return \"Remove this one from the dataset\"\n",
    "\n",
    "ARPE_cleaned_dataset[\"Numeric_Change\"] = ARPE_cleaned_dataset[\"Change\"].apply(get_change)\n",
    "\n",
    "def get_biotype(biotype):\n",
    "    if biotype == \"protein_coding\":\n",
    "        return 1\n",
    "    else:\n",
    "        return 0\n",
    "\n",
    "ARPE_cleaned_dataset[\"Numeric_Biotype\"] = ARPE_cleaned_dataset[\"Biotype\"].apply(get_biotype)\n",
    "\n",
    "def get_chromosome(Chr):\n",
    "    if Chr == \"X\": \n",
    "        return 0\n",
    "    elif Chr == \"Y\": \n",
    "        return 0\n",
    "    elif Chr == \"1\": \n",
    "        return 0\n",
    "    elif Chr == \"2\": \n",
    "        return 0\n",
    "    elif Chr == \"3\": \n",
    "        return 0\n",
    "    elif Chr == \"4\": \n",
    "        return 0\n",
    "    elif Chr == \"5\": \n",
    "        return 0\n",
    "    elif Chr == \"6\": \n",
    "        return 0\n",
    "    elif Chr == \"7\": \n",
    "        return 0\n",
    "    elif Chr == \"8\": \n",
    "        return 0\n",
    "    elif Chr == \"9\": \n",
    "        return 0\n",
    "    elif Chr == \"10\": \n",
    "        return 0\n",
    "    elif Chr == \"11\": \n",
    "        return 0\n",
    "    elif Chr == \"12\": \n",
    "        return 0\n",
    "    elif Chr == \"13\": \n",
    "        return 0\n",
    "    elif Chr == \"14\": \n",
    "        return 0\n",
    "    elif Chr == \"15\": \n",
    "        return 0\n",
    "    elif Chr == \"16\": \n",
    "        return 0\n",
    "    elif Chr == \"17\": \n",
    "        return 0\n",
    "    elif Chr == \"18\": \n",
    "        return 0\n",
    "    elif Chr == \"19\": \n",
    "        return 0\n",
    "    elif Chr == \"20\": \n",
    "        return 0\n",
    "    elif Chr == \"21\": \n",
    "        return 0\n",
    "    elif Chr == \"22\": \n",
    "        return 0\n",
    "    else:\n",
    "        return 1\n",
    "\n",
    "ARPE_cleaned_dataset[\"Numeric_Chr\"] = ARPE_cleaned_dataset[\"Chr\"].apply(get_chromosome)"
   ]
  },
  {
   "cell_type": "code",
   "execution_count": 8,
   "metadata": {
    "scrolled": true
   },
   "outputs": [
    {
     "data": {
      "text/html": [
       "<div>\n",
       "<style scoped>\n",
       "    .dataframe tbody tr th:only-of-type {\n",
       "        vertical-align: middle;\n",
       "    }\n",
       "\n",
       "    .dataframe tbody tr th {\n",
       "        vertical-align: top;\n",
       "    }\n",
       "\n",
       "    .dataframe thead th {\n",
       "        text-align: right;\n",
       "    }\n",
       "</style>\n",
       "<table border=\"1\" class=\"dataframe\">\n",
       "  <thead>\n",
       "    <tr style=\"text-align: right;\">\n",
       "      <th></th>\n",
       "      <th>Change</th>\n",
       "      <th>Name</th>\n",
       "      <th>Biotype</th>\n",
       "      <th>Chr</th>\n",
       "      <th>Length</th>\n",
       "      <th>Exonic Length</th>\n",
       "      <th>TSS_Downregulated</th>\n",
       "      <th>Downstream_Promoter_Downregulated</th>\n",
       "      <th>Gene_Body_Downregulated</th>\n",
       "      <th>Upstream_Promoter_Downregulated</th>\n",
       "      <th>...</th>\n",
       "      <th>Downstream_Promoter_Nondifferential</th>\n",
       "      <th>Gene_Body_Nondifferential</th>\n",
       "      <th>Upstream_Promoter_Nondifferential</th>\n",
       "      <th>TSS_Upregulated</th>\n",
       "      <th>Downstream_Promoter_Upregulated</th>\n",
       "      <th>Gene_Body_Upregulated</th>\n",
       "      <th>Upstream_Promoter_Upregulated</th>\n",
       "      <th>Numeric_Change</th>\n",
       "      <th>Numeric_Biotype</th>\n",
       "      <th>Numeric_Chr</th>\n",
       "    </tr>\n",
       "    <tr>\n",
       "      <th>Ensembl_ID</th>\n",
       "      <th></th>\n",
       "      <th></th>\n",
       "      <th></th>\n",
       "      <th></th>\n",
       "      <th></th>\n",
       "      <th></th>\n",
       "      <th></th>\n",
       "      <th></th>\n",
       "      <th></th>\n",
       "      <th></th>\n",
       "      <th></th>\n",
       "      <th></th>\n",
       "      <th></th>\n",
       "      <th></th>\n",
       "      <th></th>\n",
       "      <th></th>\n",
       "      <th></th>\n",
       "      <th></th>\n",
       "      <th></th>\n",
       "      <th></th>\n",
       "      <th></th>\n",
       "    </tr>\n",
       "  </thead>\n",
       "  <tbody>\n",
       "    <tr>\n",
       "      <th>ENSG00000000003</th>\n",
       "      <td>Downregulated</td>\n",
       "      <td>TSPAN6</td>\n",
       "      <td>protein_coding</td>\n",
       "      <td>X</td>\n",
       "      <td>9996.0</td>\n",
       "      <td>3796.0</td>\n",
       "      <td>0.0</td>\n",
       "      <td>0.0</td>\n",
       "      <td>0.0</td>\n",
       "      <td>0.0</td>\n",
       "      <td>...</td>\n",
       "      <td>0.0</td>\n",
       "      <td>0.0</td>\n",
       "      <td>0.0</td>\n",
       "      <td>0.0</td>\n",
       "      <td>0.0</td>\n",
       "      <td>0.0</td>\n",
       "      <td>0.0</td>\n",
       "      <td>0</td>\n",
       "      <td>1</td>\n",
       "      <td>0</td>\n",
       "    </tr>\n",
       "    <tr>\n",
       "      <th>ENSG00000000419</th>\n",
       "      <td>Nondifferential</td>\n",
       "      <td>DPM1</td>\n",
       "      <td>protein_coding</td>\n",
       "      <td>20</td>\n",
       "      <td>23689.0</td>\n",
       "      <td>1161.0</td>\n",
       "      <td>0.0</td>\n",
       "      <td>0.0</td>\n",
       "      <td>0.0</td>\n",
       "      <td>0.0</td>\n",
       "      <td>...</td>\n",
       "      <td>0.0</td>\n",
       "      <td>0.0</td>\n",
       "      <td>0.0</td>\n",
       "      <td>0.0</td>\n",
       "      <td>0.0</td>\n",
       "      <td>1.0</td>\n",
       "      <td>0.0</td>\n",
       "      <td>1</td>\n",
       "      <td>1</td>\n",
       "      <td>0</td>\n",
       "    </tr>\n",
       "    <tr>\n",
       "      <th>ENSG00000000457</th>\n",
       "      <td>Nondifferential</td>\n",
       "      <td>SCYL3</td>\n",
       "      <td>protein_coding</td>\n",
       "      <td>1</td>\n",
       "      <td>44322.0</td>\n",
       "      <td>6364.0</td>\n",
       "      <td>0.0</td>\n",
       "      <td>0.0</td>\n",
       "      <td>0.0</td>\n",
       "      <td>0.0</td>\n",
       "      <td>...</td>\n",
       "      <td>0.0</td>\n",
       "      <td>1.0</td>\n",
       "      <td>0.0</td>\n",
       "      <td>0.0</td>\n",
       "      <td>0.0</td>\n",
       "      <td>1.0</td>\n",
       "      <td>0.0</td>\n",
       "      <td>1</td>\n",
       "      <td>1</td>\n",
       "      <td>0</td>\n",
       "    </tr>\n",
       "    <tr>\n",
       "      <th>ENSG00000000460</th>\n",
       "      <td>Nondifferential</td>\n",
       "      <td>C1orf112</td>\n",
       "      <td>protein_coding</td>\n",
       "      <td>1</td>\n",
       "      <td>58672.0</td>\n",
       "      <td>4355.0</td>\n",
       "      <td>0.0</td>\n",
       "      <td>0.0</td>\n",
       "      <td>0.0</td>\n",
       "      <td>0.0</td>\n",
       "      <td>...</td>\n",
       "      <td>0.0</td>\n",
       "      <td>4.0</td>\n",
       "      <td>0.0</td>\n",
       "      <td>0.0</td>\n",
       "      <td>0.0</td>\n",
       "      <td>2.0</td>\n",
       "      <td>0.0</td>\n",
       "      <td>1</td>\n",
       "      <td>1</td>\n",
       "      <td>0</td>\n",
       "    </tr>\n",
       "    <tr>\n",
       "      <th>ENSG00000000971</th>\n",
       "      <td>Upregulated</td>\n",
       "      <td>CFH</td>\n",
       "      <td>protein_coding</td>\n",
       "      <td>1</td>\n",
       "      <td>95627.0</td>\n",
       "      <td>4127.0</td>\n",
       "      <td>0.0</td>\n",
       "      <td>0.0</td>\n",
       "      <td>0.0</td>\n",
       "      <td>0.0</td>\n",
       "      <td>...</td>\n",
       "      <td>1.0</td>\n",
       "      <td>1.0</td>\n",
       "      <td>0.0</td>\n",
       "      <td>0.0</td>\n",
       "      <td>0.0</td>\n",
       "      <td>0.0</td>\n",
       "      <td>0.0</td>\n",
       "      <td>2</td>\n",
       "      <td>1</td>\n",
       "      <td>0</td>\n",
       "    </tr>\n",
       "  </tbody>\n",
       "</table>\n",
       "<p>5 rows × 21 columns</p>\n",
       "</div>"
      ],
      "text/plain": [
       "                          Change      Name         Biotype Chr   Length  \\\n",
       "Ensembl_ID                                                                \n",
       "ENSG00000000003    Downregulated    TSPAN6  protein_coding   X   9996.0   \n",
       "ENSG00000000419  Nondifferential      DPM1  protein_coding  20  23689.0   \n",
       "ENSG00000000457  Nondifferential     SCYL3  protein_coding   1  44322.0   \n",
       "ENSG00000000460  Nondifferential  C1orf112  protein_coding   1  58672.0   \n",
       "ENSG00000000971      Upregulated       CFH  protein_coding   1  95627.0   \n",
       "\n",
       "                 Exonic Length  TSS_Downregulated  \\\n",
       "Ensembl_ID                                          \n",
       "ENSG00000000003         3796.0                0.0   \n",
       "ENSG00000000419         1161.0                0.0   \n",
       "ENSG00000000457         6364.0                0.0   \n",
       "ENSG00000000460         4355.0                0.0   \n",
       "ENSG00000000971         4127.0                0.0   \n",
       "\n",
       "                 Downstream_Promoter_Downregulated  Gene_Body_Downregulated  \\\n",
       "Ensembl_ID                                                                    \n",
       "ENSG00000000003                                0.0                      0.0   \n",
       "ENSG00000000419                                0.0                      0.0   \n",
       "ENSG00000000457                                0.0                      0.0   \n",
       "ENSG00000000460                                0.0                      0.0   \n",
       "ENSG00000000971                                0.0                      0.0   \n",
       "\n",
       "                 Upstream_Promoter_Downregulated     ...       \\\n",
       "Ensembl_ID                                           ...        \n",
       "ENSG00000000003                              0.0     ...        \n",
       "ENSG00000000419                              0.0     ...        \n",
       "ENSG00000000457                              0.0     ...        \n",
       "ENSG00000000460                              0.0     ...        \n",
       "ENSG00000000971                              0.0     ...        \n",
       "\n",
       "                 Downstream_Promoter_Nondifferential  \\\n",
       "Ensembl_ID                                             \n",
       "ENSG00000000003                                  0.0   \n",
       "ENSG00000000419                                  0.0   \n",
       "ENSG00000000457                                  0.0   \n",
       "ENSG00000000460                                  0.0   \n",
       "ENSG00000000971                                  1.0   \n",
       "\n",
       "                 Gene_Body_Nondifferential  Upstream_Promoter_Nondifferential  \\\n",
       "Ensembl_ID                                                                      \n",
       "ENSG00000000003                        0.0                                0.0   \n",
       "ENSG00000000419                        0.0                                0.0   \n",
       "ENSG00000000457                        1.0                                0.0   \n",
       "ENSG00000000460                        4.0                                0.0   \n",
       "ENSG00000000971                        1.0                                0.0   \n",
       "\n",
       "                 TSS_Upregulated  Downstream_Promoter_Upregulated  \\\n",
       "Ensembl_ID                                                          \n",
       "ENSG00000000003              0.0                              0.0   \n",
       "ENSG00000000419              0.0                              0.0   \n",
       "ENSG00000000457              0.0                              0.0   \n",
       "ENSG00000000460              0.0                              0.0   \n",
       "ENSG00000000971              0.0                              0.0   \n",
       "\n",
       "                 Gene_Body_Upregulated  Upstream_Promoter_Upregulated  \\\n",
       "Ensembl_ID                                                              \n",
       "ENSG00000000003                    0.0                            0.0   \n",
       "ENSG00000000419                    1.0                            0.0   \n",
       "ENSG00000000457                    1.0                            0.0   \n",
       "ENSG00000000460                    2.0                            0.0   \n",
       "ENSG00000000971                    0.0                            0.0   \n",
       "\n",
       "                 Numeric_Change  Numeric_Biotype  Numeric_Chr  \n",
       "Ensembl_ID                                                     \n",
       "ENSG00000000003               0                1            0  \n",
       "ENSG00000000419               1                1            0  \n",
       "ENSG00000000457               1                1            0  \n",
       "ENSG00000000460               1                1            0  \n",
       "ENSG00000000971               2                1            0  \n",
       "\n",
       "[5 rows x 21 columns]"
      ]
     },
     "execution_count": 8,
     "metadata": {},
     "output_type": "execute_result"
    }
   ],
   "source": [
    "ARPE_cleaned_dataset.head()"
   ]
  },
  {
   "cell_type": "code",
   "execution_count": 9,
   "metadata": {},
   "outputs": [
    {
     "data": {
      "text/html": [
       "<div>\n",
       "<style scoped>\n",
       "    .dataframe tbody tr th:only-of-type {\n",
       "        vertical-align: middle;\n",
       "    }\n",
       "\n",
       "    .dataframe tbody tr th {\n",
       "        vertical-align: top;\n",
       "    }\n",
       "\n",
       "    .dataframe thead th {\n",
       "        text-align: right;\n",
       "    }\n",
       "</style>\n",
       "<table border=\"1\" class=\"dataframe\">\n",
       "  <thead>\n",
       "    <tr style=\"text-align: right;\">\n",
       "      <th></th>\n",
       "      <th>Length</th>\n",
       "      <th>Exonic Length</th>\n",
       "      <th>TSS_Downregulated</th>\n",
       "      <th>Downstream_Promoter_Downregulated</th>\n",
       "      <th>Gene_Body_Downregulated</th>\n",
       "      <th>Upstream_Promoter_Downregulated</th>\n",
       "      <th>TSS_Nondifferential</th>\n",
       "      <th>Downstream_Promoter_Nondifferential</th>\n",
       "      <th>Gene_Body_Nondifferential</th>\n",
       "      <th>Upstream_Promoter_Nondifferential</th>\n",
       "      <th>TSS_Upregulated</th>\n",
       "      <th>Downstream_Promoter_Upregulated</th>\n",
       "      <th>Gene_Body_Upregulated</th>\n",
       "      <th>Upstream_Promoter_Upregulated</th>\n",
       "      <th>Numeric_Change</th>\n",
       "      <th>Numeric_Biotype</th>\n",
       "      <th>Numeric_Chr</th>\n",
       "    </tr>\n",
       "  </thead>\n",
       "  <tbody>\n",
       "    <tr>\n",
       "      <th>count</th>\n",
       "      <td>1.459900e+04</td>\n",
       "      <td>14599.000000</td>\n",
       "      <td>14599.000000</td>\n",
       "      <td>14599.000000</td>\n",
       "      <td>14599.000000</td>\n",
       "      <td>14599.000000</td>\n",
       "      <td>14599.000000</td>\n",
       "      <td>14599.000000</td>\n",
       "      <td>14599.000000</td>\n",
       "      <td>14599.000000</td>\n",
       "      <td>14599.000000</td>\n",
       "      <td>14599.000000</td>\n",
       "      <td>14599.000000</td>\n",
       "      <td>14599.000000</td>\n",
       "      <td>14599.000000</td>\n",
       "      <td>14599.000000</td>\n",
       "      <td>14599.000000</td>\n",
       "    </tr>\n",
       "    <tr>\n",
       "      <th>mean</th>\n",
       "      <td>6.280085e+04</td>\n",
       "      <td>3476.985684</td>\n",
       "      <td>0.002671</td>\n",
       "      <td>0.010823</td>\n",
       "      <td>0.136105</td>\n",
       "      <td>0.012604</td>\n",
       "      <td>0.049387</td>\n",
       "      <td>0.205425</td>\n",
       "      <td>1.644702</td>\n",
       "      <td>0.224741</td>\n",
       "      <td>0.110419</td>\n",
       "      <td>0.342147</td>\n",
       "      <td>1.900267</td>\n",
       "      <td>0.330708</td>\n",
       "      <td>1.126379</td>\n",
       "      <td>0.769094</td>\n",
       "      <td>0.002055</td>\n",
       "    </tr>\n",
       "    <tr>\n",
       "      <th>std</th>\n",
       "      <td>1.150453e+05</td>\n",
       "      <td>2869.609131</td>\n",
       "      <td>0.051618</td>\n",
       "      <td>0.104787</td>\n",
       "      <td>0.558936</td>\n",
       "      <td>0.111560</td>\n",
       "      <td>0.234009</td>\n",
       "      <td>0.495142</td>\n",
       "      <td>3.781105</td>\n",
       "      <td>0.530842</td>\n",
       "      <td>0.371804</td>\n",
       "      <td>0.728718</td>\n",
       "      <td>4.845714</td>\n",
       "      <td>0.730941</td>\n",
       "      <td>0.551861</td>\n",
       "      <td>0.421427</td>\n",
       "      <td>0.045286</td>\n",
       "    </tr>\n",
       "    <tr>\n",
       "      <th>min</th>\n",
       "      <td>4.800000e+01</td>\n",
       "      <td>48.000000</td>\n",
       "      <td>0.000000</td>\n",
       "      <td>0.000000</td>\n",
       "      <td>0.000000</td>\n",
       "      <td>0.000000</td>\n",
       "      <td>0.000000</td>\n",
       "      <td>0.000000</td>\n",
       "      <td>0.000000</td>\n",
       "      <td>0.000000</td>\n",
       "      <td>0.000000</td>\n",
       "      <td>0.000000</td>\n",
       "      <td>0.000000</td>\n",
       "      <td>0.000000</td>\n",
       "      <td>0.000000</td>\n",
       "      <td>0.000000</td>\n",
       "      <td>0.000000</td>\n",
       "    </tr>\n",
       "    <tr>\n",
       "      <th>25%</th>\n",
       "      <td>9.014000e+03</td>\n",
       "      <td>1460.000000</td>\n",
       "      <td>0.000000</td>\n",
       "      <td>0.000000</td>\n",
       "      <td>0.000000</td>\n",
       "      <td>0.000000</td>\n",
       "      <td>0.000000</td>\n",
       "      <td>0.000000</td>\n",
       "      <td>0.000000</td>\n",
       "      <td>0.000000</td>\n",
       "      <td>0.000000</td>\n",
       "      <td>0.000000</td>\n",
       "      <td>0.000000</td>\n",
       "      <td>0.000000</td>\n",
       "      <td>1.000000</td>\n",
       "      <td>1.000000</td>\n",
       "      <td>0.000000</td>\n",
       "    </tr>\n",
       "    <tr>\n",
       "      <th>50%</th>\n",
       "      <td>2.629700e+04</td>\n",
       "      <td>2794.000000</td>\n",
       "      <td>0.000000</td>\n",
       "      <td>0.000000</td>\n",
       "      <td>0.000000</td>\n",
       "      <td>0.000000</td>\n",
       "      <td>0.000000</td>\n",
       "      <td>0.000000</td>\n",
       "      <td>0.000000</td>\n",
       "      <td>0.000000</td>\n",
       "      <td>0.000000</td>\n",
       "      <td>0.000000</td>\n",
       "      <td>0.000000</td>\n",
       "      <td>0.000000</td>\n",
       "      <td>1.000000</td>\n",
       "      <td>1.000000</td>\n",
       "      <td>0.000000</td>\n",
       "    </tr>\n",
       "    <tr>\n",
       "      <th>75%</th>\n",
       "      <td>6.702300e+04</td>\n",
       "      <td>4676.000000</td>\n",
       "      <td>0.000000</td>\n",
       "      <td>0.000000</td>\n",
       "      <td>0.000000</td>\n",
       "      <td>0.000000</td>\n",
       "      <td>0.000000</td>\n",
       "      <td>0.000000</td>\n",
       "      <td>2.000000</td>\n",
       "      <td>0.000000</td>\n",
       "      <td>0.000000</td>\n",
       "      <td>0.000000</td>\n",
       "      <td>2.000000</td>\n",
       "      <td>0.000000</td>\n",
       "      <td>1.000000</td>\n",
       "      <td>1.000000</td>\n",
       "      <td>0.000000</td>\n",
       "    </tr>\n",
       "    <tr>\n",
       "      <th>max</th>\n",
       "      <td>2.092292e+06</td>\n",
       "      <td>34526.000000</td>\n",
       "      <td>1.000000</td>\n",
       "      <td>2.000000</td>\n",
       "      <td>15.000000</td>\n",
       "      <td>1.000000</td>\n",
       "      <td>4.000000</td>\n",
       "      <td>7.000000</td>\n",
       "      <td>66.000000</td>\n",
       "      <td>8.000000</td>\n",
       "      <td>6.000000</td>\n",
       "      <td>11.000000</td>\n",
       "      <td>106.000000</td>\n",
       "      <td>11.000000</td>\n",
       "      <td>2.000000</td>\n",
       "      <td>1.000000</td>\n",
       "      <td>1.000000</td>\n",
       "    </tr>\n",
       "  </tbody>\n",
       "</table>\n",
       "</div>"
      ],
      "text/plain": [
       "             Length  Exonic Length  TSS_Downregulated  \\\n",
       "count  1.459900e+04   14599.000000       14599.000000   \n",
       "mean   6.280085e+04    3476.985684           0.002671   \n",
       "std    1.150453e+05    2869.609131           0.051618   \n",
       "min    4.800000e+01      48.000000           0.000000   \n",
       "25%    9.014000e+03    1460.000000           0.000000   \n",
       "50%    2.629700e+04    2794.000000           0.000000   \n",
       "75%    6.702300e+04    4676.000000           0.000000   \n",
       "max    2.092292e+06   34526.000000           1.000000   \n",
       "\n",
       "       Downstream_Promoter_Downregulated  Gene_Body_Downregulated  \\\n",
       "count                       14599.000000             14599.000000   \n",
       "mean                            0.010823                 0.136105   \n",
       "std                             0.104787                 0.558936   \n",
       "min                             0.000000                 0.000000   \n",
       "25%                             0.000000                 0.000000   \n",
       "50%                             0.000000                 0.000000   \n",
       "75%                             0.000000                 0.000000   \n",
       "max                             2.000000                15.000000   \n",
       "\n",
       "       Upstream_Promoter_Downregulated  TSS_Nondifferential  \\\n",
       "count                     14599.000000         14599.000000   \n",
       "mean                          0.012604             0.049387   \n",
       "std                           0.111560             0.234009   \n",
       "min                           0.000000             0.000000   \n",
       "25%                           0.000000             0.000000   \n",
       "50%                           0.000000             0.000000   \n",
       "75%                           0.000000             0.000000   \n",
       "max                           1.000000             4.000000   \n",
       "\n",
       "       Downstream_Promoter_Nondifferential  Gene_Body_Nondifferential  \\\n",
       "count                         14599.000000               14599.000000   \n",
       "mean                              0.205425                   1.644702   \n",
       "std                               0.495142                   3.781105   \n",
       "min                               0.000000                   0.000000   \n",
       "25%                               0.000000                   0.000000   \n",
       "50%                               0.000000                   0.000000   \n",
       "75%                               0.000000                   2.000000   \n",
       "max                               7.000000                  66.000000   \n",
       "\n",
       "       Upstream_Promoter_Nondifferential  TSS_Upregulated  \\\n",
       "count                       14599.000000     14599.000000   \n",
       "mean                            0.224741         0.110419   \n",
       "std                             0.530842         0.371804   \n",
       "min                             0.000000         0.000000   \n",
       "25%                             0.000000         0.000000   \n",
       "50%                             0.000000         0.000000   \n",
       "75%                             0.000000         0.000000   \n",
       "max                             8.000000         6.000000   \n",
       "\n",
       "       Downstream_Promoter_Upregulated  Gene_Body_Upregulated  \\\n",
       "count                     14599.000000           14599.000000   \n",
       "mean                          0.342147               1.900267   \n",
       "std                           0.728718               4.845714   \n",
       "min                           0.000000               0.000000   \n",
       "25%                           0.000000               0.000000   \n",
       "50%                           0.000000               0.000000   \n",
       "75%                           0.000000               2.000000   \n",
       "max                          11.000000             106.000000   \n",
       "\n",
       "       Upstream_Promoter_Upregulated  Numeric_Change  Numeric_Biotype  \\\n",
       "count                   14599.000000    14599.000000     14599.000000   \n",
       "mean                        0.330708        1.126379         0.769094   \n",
       "std                         0.730941        0.551861         0.421427   \n",
       "min                         0.000000        0.000000         0.000000   \n",
       "25%                         0.000000        1.000000         1.000000   \n",
       "50%                         0.000000        1.000000         1.000000   \n",
       "75%                         0.000000        1.000000         1.000000   \n",
       "max                        11.000000        2.000000         1.000000   \n",
       "\n",
       "        Numeric_Chr  \n",
       "count  14599.000000  \n",
       "mean       0.002055  \n",
       "std        0.045286  \n",
       "min        0.000000  \n",
       "25%        0.000000  \n",
       "50%        0.000000  \n",
       "75%        0.000000  \n",
       "max        1.000000  "
      ]
     },
     "execution_count": 9,
     "metadata": {},
     "output_type": "execute_result"
    }
   ],
   "source": [
    "ARPE_cleaned_dataset.describe()"
   ]
  },
  {
   "cell_type": "code",
   "execution_count": 10,
   "metadata": {},
   "outputs": [
    {
     "data": {
      "text/plain": [
       "array(['Change', 'Name', 'Biotype', 'Chr', 'Length', 'Exonic Length',\n",
       "       'TSS_Downregulated', 'Downstream_Promoter_Downregulated',\n",
       "       'Gene_Body_Downregulated', 'Upstream_Promoter_Downregulated',\n",
       "       'TSS_Nondifferential', 'Downstream_Promoter_Nondifferential',\n",
       "       'Gene_Body_Nondifferential', 'Upstream_Promoter_Nondifferential',\n",
       "       'TSS_Upregulated', 'Downstream_Promoter_Upregulated',\n",
       "       'Gene_Body_Upregulated', 'Upstream_Promoter_Upregulated',\n",
       "       'Numeric_Change', 'Numeric_Biotype', 'Numeric_Chr'], dtype=object)"
      ]
     },
     "execution_count": 10,
     "metadata": {},
     "output_type": "execute_result"
    }
   ],
   "source": [
    "ARPE_cleaned_dataset.columns.values"
   ]
  },
  {
   "cell_type": "code",
   "execution_count": 11,
   "metadata": {},
   "outputs": [],
   "source": [
    "ARPE_X = np.array(ARPE_cleaned_dataset[['Length', 'Exonic Length',\n",
    "                     'TSS_Downregulated', 'Downstream_Promoter_Downregulated',\n",
    "                     'Gene_Body_Downregulated', 'Upstream_Promoter_Downregulated',\n",
    "                     'TSS_Nondifferential', 'Downstream_Promoter_Nondifferential',\n",
    "                     'Gene_Body_Nondifferential', 'Upstream_Promoter_Nondifferential',\n",
    "                     'TSS_Upregulated', 'Downstream_Promoter_Upregulated',\n",
    "                     'Gene_Body_Upregulated', 'Upstream_Promoter_Upregulated','Numeric_Biotype', 'Numeric_Chr']])\\\n",
    "\n",
    "ARPE_y = np.array(ARPE_cleaned_dataset[[\"Numeric_Change\"]])"
   ]
  },
  {
   "cell_type": "code",
   "execution_count": 12,
   "metadata": {},
   "outputs": [],
   "source": [
    "scaled_ARPE_X = scale(ARPE_X)"
   ]
  },
  {
   "cell_type": "code",
   "execution_count": 13,
   "metadata": {},
   "outputs": [],
   "source": [
    "X_train, X_test, y_train, y_test = train_test_split(scaled_ARPE_X, ARPE_y, random_state=1, test_size=0.8) "
   ]
  },
  {
   "cell_type": "code",
   "execution_count": 14,
   "metadata": {},
   "outputs": [
    {
     "name": "stdout",
     "output_type": "stream",
     "text": [
      "2919\n",
      "2919\n",
      "11680\n",
      "11680\n"
     ]
    }
   ],
   "source": [
    "print(len(X_train))\n",
    "print(len(y_train))\n",
    "print(len(X_test))\n",
    "print(len(y_test))"
   ]
  },
  {
   "cell_type": "markdown",
   "metadata": {},
   "source": [
    "Now I am going to try to figure out a good value for C in using an SVM. I recall from the previous ones we run, a bad value of C doesn't decrease your accuracy that much. I am going to only use the training data because it takes too long to run with all ~15,000 genes. I will run a test-train split and a cross-val once I find a good value of C. "
   ]
  },
  {
   "cell_type": "code",
   "execution_count": 15,
   "metadata": {},
   "outputs": [],
   "source": [
    "## It turns out that this gives annoying warnings if your y value is a 2-D array. The .ravel() function makes it a 1-D array.\n",
    "## I have put pound signs through a few parts and saved the results in csv format so that if you run the whole notebook\n",
    "## with the restart and run all option, it will not take more than half an hour to complete. \n",
    "\n",
    "# Cs = np.arange(1,502,5)\n",
    "# Accuracies = np.zeros(Cs.shape[0])\n",
    "# for i,C in enumerate(Cs): \n",
    "#     model_numbers = svm.SVC(kernel='rbf', C = C,gamma='scale')\n",
    "#     scores = cross_val_score(estimator = model_numbers, X = X_train, y = y_train.ravel(), cv=5, scoring='accuracy')    \n",
    "#     Accuracies[i]  = scores.mean()\n",
    "        \n",
    "# plt.plot(Cs,Accuracies)\n",
    "# plt.show()\n",
    "# ARPE_SVM_Cs = pd.DataFrame({\"C_value\": Cs, \"Accuracy\": Accuracies}) \n",
    "# ARPE_SVM_Cs.to_csv(output_path+\"ARPE_SVM_C_values.csv\")"
   ]
  },
  {
   "cell_type": "code",
   "execution_count": 16,
   "metadata": {
    "scrolled": true
   },
   "outputs": [
    {
     "data": {
      "text/html": [
       "<div>\n",
       "<style scoped>\n",
       "    .dataframe tbody tr th:only-of-type {\n",
       "        vertical-align: middle;\n",
       "    }\n",
       "\n",
       "    .dataframe tbody tr th {\n",
       "        vertical-align: top;\n",
       "    }\n",
       "\n",
       "    .dataframe thead th {\n",
       "        text-align: right;\n",
       "    }\n",
       "</style>\n",
       "<table border=\"1\" class=\"dataframe\">\n",
       "  <thead>\n",
       "    <tr style=\"text-align: right;\">\n",
       "      <th></th>\n",
       "      <th>C_value</th>\n",
       "      <th>Accuracy</th>\n",
       "    </tr>\n",
       "  </thead>\n",
       "  <tbody>\n",
       "    <tr>\n",
       "      <th>0</th>\n",
       "      <td>1</td>\n",
       "      <td>0.689622</td>\n",
       "    </tr>\n",
       "    <tr>\n",
       "      <th>1</th>\n",
       "      <td>6</td>\n",
       "      <td>0.684481</td>\n",
       "    </tr>\n",
       "    <tr>\n",
       "      <th>2</th>\n",
       "      <td>11</td>\n",
       "      <td>0.680374</td>\n",
       "    </tr>\n",
       "    <tr>\n",
       "      <th>3</th>\n",
       "      <td>16</td>\n",
       "      <td>0.677635</td>\n",
       "    </tr>\n",
       "    <tr>\n",
       "      <th>4</th>\n",
       "      <td>21</td>\n",
       "      <td>0.674901</td>\n",
       "    </tr>\n",
       "  </tbody>\n",
       "</table>\n",
       "</div>"
      ],
      "text/plain": [
       "   C_value  Accuracy\n",
       "0        1  0.689622\n",
       "1        6  0.684481\n",
       "2       11  0.680374\n",
       "3       16  0.677635\n",
       "4       21  0.674901"
      ]
     },
     "execution_count": 16,
     "metadata": {},
     "output_type": "execute_result"
    }
   ],
   "source": [
    "ARPE_SVM_Cs = pd.read_csv(output_path+\"ARPE_SVM_C_values.csv\", index_col = 0)\n",
    "ARPE_SVM_Cs.head()"
   ]
  },
  {
   "cell_type": "code",
   "execution_count": 17,
   "metadata": {},
   "outputs": [
    {
     "data": {
      "image/png": "[encoded data removed]",
      "text/plain": [
       "<Figure size 432x288 with 1 Axes>"
      ]
     },
     "metadata": {
      "needs_background": "light"
     },
     "output_type": "display_data"
    }
   ],
   "source": [
    "\n",
    "plt.plot(ARPE_SVM_Cs[[\"C_value\"]], ARPE_SVM_Cs[[\"Accuracy\"]])\n",
    "plt.show()"
   ]
  },
  {
   "cell_type": "markdown",
   "metadata": {},
   "source": [
    "It looks like the low numbers give the highest accuracy. I am going to repeat this step with values of C between 0 and 5."
   ]
  },
  {
   "cell_type": "code",
   "execution_count": 18,
   "metadata": {},
   "outputs": [],
   "source": [
    "## It looks like the low numbers are the best ones. I am going to try this again with numbers between 0 and 5.\n",
    "\n",
    "# Cs = np.arange(0.1,5,0.1)\n",
    "# Accuracies = np.zeros(Cs.shape[0])\n",
    "# for i,C in enumerate(Cs): \n",
    "#     model_numbers = svm.SVC(kernel='rbf', C = C,gamma='scale')\n",
    "#     scores = cross_val_score(estimator = model_numbers, X = X_train, y = y_train.ravel(), cv=5, scoring='accuracy')    \n",
    "#     Accuracies[i]  = scores.mean()\n",
    "        \n",
    "# plt.plot(Cs,Accuracies)\n",
    "# plt.show()\n",
    "# ARPE_SVM_Cs = pd.DataFrame({\"C_value\": Cs, \"Accuracy\": Accuracies}) \n",
    "# ARPE_SVM_Cs.to_csv(output_path+\"ARPE_SVM_C_values_Concentrated.csv\")"
   ]
  },
  {
   "cell_type": "code",
   "execution_count": 19,
   "metadata": {},
   "outputs": [
    {
     "name": "stdout",
     "output_type": "stream",
     "text": [
      "Maximum Accuracy is: 0.6920195443108341 for C = 0.7\n"
     ]
    },
    {
     "data": {
      "image/png": "[encoded data removed]",
      "text/plain": [
       "<Figure size 432x288 with 1 Axes>"
      ]
     },
     "metadata": {
      "needs_background": "light"
     },
     "output_type": "display_data"
    }
   ],
   "source": [
    "ARPE_SVM_Cs_concentrated = pd.read_csv(output_path+\"ARPE_SVM_C_values_Concentrated.csv\", index_col = 0)\n",
    "#ARPE_SVM_Cs_concentrated.head()\n",
    "max_accuracies = max(ARPE_SVM_Cs_concentrated[\"Accuracy\"])\n",
    "for i,num in enumerate( ARPE_SVM_Cs_concentrated[\"Accuracy\"]):\n",
    "    if num == max_accuracies:\n",
    "        max_c = i*0.1+0.1\n",
    "        print (\"Maximum Accuracy is:\", max_accuracies, \"for C =\", round(max_c, 1))\n",
    "        #This is only going to get the first one, but all after 6 give the same result\n",
    "        break\n",
    "\n",
    "plt.plot(ARPE_SVM_Cs_concentrated[[\"C_value\"]], ARPE_SVM_Cs_concentrated[[\"Accuracy\"]])\n",
    "plt.show()        "
   ]
  },
  {
   "cell_type": "markdown",
   "metadata": {},
   "source": [
    "Even though I did a cross validation using only 1/5 of the genes, I think this value of C should be ok. This is the first time I have seen a value of C below 1 be the highest. The maximum that I got was 0.7."
   ]
  },
  {
   "cell_type": "code",
   "execution_count": 20,
   "metadata": {
    "scrolled": true
   },
   "outputs": [
    {
     "name": "stdout",
     "output_type": "stream",
     "text": [
      "Test on 80%, train on 20% Accuracy =  0.6842465753424658\n",
      "\n",
      "Confusion Matrix:\n",
      "[[   0 1121   30]\n",
      " [   0 7726  189]\n",
      " [   0 2348  266]]\n"
     ]
    }
   ],
   "source": [
    "# Now to see how training on the 1/5 and testing on the 80% performs\n",
    "\n",
    "model_svm = svm.SVC(kernel='rbf',C=0.7,gamma='auto')\n",
    "model_svm.fit(X_train, y_train.ravel())\n",
    "\n",
    "Y_pred = model_svm.predict(X_test)\n",
    "\n",
    "ARPE_test_train_accuracy = metrics.accuracy_score(y_true = y_test.ravel(), y_pred = Y_pred)\n",
    "print('Test on 80%, train on 20% Accuracy = ', ARPE_test_train_accuracy)\n",
    "\n",
    "\n",
    "ARPE_SVM_confusion = metrics.confusion_matrix(y_true = y_test.ravel(), y_pred = Y_pred)\n",
    "print('\\nConfusion Matrix:')\n",
    "print(ARPE_SVM_confusion)\n",
    "#y_pred = model_numbers.predict(X_test)\n",
    "\n",
    "#print(metrics.confusion_matrix(y_true = y_test, y_pred = y_pred))"
   ]
  },
  {
   "cell_type": "code",
   "execution_count": 21,
   "metadata": {},
   "outputs": [
    {
     "name": "stdout",
     "output_type": "stream",
     "text": [
      "5-fold cross validation Accuracy =  0.6885420679937685\n"
     ]
    }
   ],
   "source": [
    "\n",
    "model_numbers = svm.SVC(kernel='rbf', C = 0.7, gamma='scale')\n",
    "scores = cross_val_score(estimator = model_numbers, X = scaled_ARPE_X, y = ARPE_y.ravel(), cv=5, scoring='accuracy')    \n",
    "scores.mean()\n",
    "print('5-fold cross validation Accuracy = ', scores.mean())\n",
    "\n"
   ]
  },
  {
   "cell_type": "code",
   "execution_count": 22,
   "metadata": {},
   "outputs": [
    {
     "data": {
      "text/plain": [
       "(0.6885420679937685, 0.6842465753424658)"
      ]
     },
     "execution_count": 22,
     "metadata": {},
     "output_type": "execute_result"
    }
   ],
   "source": [
    "ARPE_SVM_accuracy_scores = ( scores.mean(), ARPE_test_train_accuracy)\n",
    "ARPE_SVM_accuracy_scores"
   ]
  },
  {
   "cell_type": "markdown",
   "metadata": {},
   "source": [
    "From the confusion matrix, this is total crap. It didn't predict that a single thing was downregulated. Looking at the test data, we had 67.77% nondifferential, 9.85% downregulated and 22.38% upregulated. Bayesian statistics would put guessing any random one correctly at 51.9%. Going up to ~69% accuracy is an improvement, but we have a 0% accuracy of predicting downregulated genes. I think we can only do predictions on ones that have at least one 5hmC peak. If they are all 0, they are probably predicted as nondifferential.\n",
    "\n",
    "I looked at the data, and it looks like a large proportion of the genes have 0 peaks in the promoter and either 0 or 1 peak in the gene body. I think I am going to filter this for genes that have either 1 peaks in the promoter or 2+ peaks in the gene body (or both). "
   ]
  },
  {
   "cell_type": "code",
   "execution_count": 23,
   "metadata": {},
   "outputs": [
    {
     "data": {
      "text/html": [
       "<div>\n",
       "<style scoped>\n",
       "    .dataframe tbody tr th:only-of-type {\n",
       "        vertical-align: middle;\n",
       "    }\n",
       "\n",
       "    .dataframe tbody tr th {\n",
       "        vertical-align: top;\n",
       "    }\n",
       "\n",
       "    .dataframe thead th {\n",
       "        text-align: right;\n",
       "    }\n",
       "</style>\n",
       "<table border=\"1\" class=\"dataframe\">\n",
       "  <thead>\n",
       "    <tr style=\"text-align: right;\">\n",
       "      <th></th>\n",
       "      <th>Change</th>\n",
       "      <th>Name</th>\n",
       "      <th>Biotype</th>\n",
       "      <th>Chr</th>\n",
       "      <th>Length</th>\n",
       "      <th>Exonic Length</th>\n",
       "      <th>TSS_Downregulated</th>\n",
       "      <th>Downstream_Promoter_Downregulated</th>\n",
       "      <th>Gene_Body_Downregulated</th>\n",
       "      <th>Upstream_Promoter_Downregulated</th>\n",
       "      <th>...</th>\n",
       "      <th>Downstream_Promoter_Nondifferential</th>\n",
       "      <th>Gene_Body_Nondifferential</th>\n",
       "      <th>Upstream_Promoter_Nondifferential</th>\n",
       "      <th>TSS_Upregulated</th>\n",
       "      <th>Downstream_Promoter_Upregulated</th>\n",
       "      <th>Gene_Body_Upregulated</th>\n",
       "      <th>Upstream_Promoter_Upregulated</th>\n",
       "      <th>Numeric_Change</th>\n",
       "      <th>Numeric_Biotype</th>\n",
       "      <th>Numeric_Chr</th>\n",
       "    </tr>\n",
       "    <tr>\n",
       "      <th>Ensembl_ID</th>\n",
       "      <th></th>\n",
       "      <th></th>\n",
       "      <th></th>\n",
       "      <th></th>\n",
       "      <th></th>\n",
       "      <th></th>\n",
       "      <th></th>\n",
       "      <th></th>\n",
       "      <th></th>\n",
       "      <th></th>\n",
       "      <th></th>\n",
       "      <th></th>\n",
       "      <th></th>\n",
       "      <th></th>\n",
       "      <th></th>\n",
       "      <th></th>\n",
       "      <th></th>\n",
       "      <th></th>\n",
       "      <th></th>\n",
       "      <th></th>\n",
       "      <th></th>\n",
       "    </tr>\n",
       "  </thead>\n",
       "  <tbody>\n",
       "    <tr>\n",
       "      <th>ENSG00000000003</th>\n",
       "      <td>Downregulated</td>\n",
       "      <td>TSPAN6</td>\n",
       "      <td>protein_coding</td>\n",
       "      <td>X</td>\n",
       "      <td>9996.0</td>\n",
       "      <td>3796.0</td>\n",
       "      <td>0.0</td>\n",
       "      <td>0.0</td>\n",
       "      <td>0.0</td>\n",
       "      <td>0.0</td>\n",
       "      <td>...</td>\n",
       "      <td>0.0</td>\n",
       "      <td>0.0</td>\n",
       "      <td>0.0</td>\n",
       "      <td>0.0</td>\n",
       "      <td>0.0</td>\n",
       "      <td>0.0</td>\n",
       "      <td>0.0</td>\n",
       "      <td>0</td>\n",
       "      <td>1</td>\n",
       "      <td>0</td>\n",
       "    </tr>\n",
       "    <tr>\n",
       "      <th>ENSG00000000419</th>\n",
       "      <td>Nondifferential</td>\n",
       "      <td>DPM1</td>\n",
       "      <td>protein_coding</td>\n",
       "      <td>20</td>\n",
       "      <td>23689.0</td>\n",
       "      <td>1161.0</td>\n",
       "      <td>0.0</td>\n",
       "      <td>0.0</td>\n",
       "      <td>0.0</td>\n",
       "      <td>0.0</td>\n",
       "      <td>...</td>\n",
       "      <td>0.0</td>\n",
       "      <td>0.0</td>\n",
       "      <td>0.0</td>\n",
       "      <td>0.0</td>\n",
       "      <td>0.0</td>\n",
       "      <td>1.0</td>\n",
       "      <td>0.0</td>\n",
       "      <td>1</td>\n",
       "      <td>1</td>\n",
       "      <td>0</td>\n",
       "    </tr>\n",
       "    <tr>\n",
       "      <th>ENSG00000000457</th>\n",
       "      <td>Nondifferential</td>\n",
       "      <td>SCYL3</td>\n",
       "      <td>protein_coding</td>\n",
       "      <td>1</td>\n",
       "      <td>44322.0</td>\n",
       "      <td>6364.0</td>\n",
       "      <td>0.0</td>\n",
       "      <td>0.0</td>\n",
       "      <td>0.0</td>\n",
       "      <td>0.0</td>\n",
       "      <td>...</td>\n",
       "      <td>0.0</td>\n",
       "      <td>1.0</td>\n",
       "      <td>0.0</td>\n",
       "      <td>0.0</td>\n",
       "      <td>0.0</td>\n",
       "      <td>1.0</td>\n",
       "      <td>0.0</td>\n",
       "      <td>1</td>\n",
       "      <td>1</td>\n",
       "      <td>0</td>\n",
       "    </tr>\n",
       "    <tr>\n",
       "      <th>ENSG00000000460</th>\n",
       "      <td>Nondifferential</td>\n",
       "      <td>C1orf112</td>\n",
       "      <td>protein_coding</td>\n",
       "      <td>1</td>\n",
       "      <td>58672.0</td>\n",
       "      <td>4355.0</td>\n",
       "      <td>0.0</td>\n",
       "      <td>0.0</td>\n",
       "      <td>0.0</td>\n",
       "      <td>0.0</td>\n",
       "      <td>...</td>\n",
       "      <td>0.0</td>\n",
       "      <td>4.0</td>\n",
       "      <td>0.0</td>\n",
       "      <td>0.0</td>\n",
       "      <td>0.0</td>\n",
       "      <td>2.0</td>\n",
       "      <td>0.0</td>\n",
       "      <td>1</td>\n",
       "      <td>1</td>\n",
       "      <td>0</td>\n",
       "    </tr>\n",
       "    <tr>\n",
       "      <th>ENSG00000000971</th>\n",
       "      <td>Upregulated</td>\n",
       "      <td>CFH</td>\n",
       "      <td>protein_coding</td>\n",
       "      <td>1</td>\n",
       "      <td>95627.0</td>\n",
       "      <td>4127.0</td>\n",
       "      <td>0.0</td>\n",
       "      <td>0.0</td>\n",
       "      <td>0.0</td>\n",
       "      <td>0.0</td>\n",
       "      <td>...</td>\n",
       "      <td>1.0</td>\n",
       "      <td>1.0</td>\n",
       "      <td>0.0</td>\n",
       "      <td>0.0</td>\n",
       "      <td>0.0</td>\n",
       "      <td>0.0</td>\n",
       "      <td>0.0</td>\n",
       "      <td>2</td>\n",
       "      <td>1</td>\n",
       "      <td>0</td>\n",
       "    </tr>\n",
       "  </tbody>\n",
       "</table>\n",
       "<p>5 rows × 21 columns</p>\n",
       "</div>"
      ],
      "text/plain": [
       "                          Change      Name         Biotype Chr   Length  \\\n",
       "Ensembl_ID                                                                \n",
       "ENSG00000000003    Downregulated    TSPAN6  protein_coding   X   9996.0   \n",
       "ENSG00000000419  Nondifferential      DPM1  protein_coding  20  23689.0   \n",
       "ENSG00000000457  Nondifferential     SCYL3  protein_coding   1  44322.0   \n",
       "ENSG00000000460  Nondifferential  C1orf112  protein_coding   1  58672.0   \n",
       "ENSG00000000971      Upregulated       CFH  protein_coding   1  95627.0   \n",
       "\n",
       "                 Exonic Length  TSS_Downregulated  \\\n",
       "Ensembl_ID                                          \n",
       "ENSG00000000003         3796.0                0.0   \n",
       "ENSG00000000419         1161.0                0.0   \n",
       "ENSG00000000457         6364.0                0.0   \n",
       "ENSG00000000460         4355.0                0.0   \n",
       "ENSG00000000971         4127.0                0.0   \n",
       "\n",
       "                 Downstream_Promoter_Downregulated  Gene_Body_Downregulated  \\\n",
       "Ensembl_ID                                                                    \n",
       "ENSG00000000003                                0.0                      0.0   \n",
       "ENSG00000000419                                0.0                      0.0   \n",
       "ENSG00000000457                                0.0                      0.0   \n",
       "ENSG00000000460                                0.0                      0.0   \n",
       "ENSG00000000971                                0.0                      0.0   \n",
       "\n",
       "                 Upstream_Promoter_Downregulated     ...       \\\n",
       "Ensembl_ID                                           ...        \n",
       "ENSG00000000003                              0.0     ...        \n",
       "ENSG00000000419                              0.0     ...        \n",
       "ENSG00000000457                              0.0     ...        \n",
       "ENSG00000000460                              0.0     ...        \n",
       "ENSG00000000971                              0.0     ...        \n",
       "\n",
       "                 Downstream_Promoter_Nondifferential  \\\n",
       "Ensembl_ID                                             \n",
       "ENSG00000000003                                  0.0   \n",
       "ENSG00000000419                                  0.0   \n",
       "ENSG00000000457                                  0.0   \n",
       "ENSG00000000460                                  0.0   \n",
       "ENSG00000000971                                  1.0   \n",
       "\n",
       "                 Gene_Body_Nondifferential  Upstream_Promoter_Nondifferential  \\\n",
       "Ensembl_ID                                                                      \n",
       "ENSG00000000003                        0.0                                0.0   \n",
       "ENSG00000000419                        0.0                                0.0   \n",
       "ENSG00000000457                        1.0                                0.0   \n",
       "ENSG00000000460                        4.0                                0.0   \n",
       "ENSG00000000971                        1.0                                0.0   \n",
       "\n",
       "                 TSS_Upregulated  Downstream_Promoter_Upregulated  \\\n",
       "Ensembl_ID                                                          \n",
       "ENSG00000000003              0.0                              0.0   \n",
       "ENSG00000000419              0.0                              0.0   \n",
       "ENSG00000000457              0.0                              0.0   \n",
       "ENSG00000000460              0.0                              0.0   \n",
       "ENSG00000000971              0.0                              0.0   \n",
       "\n",
       "                 Gene_Body_Upregulated  Upstream_Promoter_Upregulated  \\\n",
       "Ensembl_ID                                                              \n",
       "ENSG00000000003                    0.0                            0.0   \n",
       "ENSG00000000419                    1.0                            0.0   \n",
       "ENSG00000000457                    1.0                            0.0   \n",
       "ENSG00000000460                    2.0                            0.0   \n",
       "ENSG00000000971                    0.0                            0.0   \n",
       "\n",
       "                 Numeric_Change  Numeric_Biotype  Numeric_Chr  \n",
       "Ensembl_ID                                                     \n",
       "ENSG00000000003               0                1            0  \n",
       "ENSG00000000419               1                1            0  \n",
       "ENSG00000000457               1                1            0  \n",
       "ENSG00000000460               1                1            0  \n",
       "ENSG00000000971               2                1            0  \n",
       "\n",
       "[5 rows x 21 columns]"
      ]
     },
     "execution_count": 23,
     "metadata": {},
     "output_type": "execute_result"
    }
   ],
   "source": [
    "ARPE_cleaned_dataset.head()"
   ]
  },
  {
   "cell_type": "code",
   "execution_count": 24,
   "metadata": {
    "scrolled": true
   },
   "outputs": [
    {
     "data": {
      "text/plain": [
       "array(['Change', 'Name', 'Biotype', 'Chr', 'Length', 'Exonic Length',\n",
       "       'TSS_Downregulated', 'Downstream_Promoter_Downregulated',\n",
       "       'Gene_Body_Downregulated', 'Upstream_Promoter_Downregulated',\n",
       "       'TSS_Nondifferential', 'Downstream_Promoter_Nondifferential',\n",
       "       'Gene_Body_Nondifferential', 'Upstream_Promoter_Nondifferential',\n",
       "       'TSS_Upregulated', 'Downstream_Promoter_Upregulated',\n",
       "       'Gene_Body_Upregulated', 'Upstream_Promoter_Upregulated',\n",
       "       'Numeric_Change', 'Numeric_Biotype', 'Numeric_Chr'], dtype=object)"
      ]
     },
     "execution_count": 24,
     "metadata": {},
     "output_type": "execute_result"
    }
   ],
   "source": [
    "ARPE_cleaned_dataset.columns.values"
   ]
  },
  {
   "cell_type": "code",
   "execution_count": 25,
   "metadata": {},
   "outputs": [],
   "source": [
    "ARPE_cleaned_dataset[\"Gene_Body_Counts\"] = (ARPE_cleaned_dataset[\"Gene_Body_Downregulated\"]+ \n",
    "                                            ARPE_cleaned_dataset[\"Gene_Body_Nondifferential\"] + ARPE_cleaned_dataset[\"Gene_Body_Upregulated\"])\n",
    "\n",
    "ARPE_cleaned_dataset[\"Promoter_Counts\"] = (ARPE_cleaned_dataset[\"TSS_Downregulated\"]+ ARPE_cleaned_dataset[\"Downstream_Promoter_Downregulated\"]+ \n",
    "                                           ARPE_cleaned_dataset[\"Upstream_Promoter_Downregulated\"]+ ARPE_cleaned_dataset[\"TSS_Nondifferential\"]+ \n",
    "                                           ARPE_cleaned_dataset[\"Downstream_Promoter_Nondifferential\"]+ ARPE_cleaned_dataset[\"Upstream_Promoter_Nondifferential\"]+ \n",
    "                                           ARPE_cleaned_dataset[\"TSS_Upregulated\"]+ ARPE_cleaned_dataset[\"Downstream_Promoter_Upregulated\"]+ \n",
    "                                           ARPE_cleaned_dataset[\"Upstream_Promoter_Upregulated\"])\n",
    "\n"
   ]
  },
  {
   "cell_type": "code",
   "execution_count": 26,
   "metadata": {},
   "outputs": [
    {
     "data": {
      "text/html": [
       "<div>\n",
       "<style scoped>\n",
       "    .dataframe tbody tr th:only-of-type {\n",
       "        vertical-align: middle;\n",
       "    }\n",
       "\n",
       "    .dataframe tbody tr th {\n",
       "        vertical-align: top;\n",
       "    }\n",
       "\n",
       "    .dataframe thead th {\n",
       "        text-align: right;\n",
       "    }\n",
       "</style>\n",
       "<table border=\"1\" class=\"dataframe\">\n",
       "  <thead>\n",
       "    <tr style=\"text-align: right;\">\n",
       "      <th></th>\n",
       "      <th>Change</th>\n",
       "      <th>Name</th>\n",
       "      <th>Biotype</th>\n",
       "      <th>Chr</th>\n",
       "      <th>Length</th>\n",
       "      <th>Exonic Length</th>\n",
       "      <th>TSS_Downregulated</th>\n",
       "      <th>Downstream_Promoter_Downregulated</th>\n",
       "      <th>Gene_Body_Downregulated</th>\n",
       "      <th>Upstream_Promoter_Downregulated</th>\n",
       "      <th>...</th>\n",
       "      <th>Upstream_Promoter_Nondifferential</th>\n",
       "      <th>TSS_Upregulated</th>\n",
       "      <th>Downstream_Promoter_Upregulated</th>\n",
       "      <th>Gene_Body_Upregulated</th>\n",
       "      <th>Upstream_Promoter_Upregulated</th>\n",
       "      <th>Numeric_Change</th>\n",
       "      <th>Numeric_Biotype</th>\n",
       "      <th>Numeric_Chr</th>\n",
       "      <th>Gene_Body_Counts</th>\n",
       "      <th>Promoter_Counts</th>\n",
       "    </tr>\n",
       "    <tr>\n",
       "      <th>Ensembl_ID</th>\n",
       "      <th></th>\n",
       "      <th></th>\n",
       "      <th></th>\n",
       "      <th></th>\n",
       "      <th></th>\n",
       "      <th></th>\n",
       "      <th></th>\n",
       "      <th></th>\n",
       "      <th></th>\n",
       "      <th></th>\n",
       "      <th></th>\n",
       "      <th></th>\n",
       "      <th></th>\n",
       "      <th></th>\n",
       "      <th></th>\n",
       "      <th></th>\n",
       "      <th></th>\n",
       "      <th></th>\n",
       "      <th></th>\n",
       "      <th></th>\n",
       "      <th></th>\n",
       "    </tr>\n",
       "  </thead>\n",
       "  <tbody>\n",
       "    <tr>\n",
       "      <th>ENSG00000000003</th>\n",
       "      <td>Downregulated</td>\n",
       "      <td>TSPAN6</td>\n",
       "      <td>protein_coding</td>\n",
       "      <td>X</td>\n",
       "      <td>9996.0</td>\n",
       "      <td>3796.0</td>\n",
       "      <td>0.0</td>\n",
       "      <td>0.0</td>\n",
       "      <td>0.0</td>\n",
       "      <td>0.0</td>\n",
       "      <td>...</td>\n",
       "      <td>0.0</td>\n",
       "      <td>0.0</td>\n",
       "      <td>0.0</td>\n",
       "      <td>0.0</td>\n",
       "      <td>0.0</td>\n",
       "      <td>0</td>\n",
       "      <td>1</td>\n",
       "      <td>0</td>\n",
       "      <td>0.0</td>\n",
       "      <td>1.0</td>\n",
       "    </tr>\n",
       "    <tr>\n",
       "      <th>ENSG00000000419</th>\n",
       "      <td>Nondifferential</td>\n",
       "      <td>DPM1</td>\n",
       "      <td>protein_coding</td>\n",
       "      <td>20</td>\n",
       "      <td>23689.0</td>\n",
       "      <td>1161.0</td>\n",
       "      <td>0.0</td>\n",
       "      <td>0.0</td>\n",
       "      <td>0.0</td>\n",
       "      <td>0.0</td>\n",
       "      <td>...</td>\n",
       "      <td>0.0</td>\n",
       "      <td>0.0</td>\n",
       "      <td>0.0</td>\n",
       "      <td>1.0</td>\n",
       "      <td>0.0</td>\n",
       "      <td>1</td>\n",
       "      <td>1</td>\n",
       "      <td>0</td>\n",
       "      <td>1.0</td>\n",
       "      <td>0.0</td>\n",
       "    </tr>\n",
       "    <tr>\n",
       "      <th>ENSG00000000457</th>\n",
       "      <td>Nondifferential</td>\n",
       "      <td>SCYL3</td>\n",
       "      <td>protein_coding</td>\n",
       "      <td>1</td>\n",
       "      <td>44322.0</td>\n",
       "      <td>6364.0</td>\n",
       "      <td>0.0</td>\n",
       "      <td>0.0</td>\n",
       "      <td>0.0</td>\n",
       "      <td>0.0</td>\n",
       "      <td>...</td>\n",
       "      <td>0.0</td>\n",
       "      <td>0.0</td>\n",
       "      <td>0.0</td>\n",
       "      <td>1.0</td>\n",
       "      <td>0.0</td>\n",
       "      <td>1</td>\n",
       "      <td>1</td>\n",
       "      <td>0</td>\n",
       "      <td>2.0</td>\n",
       "      <td>0.0</td>\n",
       "    </tr>\n",
       "    <tr>\n",
       "      <th>ENSG00000000460</th>\n",
       "      <td>Nondifferential</td>\n",
       "      <td>C1orf112</td>\n",
       "      <td>protein_coding</td>\n",
       "      <td>1</td>\n",
       "      <td>58672.0</td>\n",
       "      <td>4355.0</td>\n",
       "      <td>0.0</td>\n",
       "      <td>0.0</td>\n",
       "      <td>0.0</td>\n",
       "      <td>0.0</td>\n",
       "      <td>...</td>\n",
       "      <td>0.0</td>\n",
       "      <td>0.0</td>\n",
       "      <td>0.0</td>\n",
       "      <td>2.0</td>\n",
       "      <td>0.0</td>\n",
       "      <td>1</td>\n",
       "      <td>1</td>\n",
       "      <td>0</td>\n",
       "      <td>6.0</td>\n",
       "      <td>0.0</td>\n",
       "    </tr>\n",
       "    <tr>\n",
       "      <th>ENSG00000000971</th>\n",
       "      <td>Upregulated</td>\n",
       "      <td>CFH</td>\n",
       "      <td>protein_coding</td>\n",
       "      <td>1</td>\n",
       "      <td>95627.0</td>\n",
       "      <td>4127.0</td>\n",
       "      <td>0.0</td>\n",
       "      <td>0.0</td>\n",
       "      <td>0.0</td>\n",
       "      <td>0.0</td>\n",
       "      <td>...</td>\n",
       "      <td>0.0</td>\n",
       "      <td>0.0</td>\n",
       "      <td>0.0</td>\n",
       "      <td>0.0</td>\n",
       "      <td>0.0</td>\n",
       "      <td>2</td>\n",
       "      <td>1</td>\n",
       "      <td>0</td>\n",
       "      <td>1.0</td>\n",
       "      <td>1.0</td>\n",
       "    </tr>\n",
       "  </tbody>\n",
       "</table>\n",
       "<p>5 rows × 23 columns</p>\n",
       "</div>"
      ],
      "text/plain": [
       "                          Change      Name         Biotype Chr   Length  \\\n",
       "Ensembl_ID                                                                \n",
       "ENSG00000000003    Downregulated    TSPAN6  protein_coding   X   9996.0   \n",
       "ENSG00000000419  Nondifferential      DPM1  protein_coding  20  23689.0   \n",
       "ENSG00000000457  Nondifferential     SCYL3  protein_coding   1  44322.0   \n",
       "ENSG00000000460  Nondifferential  C1orf112  protein_coding   1  58672.0   \n",
       "ENSG00000000971      Upregulated       CFH  protein_coding   1  95627.0   \n",
       "\n",
       "                 Exonic Length  TSS_Downregulated  \\\n",
       "Ensembl_ID                                          \n",
       "ENSG00000000003         3796.0                0.0   \n",
       "ENSG00000000419         1161.0                0.0   \n",
       "ENSG00000000457         6364.0                0.0   \n",
       "ENSG00000000460         4355.0                0.0   \n",
       "ENSG00000000971         4127.0                0.0   \n",
       "\n",
       "                 Downstream_Promoter_Downregulated  Gene_Body_Downregulated  \\\n",
       "Ensembl_ID                                                                    \n",
       "ENSG00000000003                                0.0                      0.0   \n",
       "ENSG00000000419                                0.0                      0.0   \n",
       "ENSG00000000457                                0.0                      0.0   \n",
       "ENSG00000000460                                0.0                      0.0   \n",
       "ENSG00000000971                                0.0                      0.0   \n",
       "\n",
       "                 Upstream_Promoter_Downregulated       ...         \\\n",
       "Ensembl_ID                                             ...          \n",
       "ENSG00000000003                              0.0       ...          \n",
       "ENSG00000000419                              0.0       ...          \n",
       "ENSG00000000457                              0.0       ...          \n",
       "ENSG00000000460                              0.0       ...          \n",
       "ENSG00000000971                              0.0       ...          \n",
       "\n",
       "                 Upstream_Promoter_Nondifferential  TSS_Upregulated  \\\n",
       "Ensembl_ID                                                            \n",
       "ENSG00000000003                                0.0              0.0   \n",
       "ENSG00000000419                                0.0              0.0   \n",
       "ENSG00000000457                                0.0              0.0   \n",
       "ENSG00000000460                                0.0              0.0   \n",
       "ENSG00000000971                                0.0              0.0   \n",
       "\n",
       "                 Downstream_Promoter_Upregulated  Gene_Body_Upregulated  \\\n",
       "Ensembl_ID                                                                \n",
       "ENSG00000000003                              0.0                    0.0   \n",
       "ENSG00000000419                              0.0                    1.0   \n",
       "ENSG00000000457                              0.0                    1.0   \n",
       "ENSG00000000460                              0.0                    2.0   \n",
       "ENSG00000000971                              0.0                    0.0   \n",
       "\n",
       "                 Upstream_Promoter_Upregulated  Numeric_Change  \\\n",
       "Ensembl_ID                                                       \n",
       "ENSG00000000003                            0.0               0   \n",
       "ENSG00000000419                            0.0               1   \n",
       "ENSG00000000457                            0.0               1   \n",
       "ENSG00000000460                            0.0               1   \n",
       "ENSG00000000971                            0.0               2   \n",
       "\n",
       "                 Numeric_Biotype  Numeric_Chr  Gene_Body_Counts  \\\n",
       "Ensembl_ID                                                        \n",
       "ENSG00000000003                1            0               0.0   \n",
       "ENSG00000000419                1            0               1.0   \n",
       "ENSG00000000457                1            0               2.0   \n",
       "ENSG00000000460                1            0               6.0   \n",
       "ENSG00000000971                1            0               1.0   \n",
       "\n",
       "                 Promoter_Counts  \n",
       "Ensembl_ID                        \n",
       "ENSG00000000003              1.0  \n",
       "ENSG00000000419              0.0  \n",
       "ENSG00000000457              0.0  \n",
       "ENSG00000000460              0.0  \n",
       "ENSG00000000971              1.0  \n",
       "\n",
       "[5 rows x 23 columns]"
      ]
     },
     "execution_count": 26,
     "metadata": {},
     "output_type": "execute_result"
    }
   ],
   "source": [
    "ARPE_cleaned_dataset.head()"
   ]
  },
  {
   "cell_type": "code",
   "execution_count": 27,
   "metadata": {},
   "outputs": [],
   "source": [
    "def get_keep_or_discard(gene, promoter):\n",
    "    if gene > 1:\n",
    "        return 1 #\"Keep\"\n",
    "    else:\n",
    "        if promoter > 0:\n",
    "            return 1 #\"Keep\"\n",
    "        else:\n",
    "            return 0 #\"Discard\"\n",
    "\n",
    "ARPE_cleaned_dataset[\"Discard_column\"] = ARPE_cleaned_dataset[\"Gene_Body_Counts\"].combine(\n",
    "    ARPE_cleaned_dataset[\"Promoter_Counts\"], func=get_keep_or_discard)\n",
    "    \n"
   ]
  },
  {
   "cell_type": "code",
   "execution_count": 28,
   "metadata": {},
   "outputs": [
    {
     "data": {
      "text/html": [
       "<div>\n",
       "<style scoped>\n",
       "    .dataframe tbody tr th:only-of-type {\n",
       "        vertical-align: middle;\n",
       "    }\n",
       "\n",
       "    .dataframe tbody tr th {\n",
       "        vertical-align: top;\n",
       "    }\n",
       "\n",
       "    .dataframe thead th {\n",
       "        text-align: right;\n",
       "    }\n",
       "</style>\n",
       "<table border=\"1\" class=\"dataframe\">\n",
       "  <thead>\n",
       "    <tr style=\"text-align: right;\">\n",
       "      <th></th>\n",
       "      <th>Change</th>\n",
       "      <th>Name</th>\n",
       "      <th>Biotype</th>\n",
       "      <th>Chr</th>\n",
       "      <th>Length</th>\n",
       "      <th>Exonic Length</th>\n",
       "      <th>TSS_Downregulated</th>\n",
       "      <th>Downstream_Promoter_Downregulated</th>\n",
       "      <th>Gene_Body_Downregulated</th>\n",
       "      <th>Upstream_Promoter_Downregulated</th>\n",
       "      <th>...</th>\n",
       "      <th>TSS_Upregulated</th>\n",
       "      <th>Downstream_Promoter_Upregulated</th>\n",
       "      <th>Gene_Body_Upregulated</th>\n",
       "      <th>Upstream_Promoter_Upregulated</th>\n",
       "      <th>Numeric_Change</th>\n",
       "      <th>Numeric_Biotype</th>\n",
       "      <th>Numeric_Chr</th>\n",
       "      <th>Gene_Body_Counts</th>\n",
       "      <th>Promoter_Counts</th>\n",
       "      <th>Discard_column</th>\n",
       "    </tr>\n",
       "    <tr>\n",
       "      <th>Ensembl_ID</th>\n",
       "      <th></th>\n",
       "      <th></th>\n",
       "      <th></th>\n",
       "      <th></th>\n",
       "      <th></th>\n",
       "      <th></th>\n",
       "      <th></th>\n",
       "      <th></th>\n",
       "      <th></th>\n",
       "      <th></th>\n",
       "      <th></th>\n",
       "      <th></th>\n",
       "      <th></th>\n",
       "      <th></th>\n",
       "      <th></th>\n",
       "      <th></th>\n",
       "      <th></th>\n",
       "      <th></th>\n",
       "      <th></th>\n",
       "      <th></th>\n",
       "      <th></th>\n",
       "    </tr>\n",
       "  </thead>\n",
       "  <tbody>\n",
       "    <tr>\n",
       "      <th>ENSG00000000003</th>\n",
       "      <td>Downregulated</td>\n",
       "      <td>TSPAN6</td>\n",
       "      <td>protein_coding</td>\n",
       "      <td>X</td>\n",
       "      <td>9996.0</td>\n",
       "      <td>3796.0</td>\n",
       "      <td>0.0</td>\n",
       "      <td>0.0</td>\n",
       "      <td>0.0</td>\n",
       "      <td>0.0</td>\n",
       "      <td>...</td>\n",
       "      <td>0.0</td>\n",
       "      <td>0.0</td>\n",
       "      <td>0.0</td>\n",
       "      <td>0.0</td>\n",
       "      <td>0</td>\n",
       "      <td>1</td>\n",
       "      <td>0</td>\n",
       "      <td>0.0</td>\n",
       "      <td>1.0</td>\n",
       "      <td>1.0</td>\n",
       "    </tr>\n",
       "    <tr>\n",
       "      <th>ENSG00000000419</th>\n",
       "      <td>Nondifferential</td>\n",
       "      <td>DPM1</td>\n",
       "      <td>protein_coding</td>\n",
       "      <td>20</td>\n",
       "      <td>23689.0</td>\n",
       "      <td>1161.0</td>\n",
       "      <td>0.0</td>\n",
       "      <td>0.0</td>\n",
       "      <td>0.0</td>\n",
       "      <td>0.0</td>\n",
       "      <td>...</td>\n",
       "      <td>0.0</td>\n",
       "      <td>0.0</td>\n",
       "      <td>1.0</td>\n",
       "      <td>0.0</td>\n",
       "      <td>1</td>\n",
       "      <td>1</td>\n",
       "      <td>0</td>\n",
       "      <td>1.0</td>\n",
       "      <td>0.0</td>\n",
       "      <td>0.0</td>\n",
       "    </tr>\n",
       "    <tr>\n",
       "      <th>ENSG00000000457</th>\n",
       "      <td>Nondifferential</td>\n",
       "      <td>SCYL3</td>\n",
       "      <td>protein_coding</td>\n",
       "      <td>1</td>\n",
       "      <td>44322.0</td>\n",
       "      <td>6364.0</td>\n",
       "      <td>0.0</td>\n",
       "      <td>0.0</td>\n",
       "      <td>0.0</td>\n",
       "      <td>0.0</td>\n",
       "      <td>...</td>\n",
       "      <td>0.0</td>\n",
       "      <td>0.0</td>\n",
       "      <td>1.0</td>\n",
       "      <td>0.0</td>\n",
       "      <td>1</td>\n",
       "      <td>1</td>\n",
       "      <td>0</td>\n",
       "      <td>2.0</td>\n",
       "      <td>0.0</td>\n",
       "      <td>1.0</td>\n",
       "    </tr>\n",
       "    <tr>\n",
       "      <th>ENSG00000000460</th>\n",
       "      <td>Nondifferential</td>\n",
       "      <td>C1orf112</td>\n",
       "      <td>protein_coding</td>\n",
       "      <td>1</td>\n",
       "      <td>58672.0</td>\n",
       "      <td>4355.0</td>\n",
       "      <td>0.0</td>\n",
       "      <td>0.0</td>\n",
       "      <td>0.0</td>\n",
       "      <td>0.0</td>\n",
       "      <td>...</td>\n",
       "      <td>0.0</td>\n",
       "      <td>0.0</td>\n",
       "      <td>2.0</td>\n",
       "      <td>0.0</td>\n",
       "      <td>1</td>\n",
       "      <td>1</td>\n",
       "      <td>0</td>\n",
       "      <td>6.0</td>\n",
       "      <td>0.0</td>\n",
       "      <td>1.0</td>\n",
       "    </tr>\n",
       "    <tr>\n",
       "      <th>ENSG00000000971</th>\n",
       "      <td>Upregulated</td>\n",
       "      <td>CFH</td>\n",
       "      <td>protein_coding</td>\n",
       "      <td>1</td>\n",
       "      <td>95627.0</td>\n",
       "      <td>4127.0</td>\n",
       "      <td>0.0</td>\n",
       "      <td>0.0</td>\n",
       "      <td>0.0</td>\n",
       "      <td>0.0</td>\n",
       "      <td>...</td>\n",
       "      <td>0.0</td>\n",
       "      <td>0.0</td>\n",
       "      <td>0.0</td>\n",
       "      <td>0.0</td>\n",
       "      <td>2</td>\n",
       "      <td>1</td>\n",
       "      <td>0</td>\n",
       "      <td>1.0</td>\n",
       "      <td>1.0</td>\n",
       "      <td>1.0</td>\n",
       "    </tr>\n",
       "  </tbody>\n",
       "</table>\n",
       "<p>5 rows × 24 columns</p>\n",
       "</div>"
      ],
      "text/plain": [
       "                          Change      Name         Biotype Chr   Length  \\\n",
       "Ensembl_ID                                                                \n",
       "ENSG00000000003    Downregulated    TSPAN6  protein_coding   X   9996.0   \n",
       "ENSG00000000419  Nondifferential      DPM1  protein_coding  20  23689.0   \n",
       "ENSG00000000457  Nondifferential     SCYL3  protein_coding   1  44322.0   \n",
       "ENSG00000000460  Nondifferential  C1orf112  protein_coding   1  58672.0   \n",
       "ENSG00000000971      Upregulated       CFH  protein_coding   1  95627.0   \n",
       "\n",
       "                 Exonic Length  TSS_Downregulated  \\\n",
       "Ensembl_ID                                          \n",
       "ENSG00000000003         3796.0                0.0   \n",
       "ENSG00000000419         1161.0                0.0   \n",
       "ENSG00000000457         6364.0                0.0   \n",
       "ENSG00000000460         4355.0                0.0   \n",
       "ENSG00000000971         4127.0                0.0   \n",
       "\n",
       "                 Downstream_Promoter_Downregulated  Gene_Body_Downregulated  \\\n",
       "Ensembl_ID                                                                    \n",
       "ENSG00000000003                                0.0                      0.0   \n",
       "ENSG00000000419                                0.0                      0.0   \n",
       "ENSG00000000457                                0.0                      0.0   \n",
       "ENSG00000000460                                0.0                      0.0   \n",
       "ENSG00000000971                                0.0                      0.0   \n",
       "\n",
       "                 Upstream_Promoter_Downregulated       ...        \\\n",
       "Ensembl_ID                                             ...         \n",
       "ENSG00000000003                              0.0       ...         \n",
       "ENSG00000000419                              0.0       ...         \n",
       "ENSG00000000457                              0.0       ...         \n",
       "ENSG00000000460                              0.0       ...         \n",
       "ENSG00000000971                              0.0       ...         \n",
       "\n",
       "                 TSS_Upregulated  Downstream_Promoter_Upregulated  \\\n",
       "Ensembl_ID                                                          \n",
       "ENSG00000000003              0.0                              0.0   \n",
       "ENSG00000000419              0.0                              0.0   \n",
       "ENSG00000000457              0.0                              0.0   \n",
       "ENSG00000000460              0.0                              0.0   \n",
       "ENSG00000000971              0.0                              0.0   \n",
       "\n",
       "                 Gene_Body_Upregulated  Upstream_Promoter_Upregulated  \\\n",
       "Ensembl_ID                                                              \n",
       "ENSG00000000003                    0.0                            0.0   \n",
       "ENSG00000000419                    1.0                            0.0   \n",
       "ENSG00000000457                    1.0                            0.0   \n",
       "ENSG00000000460                    2.0                            0.0   \n",
       "ENSG00000000971                    0.0                            0.0   \n",
       "\n",
       "                 Numeric_Change  Numeric_Biotype  Numeric_Chr  \\\n",
       "Ensembl_ID                                                      \n",
       "ENSG00000000003               0                1            0   \n",
       "ENSG00000000419               1                1            0   \n",
       "ENSG00000000457               1                1            0   \n",
       "ENSG00000000460               1                1            0   \n",
       "ENSG00000000971               2                1            0   \n",
       "\n",
       "                 Gene_Body_Counts  Promoter_Counts  Discard_column  \n",
       "Ensembl_ID                                                          \n",
       "ENSG00000000003               0.0              1.0             1.0  \n",
       "ENSG00000000419               1.0              0.0             0.0  \n",
       "ENSG00000000457               2.0              0.0             1.0  \n",
       "ENSG00000000460               6.0              0.0             1.0  \n",
       "ENSG00000000971               1.0              1.0             1.0  \n",
       "\n",
       "[5 rows x 24 columns]"
      ]
     },
     "execution_count": 28,
     "metadata": {},
     "output_type": "execute_result"
    }
   ],
   "source": [
    "ARPE_cleaned_dataset.head()\n",
    "# Yay! It worked. Now to subset it."
   ]
  },
  {
   "cell_type": "code",
   "execution_count": 29,
   "metadata": {},
   "outputs": [
    {
     "data": {
      "text/plain": [
       "array(['Change', 'Name', 'Biotype', 'Chr', 'Length', 'Exonic Length',\n",
       "       'TSS_Downregulated', 'Downstream_Promoter_Downregulated',\n",
       "       'Gene_Body_Downregulated', 'Upstream_Promoter_Downregulated',\n",
       "       'TSS_Nondifferential', 'Downstream_Promoter_Nondifferential',\n",
       "       'Gene_Body_Nondifferential', 'Upstream_Promoter_Nondifferential',\n",
       "       'TSS_Upregulated', 'Downstream_Promoter_Upregulated',\n",
       "       'Gene_Body_Upregulated', 'Upstream_Promoter_Upregulated',\n",
       "       'Numeric_Change', 'Numeric_Biotype', 'Numeric_Chr',\n",
       "       'Gene_Body_Counts', 'Promoter_Counts', 'Discard_column'],\n",
       "      dtype=object)"
      ]
     },
     "execution_count": 29,
     "metadata": {},
     "output_type": "execute_result"
    }
   ],
   "source": [
    "ARPE_cleaned_dataset.columns.values"
   ]
  },
  {
   "cell_type": "code",
   "execution_count": 30,
   "metadata": {
    "scrolled": true
   },
   "outputs": [],
   "source": [
    "ARPE_genes_with_peaks = ARPE_cleaned_dataset[ARPE_cleaned_dataset[\"Discard_column\"]== 1][['Length', 'Exonic Length',\n",
    "       'TSS_Downregulated', 'Downstream_Promoter_Downregulated',\n",
    "       'Gene_Body_Downregulated', 'Upstream_Promoter_Downregulated',\n",
    "       'TSS_Nondifferential', 'Downstream_Promoter_Nondifferential',\n",
    "       'Gene_Body_Nondifferential', 'Upstream_Promoter_Nondifferential',\n",
    "       'TSS_Upregulated', 'Downstream_Promoter_Upregulated',\n",
    "       'Gene_Body_Upregulated', 'Upstream_Promoter_Upregulated',\n",
    "       'Numeric_Change', 'Numeric_Biotype', 'Numeric_Chr',]]"
   ]
  },
  {
   "cell_type": "code",
   "execution_count": 31,
   "metadata": {},
   "outputs": [],
   "source": [
    "ARPE_X = np.array(ARPE_genes_with_peaks[['Length', 'Exonic Length',\n",
    "                     'TSS_Downregulated', 'Downstream_Promoter_Downregulated',\n",
    "                     'Gene_Body_Downregulated', 'Upstream_Promoter_Downregulated',\n",
    "                     'TSS_Nondifferential', 'Downstream_Promoter_Nondifferential',\n",
    "                     'Gene_Body_Nondifferential', 'Upstream_Promoter_Nondifferential',\n",
    "                     'TSS_Upregulated', 'Downstream_Promoter_Upregulated',\n",
    "                     'Gene_Body_Upregulated', 'Upstream_Promoter_Upregulated','Numeric_Biotype', 'Numeric_Chr']])\n",
    "\n",
    "ARPE_y = np.array(ARPE_genes_with_peaks[[\"Numeric_Change\"]])"
   ]
  },
  {
   "cell_type": "code",
   "execution_count": 32,
   "metadata": {},
   "outputs": [
    {
     "name": "stdout",
     "output_type": "stream",
     "text": [
      "1940\n",
      "1940\n",
      "7763\n",
      "7763\n"
     ]
    }
   ],
   "source": [
    "scaled_ARPE_X = scale(ARPE_X)\n",
    "X_train, X_test, y_train, y_test = train_test_split(scaled_ARPE_X, ARPE_y, random_state=1, test_size=0.8) \n",
    "print(len(X_train))\n",
    "print(len(y_train))\n",
    "print(len(X_test))\n",
    "print(len(y_test))"
   ]
  },
  {
   "cell_type": "code",
   "execution_count": 33,
   "metadata": {},
   "outputs": [
    {
     "data": {
      "image/png": "[encoded data removed]",
      "text/plain": [
       "<Figure size 432x288 with 1 Axes>"
      ]
     },
     "metadata": {
      "needs_background": "light"
     },
     "output_type": "display_data"
    }
   ],
   "source": [
    "# It turns out that this gives annoying warnings if your y value is a 2-D array. The .ravel() function makes it a 1-D array.\n",
    "\n",
    "\n",
    "Cs = np.arange(1,502,5)\n",
    "Accuracies = np.zeros(Cs.shape[0])\n",
    "for i,C in enumerate(Cs): \n",
    "    model_numbers = svm.SVC(kernel='rbf', C = C,gamma='scale')\n",
    "    scores = cross_val_score(estimator = model_numbers, X = X_train, y = y_train.ravel(), cv=5, scoring='accuracy')    \n",
    "    Accuracies[i]  = scores.mean()\n",
    "        \n",
    "plt.plot(Cs,Accuracies)\n",
    "plt.show()\n",
    "ARPE_with_peaks_SVM_Cs = pd.DataFrame({\"C_value\": Cs, \"Accuracy\": Accuracies}) \n",
    "ARPE_with_peaks_SVM_Cs.to_csv(output_path+\"ARPE_genes_with_peaks_SVM_C_values.csv\")\n",
    "\n"
   ]
  },
  {
   "cell_type": "code",
   "execution_count": 34,
   "metadata": {},
   "outputs": [
    {
     "data": {
      "text/html": [
       "<div>\n",
       "<style scoped>\n",
       "    .dataframe tbody tr th:only-of-type {\n",
       "        vertical-align: middle;\n",
       "    }\n",
       "\n",
       "    .dataframe tbody tr th {\n",
       "        vertical-align: top;\n",
       "    }\n",
       "\n",
       "    .dataframe thead th {\n",
       "        text-align: right;\n",
       "    }\n",
       "</style>\n",
       "<table border=\"1\" class=\"dataframe\">\n",
       "  <thead>\n",
       "    <tr style=\"text-align: right;\">\n",
       "      <th></th>\n",
       "      <th>C_value</th>\n",
       "      <th>Accuracy</th>\n",
       "    </tr>\n",
       "  </thead>\n",
       "  <tbody>\n",
       "    <tr>\n",
       "      <th>0</th>\n",
       "      <td>1</td>\n",
       "      <td>0.631952</td>\n",
       "    </tr>\n",
       "    <tr>\n",
       "      <th>1</th>\n",
       "      <td>6</td>\n",
       "      <td>0.618579</td>\n",
       "    </tr>\n",
       "    <tr>\n",
       "      <th>2</th>\n",
       "      <td>11</td>\n",
       "      <td>0.617026</td>\n",
       "    </tr>\n",
       "    <tr>\n",
       "      <th>3</th>\n",
       "      <td>16</td>\n",
       "      <td>0.614447</td>\n",
       "    </tr>\n",
       "    <tr>\n",
       "      <th>4</th>\n",
       "      <td>21</td>\n",
       "      <td>0.610839</td>\n",
       "    </tr>\n",
       "  </tbody>\n",
       "</table>\n",
       "</div>"
      ],
      "text/plain": [
       "   C_value  Accuracy\n",
       "0        1  0.631952\n",
       "1        6  0.618579\n",
       "2       11  0.617026\n",
       "3       16  0.614447\n",
       "4       21  0.610839"
      ]
     },
     "execution_count": 34,
     "metadata": {},
     "output_type": "execute_result"
    }
   ],
   "source": [
    "ARPE_with_peaks_SVM_Cs = pd.read_csv(output_path+\"ARPE_genes_with_peaks_SVM_C_values.csv\", index_col = 0)\n",
    "ARPE_with_peaks_SVM_Cs.head()"
   ]
  },
  {
   "cell_type": "code",
   "execution_count": 35,
   "metadata": {},
   "outputs": [
    {
     "data": {
      "image/png": "[encoded data removed]",
      "text/plain": [
       "<Figure size 432x288 with 1 Axes>"
      ]
     },
     "metadata": {
      "needs_background": "light"
     },
     "output_type": "display_data"
    }
   ],
   "source": [
    "plt.plot(ARPE_with_peaks_SVM_Cs[[\"C_value\"]], ARPE_with_peaks_SVM_Cs[[\"Accuracy\"]])\n",
    "plt.show()"
   ]
  },
  {
   "cell_type": "code",
   "execution_count": 36,
   "metadata": {},
   "outputs": [],
   "source": [
    "# # It looks like the low numbers are the best ones again. I am going to try this again with numbers between 0 and 5.\n",
    "\n",
    "# Cs = np.arange(0.1,5,0.1)\n",
    "# Accuracies = np.zeros(Cs.shape[0])\n",
    "# for i,C in enumerate(Cs): \n",
    "#     model_numbers = svm.SVC(kernel='rbf', C = C,gamma='scale')\n",
    "#     scores = cross_val_score(estimator = model_numbers, X = X_train, y = y_train.ravel(), cv=5, scoring='accuracy')    \n",
    "#     Accuracies[i]  = scores.mean()\n",
    "        \n",
    "# plt.plot(Cs,Accuracies)\n",
    "# plt.show()\n",
    "# ARPE_SVM_Cs = pd.DataFrame({\"C_value\": Cs, \"Accuracy\": Accuracies}) \n",
    "# ARPE_SVM_Cs.to_csv(output_path+\"ARPE_genes_with_peaks_SVM_C_values_Concentrated.csv\")"
   ]
  },
  {
   "cell_type": "code",
   "execution_count": 37,
   "metadata": {},
   "outputs": [
    {
     "name": "stdout",
     "output_type": "stream",
     "text": [
      "Maximum Accuracy is: 0.631433396671061 for C = 0.7\n"
     ]
    },
    {
     "data": {
      "image/png": "[encoded data removed]",
      "text/plain": [
       "<Figure size 432x288 with 1 Axes>"
      ]
     },
     "metadata": {
      "needs_background": "light"
     },
     "output_type": "display_data"
    }
   ],
   "source": [
    "ARPE_with_peaks_SVM_Cs_concentrated = pd.read_csv(output_path+\"ARPE_genes_with_peaks_SVM_C_values_Concentrated.csv\", index_col = 0)\n",
    "#ARPE_SVM_Cs_concentrated.head()\n",
    "max_accuracies = max(ARPE_with_peaks_SVM_Cs_concentrated[\"Accuracy\"])\n",
    "for i,num in enumerate( ARPE_with_peaks_SVM_Cs_concentrated[\"Accuracy\"]):\n",
    "    if num == max_accuracies:\n",
    "        max_c = i*0.1+0.1\n",
    "        print (\"Maximum Accuracy is:\", max_accuracies, \"for C =\", round(max_c, 1))\n",
    "        #This is only going to get the first one, but all after 6 give the same result\n",
    "        break\n",
    "\n",
    "plt.plot(ARPE_with_peaks_SVM_Cs_concentrated[[\"C_value\"]], ARPE_with_peaks_SVM_Cs_concentrated[[\"Accuracy\"]])\n",
    "plt.show()        "
   ]
  },
  {
   "cell_type": "markdown",
   "metadata": {},
   "source": [
    "Now I am going to see how it performs after removing the ones that have very few 5hmC peaks."
   ]
  },
  {
   "cell_type": "code",
   "execution_count": 38,
   "metadata": {},
   "outputs": [
    {
     "name": "stdout",
     "output_type": "stream",
     "text": [
      "Test on 80%, train on 20% Accuracy =  0.6368671905191292\n",
      "\n",
      "Confusion Matrix:\n",
      "[[   0  616   57]\n",
      " [   0 4540  311]\n",
      " [   0 1835  404]]\n"
     ]
    }
   ],
   "source": [
    "# Now to see how training on the 1/5 and testing on the 80% performs\n",
    "\n",
    "model_svm = svm.SVC(kernel='rbf',C=0.7,gamma='auto')\n",
    "model_svm.fit(X_train, y_train.ravel())\n",
    "\n",
    "Y_pred = model_svm.predict(X_test)\n",
    "\n",
    "ARPE_test_train_accuracy = metrics.accuracy_score(y_true = y_test.ravel(), y_pred = Y_pred)\n",
    "print('Test on 80%, train on 20% Accuracy = ', ARPE_test_train_accuracy)\n",
    "\n",
    "\n",
    "ARPE_SVM_confusion = metrics.confusion_matrix(y_true = y_test.ravel(), y_pred = Y_pred)\n",
    "print('\\nConfusion Matrix:')\n",
    "print(ARPE_SVM_confusion)\n",
    "#y_pred = model_numbers.predict(X_test)\n",
    "\n",
    "#print(metrics.confusion_matrix(y_true = y_test, y_pred = y_pred))"
   ]
  },
  {
   "cell_type": "code",
   "execution_count": 39,
   "metadata": {},
   "outputs": [
    {
     "name": "stdout",
     "output_type": "stream",
     "text": [
      "5-fold cross validation Accuracy =  0.6426902686747097\n"
     ]
    }
   ],
   "source": [
    "model_numbers = svm.SVC(kernel='rbf', C = 0.7, gamma='scale')\n",
    "scores = cross_val_score(estimator = model_numbers, X = scaled_ARPE_X, y = ARPE_y.ravel(), cv=5, scoring='accuracy')    \n",
    "scores.mean()\n",
    "print('5-fold cross validation Accuracy = ', scores.mean())\n",
    "\n"
   ]
  },
  {
   "cell_type": "markdown",
   "metadata": {},
   "source": [
    "Well, this has even lower accuracy and still doesn't get a single one of the downregulated genes correct. I am going to try making it even more stringent (require 5 peaks in gene body) and see what happens. "
   ]
  },
  {
   "cell_type": "code",
   "execution_count": null,
   "metadata": {},
   "outputs": [],
   "source": []
  },
  {
   "cell_type": "code",
   "execution_count": 40,
   "metadata": {},
   "outputs": [],
   "source": [
    "def get_keep_or_discard(gene, promoter):\n",
    "    if gene > 5:\n",
    "        return 1 #\"Keep\"\n",
    "    else:\n",
    "        if promoter > 1:\n",
    "            return 1 #\"Keep\"\n",
    "        else:\n",
    "            return 0 #\"Discard\"\n",
    "\n",
    "ARPE_cleaned_dataset[\"Try3_column\"] = ARPE_cleaned_dataset[\"Gene_Body_Counts\"].combine(\n",
    "    ARPE_cleaned_dataset[\"Promoter_Counts\"], func=get_keep_or_discard)\n",
    "    \n"
   ]
  },
  {
   "cell_type": "code",
   "execution_count": 41,
   "metadata": {},
   "outputs": [],
   "source": [
    "ARPE_try3 = ARPE_cleaned_dataset[ARPE_cleaned_dataset[\"Try3_column\"]== 1][['Length', 'Exonic Length',\n",
    "       'TSS_Downregulated', 'Downstream_Promoter_Downregulated',\n",
    "       'Gene_Body_Downregulated', 'Upstream_Promoter_Downregulated',\n",
    "       'TSS_Nondifferential', 'Downstream_Promoter_Nondifferential',\n",
    "       'Gene_Body_Nondifferential', 'Upstream_Promoter_Nondifferential',\n",
    "       'TSS_Upregulated', 'Downstream_Promoter_Upregulated',\n",
    "       'Gene_Body_Upregulated', 'Upstream_Promoter_Upregulated',\n",
    "       'Numeric_Change', 'Numeric_Biotype', 'Numeric_Chr',]]"
   ]
  },
  {
   "cell_type": "code",
   "execution_count": 42,
   "metadata": {},
   "outputs": [],
   "source": [
    "ARPE_X3 = np.array(ARPE_try3[['Length', 'Exonic Length',\n",
    "                     'TSS_Downregulated', 'Downstream_Promoter_Downregulated',\n",
    "                     'Gene_Body_Downregulated', 'Upstream_Promoter_Downregulated',\n",
    "                     'TSS_Nondifferential', 'Downstream_Promoter_Nondifferential',\n",
    "                     'Gene_Body_Nondifferential', 'Upstream_Promoter_Nondifferential',\n",
    "                     'TSS_Upregulated', 'Downstream_Promoter_Upregulated',\n",
    "                     'Gene_Body_Upregulated', 'Upstream_Promoter_Upregulated','Numeric_Biotype', 'Numeric_Chr']])\n",
    "\n",
    "ARPE_y3 = np.array(ARPE_try3[[\"Numeric_Change\"]])"
   ]
  },
  {
   "cell_type": "code",
   "execution_count": 43,
   "metadata": {},
   "outputs": [
    {
     "name": "stdout",
     "output_type": "stream",
     "text": [
      "2816\n",
      "2816\n",
      "2816\n",
      "2816\n"
     ]
    }
   ],
   "source": [
    "scaled_ARPE_X3 = scale(ARPE_X3)\n",
    "X_train3, X_test3, y_train3, y_test3 = train_test_split(scaled_ARPE_X3, ARPE_y3, random_state=1, test_size=0.5) \n",
    "print(len(X_train3))\n",
    "print(len(y_train3))\n",
    "print(len(X_test3))\n",
    "print(len(y_test3))"
   ]
  },
  {
   "cell_type": "code",
   "execution_count": 44,
   "metadata": {},
   "outputs": [
    {
     "name": "stdout",
     "output_type": "stream",
     "text": [
      "Test on 50%, train on 50% Accuracy =  0.5862926136363636\n",
      "\n",
      "Confusion Matrix:\n",
      "[[   0  189   31]\n",
      " [   0 1400  165]\n",
      " [   0  780  251]]\n"
     ]
    }
   ],
   "source": [
    "model_svm = svm.SVC(kernel='rbf',C=0.7,gamma='auto')\n",
    "model_svm.fit(X_train3, y_train3.ravel())\n",
    "\n",
    "Y_pred = model_svm.predict(X_test3)\n",
    "\n",
    "ARPE_test_train_accuracy = metrics.accuracy_score(y_true = y_test3.ravel(), y_pred = Y_pred)\n",
    "print('Test on 50%, train on 50% Accuracy = ', ARPE_test_train_accuracy)\n",
    "\n",
    "\n",
    "ARPE_SVM_confusion = metrics.confusion_matrix(y_true = y_test3.ravel(), y_pred = Y_pred)\n",
    "print('\\nConfusion Matrix:')\n",
    "print(ARPE_SVM_confusion)\n",
    "#y_pred = model_numbers.predict(X_test)\n",
    "\n",
    "#print(metrics.confusion_matrix(y_true = y_test, y_pred = y_pred))"
   ]
  },
  {
   "cell_type": "code",
   "execution_count": 45,
   "metadata": {},
   "outputs": [
    {
     "name": "stdout",
     "output_type": "stream",
     "text": [
      "5-fold cross validation Accuracy =  0.5861197494005854\n"
     ]
    }
   ],
   "source": [
    "model_numbers = svm.SVC(kernel='rbf', C = 0.7, gamma='scale')\n",
    "scores = cross_val_score(estimator = model_numbers, X = scaled_ARPE_X3, y = ARPE_y3.ravel(), cv=5, scoring='accuracy')    \n",
    "scores.mean()\n",
    "print('5-fold cross validation Accuracy = ', scores.mean())"
   ]
  },
  {
   "cell_type": "markdown",
   "metadata": {},
   "source": [
    "Well, this was not very successful. I am not surprised that the accuracy wasn't that high, but the fact that I can't get it to predict ANYTHING as downregulated is a little intriguing. I am going to try to do this again with the Schwann Cell cAMP dataset because it has roughly 1/3 of the genes up, 1/3 down and 1/3 nondifferential. "
   ]
  },
  {
   "cell_type": "code",
   "execution_count": 46,
   "metadata": {},
   "outputs": [
    {
     "data": {
      "text/html": [
       "<div>\n",
       "<style scoped>\n",
       "    .dataframe tbody tr th:only-of-type {\n",
       "        vertical-align: middle;\n",
       "    }\n",
       "\n",
       "    .dataframe tbody tr th {\n",
       "        vertical-align: top;\n",
       "    }\n",
       "\n",
       "    .dataframe thead th {\n",
       "        text-align: right;\n",
       "    }\n",
       "</style>\n",
       "<table border=\"1\" class=\"dataframe\">\n",
       "  <thead>\n",
       "    <tr style=\"text-align: right;\">\n",
       "      <th></th>\n",
       "      <th>Change</th>\n",
       "      <th>Gene_Name</th>\n",
       "      <th>Gene_Biotype</th>\n",
       "      <th>Chr</th>\n",
       "      <th>Length</th>\n",
       "      <th>Exon Length</th>\n",
       "      <th>Gene_Body_Downregulated</th>\n",
       "      <th>Upstream_Promoter_Downregulated</th>\n",
       "      <th>Downstream_Promoter_Downregulated</th>\n",
       "      <th>TSS_Downregulated</th>\n",
       "      <th>Gene_Body_Nondifferential</th>\n",
       "      <th>Upstream_Promoter_Nondifferential</th>\n",
       "      <th>Downstream_Promoter_Nondifferential</th>\n",
       "      <th>TSS_Nondifferential</th>\n",
       "      <th>Gene_Body_Upregulated</th>\n",
       "      <th>Upstream_Promoter_Upregulated</th>\n",
       "      <th>Downstream_Promoter_Upregulated</th>\n",
       "      <th>TSS_Upregulated</th>\n",
       "    </tr>\n",
       "    <tr>\n",
       "      <th>Gene_ID</th>\n",
       "      <th></th>\n",
       "      <th></th>\n",
       "      <th></th>\n",
       "      <th></th>\n",
       "      <th></th>\n",
       "      <th></th>\n",
       "      <th></th>\n",
       "      <th></th>\n",
       "      <th></th>\n",
       "      <th></th>\n",
       "      <th></th>\n",
       "      <th></th>\n",
       "      <th></th>\n",
       "      <th></th>\n",
       "      <th></th>\n",
       "      <th></th>\n",
       "      <th></th>\n",
       "      <th></th>\n",
       "    </tr>\n",
       "  </thead>\n",
       "  <tbody>\n",
       "    <tr>\n",
       "      <th>ENSRNOG00000000001</th>\n",
       "      <td>Nondifferential</td>\n",
       "      <td>AABR07013255.1</td>\n",
       "      <td>pseudogene</td>\n",
       "      <td>2</td>\n",
       "      <td>1421</td>\n",
       "      <td>1416</td>\n",
       "      <td>0.0</td>\n",
       "      <td>0.0</td>\n",
       "      <td>0.0</td>\n",
       "      <td>0.0</td>\n",
       "      <td>0.0</td>\n",
       "      <td>0.0</td>\n",
       "      <td>0.0</td>\n",
       "      <td>0.0</td>\n",
       "      <td>0.0</td>\n",
       "      <td>0.0</td>\n",
       "      <td>0.0</td>\n",
       "      <td>0.0</td>\n",
       "    </tr>\n",
       "    <tr>\n",
       "      <th>ENSRNOG00000000010</th>\n",
       "      <td>Downregulated</td>\n",
       "      <td>Cbln1</td>\n",
       "      <td>protein_coding</td>\n",
       "      <td>19</td>\n",
       "      <td>3810</td>\n",
       "      <td>2444</td>\n",
       "      <td>0.0</td>\n",
       "      <td>0.0</td>\n",
       "      <td>0.0</td>\n",
       "      <td>0.0</td>\n",
       "      <td>0.0</td>\n",
       "      <td>0.0</td>\n",
       "      <td>0.0</td>\n",
       "      <td>0.0</td>\n",
       "      <td>0.0</td>\n",
       "      <td>0.0</td>\n",
       "      <td>0.0</td>\n",
       "      <td>0.0</td>\n",
       "    </tr>\n",
       "    <tr>\n",
       "      <th>ENSRNOG00000000017</th>\n",
       "      <td>Downregulated</td>\n",
       "      <td>Steap1</td>\n",
       "      <td>protein_coding</td>\n",
       "      <td>4</td>\n",
       "      <td>10589</td>\n",
       "      <td>1280</td>\n",
       "      <td>0.0</td>\n",
       "      <td>1.0</td>\n",
       "      <td>0.0</td>\n",
       "      <td>0.0</td>\n",
       "      <td>0.0</td>\n",
       "      <td>0.0</td>\n",
       "      <td>0.0</td>\n",
       "      <td>0.0</td>\n",
       "      <td>1.0</td>\n",
       "      <td>0.0</td>\n",
       "      <td>0.0</td>\n",
       "      <td>0.0</td>\n",
       "    </tr>\n",
       "    <tr>\n",
       "      <th>ENSRNOG00000000021</th>\n",
       "      <td>Nondifferential</td>\n",
       "      <td>AABR07061902.1</td>\n",
       "      <td>pseudogene</td>\n",
       "      <td>4</td>\n",
       "      <td>1202</td>\n",
       "      <td>1200</td>\n",
       "      <td>0.0</td>\n",
       "      <td>0.0</td>\n",
       "      <td>0.0</td>\n",
       "      <td>0.0</td>\n",
       "      <td>0.0</td>\n",
       "      <td>0.0</td>\n",
       "      <td>0.0</td>\n",
       "      <td>0.0</td>\n",
       "      <td>0.0</td>\n",
       "      <td>0.0</td>\n",
       "      <td>0.0</td>\n",
       "      <td>0.0</td>\n",
       "    </tr>\n",
       "    <tr>\n",
       "      <th>ENSRNOG00000000024</th>\n",
       "      <td>Downregulated</td>\n",
       "      <td>Hebp1</td>\n",
       "      <td>protein_coding</td>\n",
       "      <td>4</td>\n",
       "      <td>29515</td>\n",
       "      <td>1062</td>\n",
       "      <td>2.0</td>\n",
       "      <td>0.0</td>\n",
       "      <td>0.0</td>\n",
       "      <td>0.0</td>\n",
       "      <td>4.0</td>\n",
       "      <td>0.0</td>\n",
       "      <td>0.0</td>\n",
       "      <td>0.0</td>\n",
       "      <td>1.0</td>\n",
       "      <td>0.0</td>\n",
       "      <td>0.0</td>\n",
       "      <td>0.0</td>\n",
       "    </tr>\n",
       "  </tbody>\n",
       "</table>\n",
       "</div>"
      ],
      "text/plain": [
       "                             Change       Gene_Name    Gene_Biotype Chr  \\\n",
       "Gene_ID                                                                   \n",
       "ENSRNOG00000000001  Nondifferential  AABR07013255.1      pseudogene   2   \n",
       "ENSRNOG00000000010    Downregulated           Cbln1  protein_coding  19   \n",
       "ENSRNOG00000000017    Downregulated          Steap1  protein_coding   4   \n",
       "ENSRNOG00000000021  Nondifferential  AABR07061902.1      pseudogene   4   \n",
       "ENSRNOG00000000024    Downregulated           Hebp1  protein_coding   4   \n",
       "\n",
       "                    Length  Exon Length  Gene_Body_Downregulated  \\\n",
       "Gene_ID                                                            \n",
       "ENSRNOG00000000001    1421         1416                      0.0   \n",
       "ENSRNOG00000000010    3810         2444                      0.0   \n",
       "ENSRNOG00000000017   10589         1280                      0.0   \n",
       "ENSRNOG00000000021    1202         1200                      0.0   \n",
       "ENSRNOG00000000024   29515         1062                      2.0   \n",
       "\n",
       "                    Upstream_Promoter_Downregulated  \\\n",
       "Gene_ID                                               \n",
       "ENSRNOG00000000001                              0.0   \n",
       "ENSRNOG00000000010                              0.0   \n",
       "ENSRNOG00000000017                              1.0   \n",
       "ENSRNOG00000000021                              0.0   \n",
       "ENSRNOG00000000024                              0.0   \n",
       "\n",
       "                    Downstream_Promoter_Downregulated  TSS_Downregulated  \\\n",
       "Gene_ID                                                                    \n",
       "ENSRNOG00000000001                                0.0                0.0   \n",
       "ENSRNOG00000000010                                0.0                0.0   \n",
       "ENSRNOG00000000017                                0.0                0.0   \n",
       "ENSRNOG00000000021                                0.0                0.0   \n",
       "ENSRNOG00000000024                                0.0                0.0   \n",
       "\n",
       "                    Gene_Body_Nondifferential  \\\n",
       "Gene_ID                                         \n",
       "ENSRNOG00000000001                        0.0   \n",
       "ENSRNOG00000000010                        0.0   \n",
       "ENSRNOG00000000017                        0.0   \n",
       "ENSRNOG00000000021                        0.0   \n",
       "ENSRNOG00000000024                        4.0   \n",
       "\n",
       "                    Upstream_Promoter_Nondifferential  \\\n",
       "Gene_ID                                                 \n",
       "ENSRNOG00000000001                                0.0   \n",
       "ENSRNOG00000000010                                0.0   \n",
       "ENSRNOG00000000017                                0.0   \n",
       "ENSRNOG00000000021                                0.0   \n",
       "ENSRNOG00000000024                                0.0   \n",
       "\n",
       "                    Downstream_Promoter_Nondifferential  TSS_Nondifferential  \\\n",
       "Gene_ID                                                                        \n",
       "ENSRNOG00000000001                                  0.0                  0.0   \n",
       "ENSRNOG00000000010                                  0.0                  0.0   \n",
       "ENSRNOG00000000017                                  0.0                  0.0   \n",
       "ENSRNOG00000000021                                  0.0                  0.0   \n",
       "ENSRNOG00000000024                                  0.0                  0.0   \n",
       "\n",
       "                    Gene_Body_Upregulated  Upstream_Promoter_Upregulated  \\\n",
       "Gene_ID                                                                    \n",
       "ENSRNOG00000000001                    0.0                            0.0   \n",
       "ENSRNOG00000000010                    0.0                            0.0   \n",
       "ENSRNOG00000000017                    1.0                            0.0   \n",
       "ENSRNOG00000000021                    0.0                            0.0   \n",
       "ENSRNOG00000000024                    1.0                            0.0   \n",
       "\n",
       "                    Downstream_Promoter_Upregulated  TSS_Upregulated  \n",
       "Gene_ID                                                               \n",
       "ENSRNOG00000000001                              0.0              0.0  \n",
       "ENSRNOG00000000010                              0.0              0.0  \n",
       "ENSRNOG00000000017                              0.0              0.0  \n",
       "ENSRNOG00000000021                              0.0              0.0  \n",
       "ENSRNOG00000000024                              0.0              0.0  "
      ]
     },
     "execution_count": 46,
     "metadata": {},
     "output_type": "execute_result"
    }
   ],
   "source": [
    "SC_cAMP_cleaned_dataset = pd.read_pickle(cleaned_data_path+\"SC_cAMP_Combined_Cleaned_Data.pkl\")\n",
    "SC_cAMP_cleaned_dataset.head()"
   ]
  },
  {
   "cell_type": "code",
   "execution_count": 47,
   "metadata": {},
   "outputs": [],
   "source": [
    "def get_change(change):\n",
    "    if change == \"Downregulated\":\n",
    "        return 0\n",
    "    elif change == \"Nondifferential\":\n",
    "        return 1\n",
    "    elif change == \"Upregulated\":\n",
    "        return 2\n",
    "    else:\n",
    "        return \"Remove this one from the dataset\"\n",
    "\n",
    "SC_cAMP_cleaned_dataset[\"Numeric_Change\"] = SC_cAMP_cleaned_dataset[\"Change\"].apply(get_change)\n",
    "\n",
    "def get_biotype(biotype):\n",
    "    if biotype == \"protein_coding\":\n",
    "        return 1\n",
    "    else:\n",
    "        return 0\n",
    "\n",
    "SC_cAMP_cleaned_dataset[\"Numeric_Biotype\"] = SC_cAMP_cleaned_dataset[\"Gene_Biotype\"].apply(get_biotype)\n",
    "\n",
    "def get_chromosome(Chr):\n",
    "    if Chr == \"X\": \n",
    "        return 0\n",
    "    elif Chr == \"Y\": \n",
    "        return 0\n",
    "    elif Chr == \"1\": \n",
    "        return 0\n",
    "    elif Chr == \"2\": \n",
    "        return 0\n",
    "    elif Chr == \"3\": \n",
    "        return 0\n",
    "    elif Chr == \"4\": \n",
    "        return 0\n",
    "    elif Chr == \"5\": \n",
    "        return 0\n",
    "    elif Chr == \"6\": \n",
    "        return 0\n",
    "    elif Chr == \"7\": \n",
    "        return 0\n",
    "    elif Chr == \"8\": \n",
    "        return 0\n",
    "    elif Chr == \"9\": \n",
    "        return 0\n",
    "    elif Chr == \"10\": \n",
    "        return 0\n",
    "    elif Chr == \"11\": \n",
    "        return 0\n",
    "    elif Chr == \"12\": \n",
    "        return 0\n",
    "    elif Chr == \"13\": \n",
    "        return 0\n",
    "    elif Chr == \"14\": \n",
    "        return 0\n",
    "    elif Chr == \"15\": \n",
    "        return 0\n",
    "    elif Chr == \"16\": \n",
    "        return 0\n",
    "    elif Chr == \"17\": \n",
    "        return 0\n",
    "    elif Chr == \"18\": \n",
    "        return 0\n",
    "    elif Chr == \"19\": \n",
    "        return 0\n",
    "    elif Chr == \"20\": \n",
    "        return 0\n",
    "    elif Chr == \"21\": \n",
    "        return 0\n",
    "    elif Chr == \"22\": \n",
    "        return 0\n",
    "    else:\n",
    "        return 1\n",
    "\n",
    "SC_cAMP_cleaned_dataset[\"Numeric_Chr\"] = SC_cAMP_cleaned_dataset[\"Chr\"].apply(get_chromosome)"
   ]
  },
  {
   "cell_type": "code",
   "execution_count": 48,
   "metadata": {},
   "outputs": [
    {
     "data": {
      "text/html": [
       "<div>\n",
       "<style scoped>\n",
       "    .dataframe tbody tr th:only-of-type {\n",
       "        vertical-align: middle;\n",
       "    }\n",
       "\n",
       "    .dataframe tbody tr th {\n",
       "        vertical-align: top;\n",
       "    }\n",
       "\n",
       "    .dataframe thead th {\n",
       "        text-align: right;\n",
       "    }\n",
       "</style>\n",
       "<table border=\"1\" class=\"dataframe\">\n",
       "  <thead>\n",
       "    <tr style=\"text-align: right;\">\n",
       "      <th></th>\n",
       "      <th>Change</th>\n",
       "      <th>Gene_Name</th>\n",
       "      <th>Gene_Biotype</th>\n",
       "      <th>Chr</th>\n",
       "      <th>Length</th>\n",
       "      <th>Exon Length</th>\n",
       "      <th>Gene_Body_Downregulated</th>\n",
       "      <th>Upstream_Promoter_Downregulated</th>\n",
       "      <th>Downstream_Promoter_Downregulated</th>\n",
       "      <th>TSS_Downregulated</th>\n",
       "      <th>...</th>\n",
       "      <th>Upstream_Promoter_Nondifferential</th>\n",
       "      <th>Downstream_Promoter_Nondifferential</th>\n",
       "      <th>TSS_Nondifferential</th>\n",
       "      <th>Gene_Body_Upregulated</th>\n",
       "      <th>Upstream_Promoter_Upregulated</th>\n",
       "      <th>Downstream_Promoter_Upregulated</th>\n",
       "      <th>TSS_Upregulated</th>\n",
       "      <th>Numeric_Change</th>\n",
       "      <th>Numeric_Biotype</th>\n",
       "      <th>Numeric_Chr</th>\n",
       "    </tr>\n",
       "    <tr>\n",
       "      <th>Gene_ID</th>\n",
       "      <th></th>\n",
       "      <th></th>\n",
       "      <th></th>\n",
       "      <th></th>\n",
       "      <th></th>\n",
       "      <th></th>\n",
       "      <th></th>\n",
       "      <th></th>\n",
       "      <th></th>\n",
       "      <th></th>\n",
       "      <th></th>\n",
       "      <th></th>\n",
       "      <th></th>\n",
       "      <th></th>\n",
       "      <th></th>\n",
       "      <th></th>\n",
       "      <th></th>\n",
       "      <th></th>\n",
       "      <th></th>\n",
       "      <th></th>\n",
       "      <th></th>\n",
       "    </tr>\n",
       "  </thead>\n",
       "  <tbody>\n",
       "    <tr>\n",
       "      <th>ENSRNOG00000000001</th>\n",
       "      <td>Nondifferential</td>\n",
       "      <td>AABR07013255.1</td>\n",
       "      <td>pseudogene</td>\n",
       "      <td>2</td>\n",
       "      <td>1421</td>\n",
       "      <td>1416</td>\n",
       "      <td>0.0</td>\n",
       "      <td>0.0</td>\n",
       "      <td>0.0</td>\n",
       "      <td>0.0</td>\n",
       "      <td>...</td>\n",
       "      <td>0.0</td>\n",
       "      <td>0.0</td>\n",
       "      <td>0.0</td>\n",
       "      <td>0.0</td>\n",
       "      <td>0.0</td>\n",
       "      <td>0.0</td>\n",
       "      <td>0.0</td>\n",
       "      <td>1</td>\n",
       "      <td>0</td>\n",
       "      <td>0</td>\n",
       "    </tr>\n",
       "    <tr>\n",
       "      <th>ENSRNOG00000000010</th>\n",
       "      <td>Downregulated</td>\n",
       "      <td>Cbln1</td>\n",
       "      <td>protein_coding</td>\n",
       "      <td>19</td>\n",
       "      <td>3810</td>\n",
       "      <td>2444</td>\n",
       "      <td>0.0</td>\n",
       "      <td>0.0</td>\n",
       "      <td>0.0</td>\n",
       "      <td>0.0</td>\n",
       "      <td>...</td>\n",
       "      <td>0.0</td>\n",
       "      <td>0.0</td>\n",
       "      <td>0.0</td>\n",
       "      <td>0.0</td>\n",
       "      <td>0.0</td>\n",
       "      <td>0.0</td>\n",
       "      <td>0.0</td>\n",
       "      <td>0</td>\n",
       "      <td>1</td>\n",
       "      <td>0</td>\n",
       "    </tr>\n",
       "    <tr>\n",
       "      <th>ENSRNOG00000000017</th>\n",
       "      <td>Downregulated</td>\n",
       "      <td>Steap1</td>\n",
       "      <td>protein_coding</td>\n",
       "      <td>4</td>\n",
       "      <td>10589</td>\n",
       "      <td>1280</td>\n",
       "      <td>0.0</td>\n",
       "      <td>1.0</td>\n",
       "      <td>0.0</td>\n",
       "      <td>0.0</td>\n",
       "      <td>...</td>\n",
       "      <td>0.0</td>\n",
       "      <td>0.0</td>\n",
       "      <td>0.0</td>\n",
       "      <td>1.0</td>\n",
       "      <td>0.0</td>\n",
       "      <td>0.0</td>\n",
       "      <td>0.0</td>\n",
       "      <td>0</td>\n",
       "      <td>1</td>\n",
       "      <td>0</td>\n",
       "    </tr>\n",
       "    <tr>\n",
       "      <th>ENSRNOG00000000021</th>\n",
       "      <td>Nondifferential</td>\n",
       "      <td>AABR07061902.1</td>\n",
       "      <td>pseudogene</td>\n",
       "      <td>4</td>\n",
       "      <td>1202</td>\n",
       "      <td>1200</td>\n",
       "      <td>0.0</td>\n",
       "      <td>0.0</td>\n",
       "      <td>0.0</td>\n",
       "      <td>0.0</td>\n",
       "      <td>...</td>\n",
       "      <td>0.0</td>\n",
       "      <td>0.0</td>\n",
       "      <td>0.0</td>\n",
       "      <td>0.0</td>\n",
       "      <td>0.0</td>\n",
       "      <td>0.0</td>\n",
       "      <td>0.0</td>\n",
       "      <td>1</td>\n",
       "      <td>0</td>\n",
       "      <td>0</td>\n",
       "    </tr>\n",
       "    <tr>\n",
       "      <th>ENSRNOG00000000024</th>\n",
       "      <td>Downregulated</td>\n",
       "      <td>Hebp1</td>\n",
       "      <td>protein_coding</td>\n",
       "      <td>4</td>\n",
       "      <td>29515</td>\n",
       "      <td>1062</td>\n",
       "      <td>2.0</td>\n",
       "      <td>0.0</td>\n",
       "      <td>0.0</td>\n",
       "      <td>0.0</td>\n",
       "      <td>...</td>\n",
       "      <td>0.0</td>\n",
       "      <td>0.0</td>\n",
       "      <td>0.0</td>\n",
       "      <td>1.0</td>\n",
       "      <td>0.0</td>\n",
       "      <td>0.0</td>\n",
       "      <td>0.0</td>\n",
       "      <td>0</td>\n",
       "      <td>1</td>\n",
       "      <td>0</td>\n",
       "    </tr>\n",
       "  </tbody>\n",
       "</table>\n",
       "<p>5 rows × 21 columns</p>\n",
       "</div>"
      ],
      "text/plain": [
       "                             Change       Gene_Name    Gene_Biotype Chr  \\\n",
       "Gene_ID                                                                   \n",
       "ENSRNOG00000000001  Nondifferential  AABR07013255.1      pseudogene   2   \n",
       "ENSRNOG00000000010    Downregulated           Cbln1  protein_coding  19   \n",
       "ENSRNOG00000000017    Downregulated          Steap1  protein_coding   4   \n",
       "ENSRNOG00000000021  Nondifferential  AABR07061902.1      pseudogene   4   \n",
       "ENSRNOG00000000024    Downregulated           Hebp1  protein_coding   4   \n",
       "\n",
       "                    Length  Exon Length  Gene_Body_Downregulated  \\\n",
       "Gene_ID                                                            \n",
       "ENSRNOG00000000001    1421         1416                      0.0   \n",
       "ENSRNOG00000000010    3810         2444                      0.0   \n",
       "ENSRNOG00000000017   10589         1280                      0.0   \n",
       "ENSRNOG00000000021    1202         1200                      0.0   \n",
       "ENSRNOG00000000024   29515         1062                      2.0   \n",
       "\n",
       "                    Upstream_Promoter_Downregulated  \\\n",
       "Gene_ID                                               \n",
       "ENSRNOG00000000001                              0.0   \n",
       "ENSRNOG00000000010                              0.0   \n",
       "ENSRNOG00000000017                              1.0   \n",
       "ENSRNOG00000000021                              0.0   \n",
       "ENSRNOG00000000024                              0.0   \n",
       "\n",
       "                    Downstream_Promoter_Downregulated  TSS_Downregulated  \\\n",
       "Gene_ID                                                                    \n",
       "ENSRNOG00000000001                                0.0                0.0   \n",
       "ENSRNOG00000000010                                0.0                0.0   \n",
       "ENSRNOG00000000017                                0.0                0.0   \n",
       "ENSRNOG00000000021                                0.0                0.0   \n",
       "ENSRNOG00000000024                                0.0                0.0   \n",
       "\n",
       "                       ...       Upstream_Promoter_Nondifferential  \\\n",
       "Gene_ID                ...                                           \n",
       "ENSRNOG00000000001     ...                                     0.0   \n",
       "ENSRNOG00000000010     ...                                     0.0   \n",
       "ENSRNOG00000000017     ...                                     0.0   \n",
       "ENSRNOG00000000021     ...                                     0.0   \n",
       "ENSRNOG00000000024     ...                                     0.0   \n",
       "\n",
       "                    Downstream_Promoter_Nondifferential  TSS_Nondifferential  \\\n",
       "Gene_ID                                                                        \n",
       "ENSRNOG00000000001                                  0.0                  0.0   \n",
       "ENSRNOG00000000010                                  0.0                  0.0   \n",
       "ENSRNOG00000000017                                  0.0                  0.0   \n",
       "ENSRNOG00000000021                                  0.0                  0.0   \n",
       "ENSRNOG00000000024                                  0.0                  0.0   \n",
       "\n",
       "                    Gene_Body_Upregulated  Upstream_Promoter_Upregulated  \\\n",
       "Gene_ID                                                                    \n",
       "ENSRNOG00000000001                    0.0                            0.0   \n",
       "ENSRNOG00000000010                    0.0                            0.0   \n",
       "ENSRNOG00000000017                    1.0                            0.0   \n",
       "ENSRNOG00000000021                    0.0                            0.0   \n",
       "ENSRNOG00000000024                    1.0                            0.0   \n",
       "\n",
       "                    Downstream_Promoter_Upregulated  TSS_Upregulated  \\\n",
       "Gene_ID                                                                \n",
       "ENSRNOG00000000001                              0.0              0.0   \n",
       "ENSRNOG00000000010                              0.0              0.0   \n",
       "ENSRNOG00000000017                              0.0              0.0   \n",
       "ENSRNOG00000000021                              0.0              0.0   \n",
       "ENSRNOG00000000024                              0.0              0.0   \n",
       "\n",
       "                    Numeric_Change  Numeric_Biotype  Numeric_Chr  \n",
       "Gene_ID                                                           \n",
       "ENSRNOG00000000001               1                0            0  \n",
       "ENSRNOG00000000010               0                1            0  \n",
       "ENSRNOG00000000017               0                1            0  \n",
       "ENSRNOG00000000021               1                0            0  \n",
       "ENSRNOG00000000024               0                1            0  \n",
       "\n",
       "[5 rows x 21 columns]"
      ]
     },
     "execution_count": 48,
     "metadata": {},
     "output_type": "execute_result"
    }
   ],
   "source": [
    "SC_cAMP_cleaned_dataset.head()"
   ]
  },
  {
   "cell_type": "code",
   "execution_count": 49,
   "metadata": {},
   "outputs": [],
   "source": [
    "SC_cAMP_X = np.array(SC_cAMP_cleaned_dataset[['Length', 'Exon Length',\n",
    "                     'TSS_Downregulated', 'Downstream_Promoter_Downregulated',\n",
    "                     'Gene_Body_Downregulated', 'Upstream_Promoter_Downregulated',\n",
    "                     'TSS_Nondifferential', 'Downstream_Promoter_Nondifferential',\n",
    "                     'Gene_Body_Nondifferential', 'Upstream_Promoter_Nondifferential',\n",
    "                     'TSS_Upregulated', 'Downstream_Promoter_Upregulated',\n",
    "                     'Gene_Body_Upregulated', 'Upstream_Promoter_Upregulated','Numeric_Biotype', 'Numeric_Chr']])\n",
    "\n",
    "SC_cAMP_y = np.array(SC_cAMP_cleaned_dataset[[\"Numeric_Change\"]])"
   ]
  },
  {
   "cell_type": "code",
   "execution_count": 50,
   "metadata": {},
   "outputs": [],
   "source": [
    "scaled_cAMP_X = scale(SC_cAMP_X)"
   ]
  },
  {
   "cell_type": "code",
   "execution_count": 51,
   "metadata": {},
   "outputs": [],
   "source": [
    "X_train, X_test, y_train, y_test = train_test_split(scaled_cAMP_X, SC_cAMP_y, random_state=1, test_size=0.8) "
   ]
  },
  {
   "cell_type": "code",
   "execution_count": 52,
   "metadata": {},
   "outputs": [
    {
     "name": "stdout",
     "output_type": "stream",
     "text": [
      "2433\n",
      "2433\n",
      "9732\n",
      "9732\n"
     ]
    }
   ],
   "source": [
    "print(len(X_train))\n",
    "print(len(y_train))\n",
    "print(len(X_test))\n",
    "print(len(y_test))"
   ]
  },
  {
   "cell_type": "code",
   "execution_count": 53,
   "metadata": {},
   "outputs": [
    {
     "data": {
      "image/png": "[encoded data removed]",
      "text/plain": [
       "<Figure size 432x288 with 1 Axes>"
      ]
     },
     "metadata": {
      "needs_background": "light"
     },
     "output_type": "display_data"
    }
   ],
   "source": [
    "##It turns out that this gives annoying warnings if your y value is a 2-D array. The .ravel() function makes it a 1-D array.\n",
    "\n",
    "\n",
    "Cs = np.arange(1,502,5)\n",
    "Accuracies = np.zeros(Cs.shape[0])\n",
    "for i,C in enumerate(Cs): \n",
    "    model_numbers = svm.SVC(kernel='rbf', C = C,gamma='scale')\n",
    "    scores = cross_val_score(estimator = model_numbers, X = X_train, y = y_train.ravel(), cv=5, scoring='accuracy')    \n",
    "    Accuracies[i]  = scores.mean()\n",
    "        \n",
    "plt.plot(Cs,Accuracies)\n",
    "plt.show()\n",
    "SC_cAMP_SVM_Cs = pd.DataFrame({\"C_value\": Cs, \"Accuracy\": Accuracies}) \n",
    "SC_cAMP_SVM_Cs.to_csv(output_path+\"SC_cAMP_SVM_C_values.csv\")"
   ]
  },
  {
   "cell_type": "code",
   "execution_count": 54,
   "metadata": {},
   "outputs": [
    {
     "data": {
      "text/html": [
       "<div>\n",
       "<style scoped>\n",
       "    .dataframe tbody tr th:only-of-type {\n",
       "        vertical-align: middle;\n",
       "    }\n",
       "\n",
       "    .dataframe tbody tr th {\n",
       "        vertical-align: top;\n",
       "    }\n",
       "\n",
       "    .dataframe thead th {\n",
       "        text-align: right;\n",
       "    }\n",
       "</style>\n",
       "<table border=\"1\" class=\"dataframe\">\n",
       "  <thead>\n",
       "    <tr style=\"text-align: right;\">\n",
       "      <th></th>\n",
       "      <th>C_value</th>\n",
       "      <th>Accuracy</th>\n",
       "    </tr>\n",
       "  </thead>\n",
       "  <tbody>\n",
       "    <tr>\n",
       "      <th>0</th>\n",
       "      <td>1</td>\n",
       "      <td>0.448836</td>\n",
       "    </tr>\n",
       "    <tr>\n",
       "      <th>1</th>\n",
       "      <td>6</td>\n",
       "      <td>0.437321</td>\n",
       "    </tr>\n",
       "    <tr>\n",
       "      <th>2</th>\n",
       "      <td>11</td>\n",
       "      <td>0.437326</td>\n",
       "    </tr>\n",
       "    <tr>\n",
       "      <th>3</th>\n",
       "      <td>16</td>\n",
       "      <td>0.440200</td>\n",
       "    </tr>\n",
       "    <tr>\n",
       "      <th>4</th>\n",
       "      <td>21</td>\n",
       "      <td>0.438970</td>\n",
       "    </tr>\n",
       "  </tbody>\n",
       "</table>\n",
       "</div>"
      ],
      "text/plain": [
       "   C_value  Accuracy\n",
       "0        1  0.448836\n",
       "1        6  0.437321\n",
       "2       11  0.437326\n",
       "3       16  0.440200\n",
       "4       21  0.438970"
      ]
     },
     "execution_count": 54,
     "metadata": {},
     "output_type": "execute_result"
    }
   ],
   "source": [
    "SC_cAMP_SVM_Cs = pd.read_csv(output_path+\"SC_cAMP_SVM_C_values.csv\", index_col = 0)\n",
    "SC_cAMP_SVM_Cs.head()"
   ]
  },
  {
   "cell_type": "code",
   "execution_count": 55,
   "metadata": {},
   "outputs": [
    {
     "data": {
      "image/png": "[encoded data removed]",
      "text/plain": [
       "<Figure size 432x288 with 1 Axes>"
      ]
     },
     "metadata": {
      "needs_background": "light"
     },
     "output_type": "display_data"
    }
   ],
   "source": [
    "plt.plot(SC_cAMP_SVM_Cs[[\"C_value\"]], SC_cAMP_SVM_Cs[[\"Accuracy\"]])\n",
    "plt.show()"
   ]
  },
  {
   "cell_type": "markdown",
   "metadata": {},
   "source": [
    "It looks like a low value of C is still the best for the cAMP dataset too. "
   ]
  },
  {
   "cell_type": "code",
   "execution_count": 56,
   "metadata": {},
   "outputs": [],
   "source": [
    "# # It looks like the low numbers are the best ones. I am going to try this again with numbers between 0 and 5.\n",
    "\n",
    "# Cs = np.arange(0.1,5,0.1)\n",
    "# Accuracies = np.zeros(Cs.shape[0])\n",
    "# for i,C in enumerate(Cs): \n",
    "#     model_numbers = svm.SVC(kernel='rbf', C = C,gamma='scale')\n",
    "#     scores = cross_val_score(estimator = model_numbers, X = X_train, y = y_train.ravel(), cv=5, scoring='accuracy')    \n",
    "#     Accuracies[i]  = scores.mean()\n",
    "        \n",
    "# plt.plot(Cs,Accuracies)\n",
    "# plt.show()\n",
    "# ARPE_SVM_Cs = pd.DataFrame({\"C_value\": Cs, \"Accuracy\": Accuracies}) \n",
    "# ARPE_SVM_Cs.to_csv(output_path+\"SC_cAMP_SVM_C_values_Concentrated.csv\")"
   ]
  },
  {
   "cell_type": "code",
   "execution_count": 57,
   "metadata": {},
   "outputs": [
    {
     "name": "stdout",
     "output_type": "stream",
     "text": [
      "Maximum Accuracy is: 0.4508983913964855 for C = 0.4\n"
     ]
    },
    {
     "data": {
      "image/png": "[encoded data removed]",
      "text/plain": [
       "<Figure size 432x288 with 1 Axes>"
      ]
     },
     "metadata": {
      "needs_background": "light"
     },
     "output_type": "display_data"
    }
   ],
   "source": [
    "SC_cAMP_SVM_Cs_concentrated = pd.read_csv(output_path+\"SC_cAMP_SVM_C_values_Concentrated.csv\", index_col = 0)\n",
    "#ARPE_SVM_Cs_concentrated.head()\n",
    "max_accuracies = max(SC_cAMP_SVM_Cs_concentrated[\"Accuracy\"])\n",
    "for i,num in enumerate( SC_cAMP_SVM_Cs_concentrated[\"Accuracy\"]):\n",
    "    if num == max_accuracies:\n",
    "        max_c = i*0.1+0.1\n",
    "        print (\"Maximum Accuracy is:\", max_accuracies, \"for C =\", round(max_c, 1))\n",
    "        #This is only going to get the first one, but all after 6 give the same result\n",
    "        break\n",
    "\n",
    "plt.plot(SC_cAMP_SVM_Cs_concentrated[[\"C_value\"]], SC_cAMP_SVM_Cs_concentrated[[\"Accuracy\"]])\n",
    "plt.show()  "
   ]
  },
  {
   "cell_type": "code",
   "execution_count": 58,
   "metadata": {},
   "outputs": [
    {
     "name": "stdout",
     "output_type": "stream",
     "text": [
      "Test on 80%, train on 20% Accuracy =  0.44040279490341144\n",
      "\n",
      "Confusion Matrix:\n",
      "[[1378  333 1387]\n",
      " [ 762  505 1879]\n",
      " [ 783  302 2403]]\n"
     ]
    }
   ],
   "source": [
    "# Now to see how training on the 1/5 and testing on the 80% performs\n",
    "\n",
    "model_svm = svm.SVC(kernel='rbf',C=0.4,gamma='auto')\n",
    "model_svm.fit(X_train, y_train.ravel())\n",
    "\n",
    "Y_pred = model_svm.predict(X_test)\n",
    "\n",
    "SC_cAMP_test_train_accuracy = metrics.accuracy_score(y_true = y_test.ravel(), y_pred = Y_pred)\n",
    "print('Test on 80%, train on 20% Accuracy = ', SC_cAMP_test_train_accuracy)\n",
    "\n",
    "\n",
    "SC_cAMP_SVM_confusion = metrics.confusion_matrix(y_true = y_test.ravel(), y_pred = Y_pred)\n",
    "print('\\nConfusion Matrix:')\n",
    "print(SC_cAMP_SVM_confusion)\n",
    "#y_pred = model_numbers.predict(X_test)\n",
    "\n",
    "#print(metrics.confusion_matrix(y_true = y_test, y_pred = y_pred))"
   ]
  },
  {
   "cell_type": "code",
   "execution_count": 59,
   "metadata": {},
   "outputs": [
    {
     "name": "stdout",
     "output_type": "stream",
     "text": [
      "5-fold cross validation Accuracy =  0.4446420559390667\n"
     ]
    }
   ],
   "source": [
    "model_numbers = svm.SVC(kernel='rbf', C = 0.4, gamma='scale')\n",
    "scores = cross_val_score(estimator = model_numbers, X = scaled_cAMP_X, y = SC_cAMP_y.ravel(), cv=5, scoring='accuracy')    \n",
    "scores.mean()\n",
    "print('5-fold cross validation Accuracy = ', scores.mean())\n"
   ]
  },
  {
   "cell_type": "code",
   "execution_count": 60,
   "metadata": {},
   "outputs": [
    {
     "data": {
      "text/plain": [
       "(0.4446420559390667, 0.44040279490341144)"
      ]
     },
     "execution_count": 60,
     "metadata": {},
     "output_type": "execute_result"
    }
   ],
   "source": [
    "SC_cAMP_SVM_accuracy_scores = ( scores.mean(), SC_cAMP_test_train_accuracy)\n",
    "SC_cAMP_SVM_accuracy_scores"
   ]
  },
  {
   "cell_type": "markdown",
   "metadata": {},
   "source": [
    "This time the accuracy is lower, but the naive baysean model would predict lower too. The theoretical 33.43% that would be achieved by chance is increased to 44% by the SVM. I am pleased that at least it gets many correct from each category, but the accuracy is still really quite low."
   ]
  },
  {
   "cell_type": "markdown",
   "metadata": {},
   "source": [
    "I am moving on to the K-Nearest-Neighbors for this dataset. The first step will be to determine a good value for K to use. I have copied code and left the variable as Cs, but it is really Ks. "
   ]
  },
  {
   "cell_type": "code",
   "execution_count": 61,
   "metadata": {},
   "outputs": [],
   "source": [
    "# #First, finding a good value of N to use\n",
    "\n",
    "# Cs = range(1,201,2)\n",
    "# Accuracies = np.zeros(100)\n",
    "# for i in Cs: \n",
    "#     model_numbers = KNeighborsClassifier(n_neighbors=i)\n",
    "#     scores = cross_val_score(estimator = model_numbers, X = scaled_cAMP_X, y = SC_cAMP_y.ravel(), cv=5, scoring='accuracy')    \n",
    "#     Accuracies[int((i-1)/2)]  = scores.mean()\n",
    "        \n",
    "# SC_cAMP_KNN_Ns = pd.DataFrame({\"C_value\": Cs, \"Accuracy\": Accuracies}) \n",
    "# SC_cAMP_KNN_Ns.to_csv(output_path+\"SC_cAMP_KNN_Ns.csv\")\n",
    "\n",
    "# plt.plot(Cs,Accuracies)\n",
    "# plt.show()"
   ]
  },
  {
   "cell_type": "code",
   "execution_count": 62,
   "metadata": {
    "scrolled": true
   },
   "outputs": [
    {
     "name": "stdout",
     "output_type": "stream",
     "text": [
      "Maximum Accuracy is: 0.4400389889587145 for C = 81\n"
     ]
    },
    {
     "data": {
      "image/png": "[encoded data removed]",
      "text/plain": [
       "<Figure size 432x288 with 1 Axes>"
      ]
     },
     "metadata": {
      "needs_background": "light"
     },
     "output_type": "display_data"
    }
   ],
   "source": [
    "SC_cAMP_KNN_Ns = pd.read_csv(output_path+\"SC_cAMP_KNN_Ns.csv\", index_col = 0)\n",
    "\n",
    "max_accuracies = max(SC_cAMP_KNN_Ns[\"Accuracy\"])\n",
    "for i,num in enumerate( SC_cAMP_KNN_Ns[\"Accuracy\"]):\n",
    "    if num == max_accuracies:\n",
    "        max_c = i*2+1\n",
    "        print (\"Maximum Accuracy is:\", max_accuracies, \"for C =\", round(max_c, 1))\n",
    "        #This is only going to get the first one, but all after 6 give the same result\n",
    "        break\n",
    "\n",
    "plt.plot(SC_cAMP_KNN_Ns[[\"C_value\"]], SC_cAMP_KNN_Ns[[\"Accuracy\"]])\n",
    "plt.show() "
   ]
  },
  {
   "cell_type": "code",
   "execution_count": 63,
   "metadata": {},
   "outputs": [
    {
     "name": "stdout",
     "output_type": "stream",
     "text": [
      "5-fold cross validation Accuracy =  0.4446420559390667\n"
     ]
    }
   ],
   "source": [
    "model_KNN = KNeighborsClassifier(n_neighbors=81)\n",
    "scores = cross_val_score(estimator = model_numbers, X = scaled_cAMP_X, y = SC_cAMP_y.ravel(), cv=5, scoring='accuracy')    \n",
    "scores.mean()\n",
    "print('5-fold cross validation Accuracy = ', scores.mean())"
   ]
  },
  {
   "cell_type": "code",
   "execution_count": 64,
   "metadata": {},
   "outputs": [
    {
     "name": "stdout",
     "output_type": "stream",
     "text": [
      "Test on 80%, train on 20% Accuracy =  0.43680641183723795\n",
      "\n",
      "Confusion Matrix:\n",
      "[[1347  589 1162]\n",
      " [ 763  866 1517]\n",
      " [ 804  646 2038]]\n"
     ]
    }
   ],
   "source": [
    "model_KNN = KNeighborsClassifier(n_neighbors=81)\n",
    "model_KNN.fit(X_train, y_train.ravel())\n",
    "\n",
    "Y_pred = model_KNN.predict(X_test)\n",
    "\n",
    "SC_cAMP_KNN_accuracy = metrics.accuracy_score(y_true = y_test.ravel(), y_pred = Y_pred)\n",
    "print('Test on 80%, train on 20% Accuracy = ', SC_cAMP_KNN_accuracy)\n",
    "\n",
    "\n",
    "SC_cAMP_KNN_confusion = metrics.confusion_matrix(y_true = y_test.ravel(), y_pred = Y_pred)\n",
    "print('\\nConfusion Matrix:')\n",
    "print(SC_cAMP_KNN_confusion)"
   ]
  },
  {
   "cell_type": "code",
   "execution_count": 65,
   "metadata": {},
   "outputs": [
    {
     "data": {
      "text/plain": [
       "(0.4446420559390667, 0.43680641183723795)"
      ]
     },
     "execution_count": 65,
     "metadata": {},
     "output_type": "execute_result"
    }
   ],
   "source": [
    "SC_cAMP_KNN_accuracy_scores = ( scores.mean(), SC_cAMP_KNN_accuracy)\n",
    "SC_cAMP_KNN_accuracy_scores"
   ]
  },
  {
   "cell_type": "markdown",
   "metadata": {},
   "source": [
    "I got almost the exact same accuracy for the KNN as I got for SVM. Although it isn't extremely accurate, it is better than drawing decisions out of a bag. "
   ]
  },
  {
   "cell_type": "markdown",
   "metadata": {},
   "source": [
    "Now I am going to try this with the decision tree and see how this works out. The first step is going to be to determine the max depth and the min_samples_split values that give the most accurate results. "
   ]
  },
  {
   "cell_type": "code",
   "execution_count": 66,
   "metadata": {},
   "outputs": [
    {
     "data": {
      "image/png": "[encoded data removed]",
      "text/plain": [
       "<Figure size 432x288 with 1 Axes>"
      ]
     },
     "metadata": {
      "needs_background": "light"
     },
     "output_type": "display_data"
    }
   ],
   "source": [
    "Cs = range(2,20,1)\n",
    "Accuracies = np.zeros(len(Cs))\n",
    "for i,C in enumerate(Cs): \n",
    "    model_numbers = tree.DecisionTreeClassifier(min_samples_split=15, max_depth=C)\n",
    "    scores = cross_val_score(estimator = model_numbers, X = scaled_cAMP_X, y = SC_cAMP_y.ravel(), cv=5, scoring='accuracy')    \n",
    "    Accuracies[i]  = scores.mean()\n",
    "\n",
    "SC_cAMP_DT_depth = pd.DataFrame({\"C_value\": Cs, \"Accuracy\": Accuracies}) \n",
    "SC_cAMP_DT_depth.to_csv(output_path+\"SC_cAMP_D_Tree_depths.csv\")\n",
    "        \n",
    "plt.plot(Cs,Accuracies)\n",
    "plt.show()"
   ]
  },
  {
   "cell_type": "code",
   "execution_count": 67,
   "metadata": {},
   "outputs": [
    {
     "name": "stdout",
     "output_type": "stream",
     "text": [
      "Maximum Accuracy is: 0.4466997338726301 for Depth = 4\n"
     ]
    },
    {
     "data": {
      "image/png": "[encoded data removed]",
      "text/plain": [
       "<Figure size 432x288 with 1 Axes>"
      ]
     },
     "metadata": {
      "needs_background": "light"
     },
     "output_type": "display_data"
    }
   ],
   "source": [
    "SC_cAMP_DT_depth = pd.read_csv(output_path+\"SC_cAMP_D_Tree_depths.csv\", index_col = 0)\n",
    "\n",
    "max_accuracies = max(SC_cAMP_DT_depth[\"Accuracy\"])\n",
    "for i,num in enumerate( SC_cAMP_DT_depth[\"Accuracy\"]):\n",
    "    if num == max_accuracies:\n",
    "        max_c = i+2\n",
    "        print (\"Maximum Accuracy is:\", max_accuracies, \"for Depth =\", round(max_c, 1))\n",
    "        #This is only going to get the first one, but all after 6 give the same result\n",
    "        break\n",
    "\n",
    "plt.plot(SC_cAMP_DT_depth[[\"C_value\"]], SC_cAMP_DT_depth[[\"Accuracy\"]])\n",
    "plt.show() "
   ]
  },
  {
   "cell_type": "code",
   "execution_count": 68,
   "metadata": {},
   "outputs": [
    {
     "data": {
      "image/png": "[encoded data removed]",
      "text/plain": [
       "<Figure size 432x288 with 1 Axes>"
      ]
     },
     "metadata": {
      "needs_background": "light"
     },
     "output_type": "display_data"
    }
   ],
   "source": [
    "Cs = range(5,1001,5)\n",
    "Accuracies = np.zeros(len(Cs))\n",
    "for i,C in enumerate(Cs): \n",
    "    model_numbers = tree.DecisionTreeClassifier(min_samples_split=C, max_depth=4)\n",
    "    scores = cross_val_score(estimator = model_numbers, X = scaled_cAMP_X, y = SC_cAMP_y.ravel(), cv=5, scoring='accuracy')    \n",
    "    Accuracies[i]  = scores.mean()\n",
    "\n",
    "SC_cAMP_DT_min_split = pd.DataFrame({\"C_value\": Cs, \"Accuracy\": Accuracies}) \n",
    "SC_cAMP_DT_min_split.to_csv(output_path+\"SC_cAMP_D_Tree_min_split.csv\")\n",
    "\n",
    "plt.plot(Cs,Accuracies)\n",
    "plt.show()"
   ]
  },
  {
   "cell_type": "code",
   "execution_count": 69,
   "metadata": {},
   "outputs": [
    {
     "name": "stdout",
     "output_type": "stream",
     "text": [
      "Maximum Accuracy is: 0.4480968817340668 for Depth = 720\n"
     ]
    },
    {
     "data": {
      "image/png": "[encoded data removed]",
      "text/plain": [
       "<Figure size 432x288 with 1 Axes>"
      ]
     },
     "metadata": {
      "needs_background": "light"
     },
     "output_type": "display_data"
    }
   ],
   "source": [
    "SC_cAMP_DT_min_split = pd.read_csv(output_path+\"SC_cAMP_D_Tree_min_split.csv\", index_col = 0)\n",
    "\n",
    "max_accuracies = max(SC_cAMP_DT_min_split[\"Accuracy\"])\n",
    "for i,num in enumerate( SC_cAMP_DT_min_split[\"Accuracy\"]):\n",
    "    if num == max_accuracies:\n",
    "        max_c = i*5+5\n",
    "        print (\"Maximum Accuracy is:\", max_accuracies, \"for Depth =\", round(max_c, 1))\n",
    "        #This is only going to get the first one, but all after 6 give the same result\n",
    "        break\n",
    "\n",
    "plt.plot(SC_cAMP_DT_min_split[[\"C_value\"]], SC_cAMP_DT_min_split[[\"Accuracy\"]])\n",
    "plt.show() "
   ]
  },
  {
   "cell_type": "markdown",
   "metadata": {},
   "source": [
    "Now I have a max depth of 4 and a min samples split value of 720. That seems shallow and like an awful lot of samples for a minimum split, but that is what the runs above have shown. "
   ]
  },
  {
   "cell_type": "code",
   "execution_count": 70,
   "metadata": {},
   "outputs": [
    {
     "name": "stdout",
     "output_type": "stream",
     "text": [
      "Accuracy on training data =  0.4603370324702014\n",
      "Accuracy on test data =  0.4394780106863954\n"
     ]
    }
   ],
   "source": [
    "X_train, X_test, y_train, y_test = train_test_split(scaled_cAMP_X, SC_cAMP_y.ravel(), random_state=1, test_size=0.8) \n",
    "decisionTree = tree.DecisionTreeClassifier(max_depth = 4, min_samples_split = 720)\n",
    "decisionTree = decisionTree.fit(X_train, y_train )\n",
    "y_pred_train = decisionTree.predict(X_train)\n",
    "# predict with the training data\n",
    "# measure accuracy\n",
    "print('Accuracy on training data = ', metrics.accuracy_score(y_true = y_train, y_pred = y_pred_train))\n",
    "\n",
    "# predict with the test data\n",
    "y_pred = decisionTree.predict(X_test)\n",
    "# measure accuracy\n",
    "print('Accuracy on test data = ', metrics.accuracy_score(y_true = y_test, y_pred = y_pred))"
   ]
  },
  {
   "cell_type": "code",
   "execution_count": 71,
   "metadata": {},
   "outputs": [
    {
     "name": "stdout",
     "output_type": "stream",
     "text": [
      "Accuracy on training data =  0.4603370324702014\n",
      "Accuracy on test data =  0.4394780106863954\n"
     ]
    }
   ],
   "source": [
    "## This is trying the same thing, just with data that isn't scaled. \n",
    "\n",
    "X_train, X_test, y_train, y_test = train_test_split(SC_cAMP_X, SC_cAMP_y.ravel(), random_state=1, test_size=0.8) \n",
    "decisionTree = tree.DecisionTreeClassifier(max_depth = 4, min_samples_split = 720)\n",
    "decisionTree = decisionTree.fit(X_train, y_train )\n",
    "y_pred_train = decisionTree.predict(X_train)\n",
    "# predict with the training data\n",
    "# measure accuracy\n",
    "print('Accuracy on training data = ', metrics.accuracy_score(y_true = y_train, y_pred = y_pred_train))\n",
    "\n",
    "# predict with the test data\n",
    "y_pred = decisionTree.predict(X_test)\n",
    "# measure accuracy\n",
    "print('Accuracy on test data = ', metrics.accuracy_score(y_true = y_test, y_pred = y_pred))"
   ]
  },
  {
   "cell_type": "code",
   "execution_count": 72,
   "metadata": {},
   "outputs": [],
   "source": [
    "from IPython.display import Image, display  \n",
    "import pydotplus \n",
    "from scipy import misc\n",
    "\n",
    "def renderTree(my_tree, features):\n",
    "    # hacky solution of writing to files and reading again\n",
    "    # necessary due to library bugs\n",
    "    filename = \"temp.dot\"\n",
    "    with open(filename, 'w') as f:\n",
    "        f = tree.export_graphviz(my_tree, \n",
    "                                 out_file=f, \n",
    "                                 feature_names=features, \n",
    "                                 class_names=[\"Downregulated\", \"Nondifferential\", \"Upregulated\"],  \n",
    "                                 filled=True, \n",
    "                                 rounded=True,\n",
    "                                 special_characters=True)\n",
    "  \n",
    "    dot_data = \"\"\n",
    "    with open(filename, 'r') as f:\n",
    "        dot_data = f.read()\n",
    "\n",
    "    graph = pydotplus.graph_from_dot_data(dot_data)\n",
    "    image_name = output_path+\"SC_cAMP_Decision_Tree.png\"\n",
    "    graph.write_png(image_name)  \n",
    "    display(Image(filename=image_name))"
   ]
  },
  {
   "cell_type": "code",
   "execution_count": 73,
   "metadata": {},
   "outputs": [
    {
     "data": {
      "image/png": "[encoded data removed]",
      "text/plain": [
       "<IPython.core.display.Image object>"
      ]
     },
     "metadata": {},
     "output_type": "display_data"
    }
   ],
   "source": [
    "#used_features = list(all_of_the_columns.iloc[:,2:-1])\n",
    "used_features = list(SC_cAMP_cleaned_dataset[['Length', 'Exon Length',\n",
    "                     'TSS_Downregulated', 'Downstream_Promoter_Downregulated',\n",
    "                     'Gene_Body_Downregulated', 'Upstream_Promoter_Downregulated',\n",
    "                     'TSS_Nondifferential', 'Downstream_Promoter_Nondifferential',\n",
    "                     'Gene_Body_Nondifferential', 'Upstream_Promoter_Nondifferential',\n",
    "                     'TSS_Upregulated', 'Downstream_Promoter_Upregulated',\n",
    "                     'Gene_Body_Upregulated', 'Upstream_Promoter_Upregulated','Numeric_Biotype', 'Numeric_Chr']].columns.values)\n",
    "\n",
    "\n",
    "renderTree(decisionTree, used_features)"
   ]
  },
  {
   "cell_type": "code",
   "execution_count": 74,
   "metadata": {},
   "outputs": [
    {
     "name": "stdout",
     "output_type": "stream",
     "text": [
      "(0.4446420559390667, 0.44040279490341144)\n",
      "(0.4446420559390667, 0.43680641183723795)\n"
     ]
    }
   ],
   "source": [
    "print(SC_cAMP_SVM_accuracy_scores)\n",
    "print(SC_cAMP_KNN_accuracy_scores)"
   ]
  },
  {
   "cell_type": "markdown",
   "metadata": {},
   "source": [
    "Well, the results are in for the SC cAMP dataset. If I had used a naive Bayes model, I would have achieved 33.43%. Using SVM, I got 44.46% using the 5-fold cross validation and 44.04% accuracy on the one time test-train split using 80% for testing. Using KNN, I got 43.97% using the 5-fold cross validation and 43.68% accuracy on the one time test-train split using 80% for testing. Using the decision tree I got 46.03% accuracy on the training data and 43.95% accuracy on the test data. I am quite impressed that all three models gave me almost the exact same accuracy. Now that I have determined good parameters to use, I would like to see how a model trained on the SC cAMP dataset performs when tested on the other two datasets. I will try to run it back the other direction as well. \n"
   ]
  },
  {
   "cell_type": "code",
   "execution_count": 75,
   "metadata": {},
   "outputs": [],
   "source": [
    "ARPE_cleaned_dataset = pd.read_pickle(cleaned_data_path+\"ARPE_Combined_Cleaned_Data.pkl\")\n",
    "SC_VitC_cleaned_dataset = pd.read_pickle(cleaned_data_path+\"SC_VitC_Combined_Cleaned_Data.pkl\")\n",
    "SC_cAMP_cleaned_dataset = pd.read_pickle(cleaned_data_path+\"SC_cAMP_Combined_Cleaned_Data.pkl\")\n"
   ]
  },
  {
   "cell_type": "code",
   "execution_count": 76,
   "metadata": {},
   "outputs": [],
   "source": [
    "def get_change(change):\n",
    "    if change == \"Downregulated\":\n",
    "        return 0\n",
    "    elif change == \"Nondifferential\":\n",
    "        return 1\n",
    "    elif change == \"Upregulated\":\n",
    "        return 2\n",
    "    else:\n",
    "        return \"Remove this one from the dataset\"\n",
    "\n",
    "ARPE_cleaned_dataset[\"Numeric_Change\"] = ARPE_cleaned_dataset[\"Change\"].apply(get_change)\n",
    "\n",
    "def get_biotype(biotype):\n",
    "    if biotype == \"protein_coding\":\n",
    "        return 1\n",
    "    else:\n",
    "        return 0\n",
    "\n",
    "ARPE_cleaned_dataset[\"Numeric_Biotype\"] = ARPE_cleaned_dataset[\"Biotype\"].apply(get_biotype)\n",
    "\n",
    "def get_chromosome(Chr):\n",
    "    if Chr == \"X\": \n",
    "        return 0\n",
    "    elif Chr == \"Y\": \n",
    "        return 0\n",
    "    elif Chr == \"1\": \n",
    "        return 0\n",
    "    elif Chr == \"2\": \n",
    "        return 0\n",
    "    elif Chr == \"3\": \n",
    "        return 0\n",
    "    elif Chr == \"4\": \n",
    "        return 0\n",
    "    elif Chr == \"5\": \n",
    "        return 0\n",
    "    elif Chr == \"6\": \n",
    "        return 0\n",
    "    elif Chr == \"7\": \n",
    "        return 0\n",
    "    elif Chr == \"8\": \n",
    "        return 0\n",
    "    elif Chr == \"9\": \n",
    "        return 0\n",
    "    elif Chr == \"10\": \n",
    "        return 0\n",
    "    elif Chr == \"11\": \n",
    "        return 0\n",
    "    elif Chr == \"12\": \n",
    "        return 0\n",
    "    elif Chr == \"13\": \n",
    "        return 0\n",
    "    elif Chr == \"14\": \n",
    "        return 0\n",
    "    elif Chr == \"15\": \n",
    "        return 0\n",
    "    elif Chr == \"16\": \n",
    "        return 0\n",
    "    elif Chr == \"17\": \n",
    "        return 0\n",
    "    elif Chr == \"18\": \n",
    "        return 0\n",
    "    elif Chr == \"19\": \n",
    "        return 0\n",
    "    elif Chr == \"20\": \n",
    "        return 0\n",
    "    elif Chr == \"21\": \n",
    "        return 0\n",
    "    elif Chr == \"22\": \n",
    "        return 0\n",
    "    else:\n",
    "        return 1\n",
    "\n",
    "ARPE_cleaned_dataset[\"Numeric_Chr\"] = ARPE_cleaned_dataset[\"Chr\"].apply(get_chromosome)"
   ]
  },
  {
   "cell_type": "code",
   "execution_count": 77,
   "metadata": {},
   "outputs": [],
   "source": [
    "ARPE_X = np.array(ARPE_cleaned_dataset[['Length', 'Exonic Length',\n",
    "                     'TSS_Downregulated', 'Downstream_Promoter_Downregulated',\n",
    "                     'Gene_Body_Downregulated', 'Upstream_Promoter_Downregulated',\n",
    "                     'TSS_Nondifferential', 'Downstream_Promoter_Nondifferential',\n",
    "                     'Gene_Body_Nondifferential', 'Upstream_Promoter_Nondifferential',\n",
    "                     'TSS_Upregulated', 'Downstream_Promoter_Upregulated',\n",
    "                     'Gene_Body_Upregulated', 'Upstream_Promoter_Upregulated','Numeric_Biotype', 'Numeric_Chr']])\n",
    "\n",
    "ARPE_y = np.array(ARPE_cleaned_dataset[[\"Numeric_Change\"]])"
   ]
  },
  {
   "cell_type": "code",
   "execution_count": 78,
   "metadata": {},
   "outputs": [
    {
     "name": "stdout",
     "output_type": "stream",
     "text": [
      "14599\n",
      "14599\n",
      "14599\n"
     ]
    }
   ],
   "source": [
    "scaled_ARPE_X = scale(ARPE_X)\n",
    "#ARPE_X_train, ARPE_X_test, ARPE_y_train, ARPE_y_test = train_test_split(scaled_ARPE_X, ARPE_y, random_state=1, test_size=0.8) \n",
    "print(len(ARPE_X))\n",
    "print(len(scaled_ARPE_X))\n",
    "print(len(ARPE_y))\n",
    "# print(len(ARPE_X_train))\n",
    "# print(len(ARPE_y_train))\n",
    "# print(len(ARPE_X_test))\n",
    "# print(len(ARPE_y_test))\n"
   ]
  },
  {
   "cell_type": "code",
   "execution_count": 79,
   "metadata": {},
   "outputs": [],
   "source": [
    "def get_change(change):\n",
    "    if change == \"Downregulated\":\n",
    "        return 0\n",
    "    elif change == \"Nondifferential\":\n",
    "        return 1\n",
    "    elif change == \"Upregulated\":\n",
    "        return 2\n",
    "    else:\n",
    "        return \"Remove this one from the dataset\"\n",
    "\n",
    "SC_VitC_cleaned_dataset[\"Numeric_Change\"] = SC_VitC_cleaned_dataset[\"Change\"].apply(get_change)\n",
    "\n",
    "def get_biotype(biotype):\n",
    "    if biotype == \"protein_coding\":\n",
    "        return 1\n",
    "    else:\n",
    "        return 0\n",
    "\n",
    "SC_VitC_cleaned_dataset[\"Numeric_Biotype\"] = SC_VitC_cleaned_dataset[\"Gene_Biotype\"].apply(get_biotype)\n",
    "\n",
    "def get_chromosome(Chr):\n",
    "    if Chr == \"X\": \n",
    "        return 0\n",
    "    elif Chr == \"Y\": \n",
    "        return 0\n",
    "    elif Chr == \"1\": \n",
    "        return 0\n",
    "    elif Chr == \"2\": \n",
    "        return 0\n",
    "    elif Chr == \"3\": \n",
    "        return 0\n",
    "    elif Chr == \"4\": \n",
    "        return 0\n",
    "    elif Chr == \"5\": \n",
    "        return 0\n",
    "    elif Chr == \"6\": \n",
    "        return 0\n",
    "    elif Chr == \"7\": \n",
    "        return 0\n",
    "    elif Chr == \"8\": \n",
    "        return 0\n",
    "    elif Chr == \"9\": \n",
    "        return 0\n",
    "    elif Chr == \"10\": \n",
    "        return 0\n",
    "    elif Chr == \"11\": \n",
    "        return 0\n",
    "    elif Chr == \"12\": \n",
    "        return 0\n",
    "    elif Chr == \"13\": \n",
    "        return 0\n",
    "    elif Chr == \"14\": \n",
    "        return 0\n",
    "    elif Chr == \"15\": \n",
    "        return 0\n",
    "    elif Chr == \"16\": \n",
    "        return 0\n",
    "    elif Chr == \"17\": \n",
    "        return 0\n",
    "    elif Chr == \"18\": \n",
    "        return 0\n",
    "    elif Chr == \"19\": \n",
    "        return 0\n",
    "    elif Chr == \"20\": \n",
    "        return 0\n",
    "    elif Chr == \"21\": \n",
    "        return 0\n",
    "    elif Chr == \"22\": \n",
    "        return 0\n",
    "    else:\n",
    "        return 1\n",
    "\n",
    "SC_VitC_cleaned_dataset[\"Numeric_Chr\"] = SC_VitC_cleaned_dataset[\"Chr\"].apply(get_chromosome)"
   ]
  },
  {
   "cell_type": "code",
   "execution_count": 80,
   "metadata": {},
   "outputs": [],
   "source": [
    "SC_VitC_X = np.array(SC_VitC_cleaned_dataset[['Length', 'Exon Length',\n",
    "                     'TSS_Downregulated', 'Downstream_Promoter_Downregulated',\n",
    "                     'Gene_Body_Downregulated', 'Upstream_Promoter_Downregulated',\n",
    "                     'TSS_Nondifferential', 'Downstream_Promoter_Nondifferential',\n",
    "                     'Gene_Body_Nondifferential', 'Upstream_Promoter_Nondifferential',\n",
    "                     'TSS_Upregulated', 'Downstream_Promoter_Upregulated',\n",
    "                     'Gene_Body_Upregulated', 'Upstream_Promoter_Upregulated','Numeric_Biotype', 'Numeric_Chr']])\n",
    "\n",
    "SC_VitC_y = np.array(SC_VitC_cleaned_dataset[[\"Numeric_Change\"]])"
   ]
  },
  {
   "cell_type": "code",
   "execution_count": 81,
   "metadata": {},
   "outputs": [
    {
     "name": "stdout",
     "output_type": "stream",
     "text": [
      "12152\n",
      "12152\n",
      "12152\n"
     ]
    }
   ],
   "source": [
    "scaled_SC_VitC_X = scale(SC_VitC_X)\n",
    "print(len(SC_VitC_X))\n",
    "print(len(scaled_SC_VitC_X))\n",
    "print(len(SC_VitC_y))"
   ]
  },
  {
   "cell_type": "code",
   "execution_count": 82,
   "metadata": {},
   "outputs": [],
   "source": [
    "SC_cAMP_cleaned_dataset[\"Numeric_Change\"] = SC_cAMP_cleaned_dataset[\"Change\"].apply(get_change)\n",
    "\n",
    "SC_cAMP_cleaned_dataset[\"Numeric_Biotype\"] = SC_cAMP_cleaned_dataset[\"Gene_Biotype\"].apply(get_biotype)\n",
    "\n",
    "SC_cAMP_cleaned_dataset[\"Numeric_Chr\"] = SC_cAMP_cleaned_dataset[\"Chr\"].apply(get_chromosome)"
   ]
  },
  {
   "cell_type": "code",
   "execution_count": 83,
   "metadata": {},
   "outputs": [
    {
     "name": "stdout",
     "output_type": "stream",
     "text": [
      "12165\n",
      "12165\n",
      "12165\n"
     ]
    }
   ],
   "source": [
    "SC_cAMP_X = np.array(SC_cAMP_cleaned_dataset[['Length', 'Exon Length',\n",
    "                     'TSS_Downregulated', 'Downstream_Promoter_Downregulated',\n",
    "                     'Gene_Body_Downregulated', 'Upstream_Promoter_Downregulated',\n",
    "                     'TSS_Nondifferential', 'Downstream_Promoter_Nondifferential',\n",
    "                     'Gene_Body_Nondifferential', 'Upstream_Promoter_Nondifferential',\n",
    "                     'TSS_Upregulated', 'Downstream_Promoter_Upregulated',\n",
    "                     'Gene_Body_Upregulated', 'Upstream_Promoter_Upregulated','Numeric_Biotype', 'Numeric_Chr']])\n",
    "\n",
    "SC_cAMP_y = np.array(SC_cAMP_cleaned_dataset[[\"Numeric_Change\"]])\n",
    "scaled_SC_cAMP_X = scale(SC_cAMP_X)\n",
    "print(len(SC_cAMP_X))\n",
    "print(len(scaled_SC_cAMP_X))\n",
    "print(len(SC_cAMP_y))"
   ]
  },
  {
   "cell_type": "code",
   "execution_count": 84,
   "metadata": {},
   "outputs": [
    {
     "name": "stdout",
     "output_type": "stream",
     "text": [
      "14599\n",
      "14599\n",
      "14599\n",
      "\n",
      "\n",
      "12152\n",
      "12152\n",
      "12152\n",
      "\n",
      "\n",
      "12165\n",
      "12165\n",
      "12165\n"
     ]
    }
   ],
   "source": [
    "print(len(ARPE_X))\n",
    "print(len(scaled_ARPE_X))\n",
    "print(len(ARPE_y))\n",
    "print(\"\\n\")\n",
    "print(len(SC_VitC_X))\n",
    "print(len(scaled_SC_VitC_X))\n",
    "print(len(SC_VitC_y))\n",
    "print(\"\\n\")\n",
    "print(len(SC_cAMP_X))\n",
    "print(len(scaled_SC_cAMP_X))\n",
    "print(len(SC_cAMP_y))"
   ]
  },
  {
   "cell_type": "markdown",
   "metadata": {},
   "source": [
    "First is SVM, which requires the scaled X data.\n",
    "I accidentally left the print statements as Test on 80% train on 20%, but they are really trained on one dataset and tested on all 3 datasets. \n"
   ]
  },
  {
   "cell_type": "code",
   "execution_count": 85,
   "metadata": {},
   "outputs": [
    {
     "name": "stdout",
     "output_type": "stream",
     "text": [
      "Test on 80%, train on 20% Accuracy =  0.45869297163995065\n",
      "\n",
      "Confusion Matrix:\n",
      "[[1774  286 1807]\n",
      " [ 936  572 2445]\n",
      " [ 840  271 3234]]\n"
     ]
    }
   ],
   "source": [
    "model_svm = svm.SVC(kernel='rbf',C=0.4,gamma='auto')\n",
    "model_svm.fit(scaled_SC_cAMP_X, SC_cAMP_y.ravel())\n",
    "\n",
    "Y_pred = model_svm.predict(scaled_SC_cAMP_X)\n",
    "\n",
    "SC_cAMP_vs_SC_cAMP_SVM_Accuracy = metrics.accuracy_score(y_true = SC_cAMP_y.ravel(), y_pred = Y_pred)\n",
    "print('Test on 80%, train on 20% Accuracy = ', SC_cAMP_vs_SC_cAMP_SVM_Accuracy)\n",
    "\n",
    "\n",
    "SC_cAMP_vs_SC_cAMP_SVM_Confusion = metrics.confusion_matrix(y_true = SC_cAMP_y.ravel(), y_pred = Y_pred)\n",
    "print('\\nConfusion Matrix:')\n",
    "print(SC_cAMP_vs_SC_cAMP_SVM_Confusion)"
   ]
  },
  {
   "cell_type": "code",
   "execution_count": 86,
   "metadata": {},
   "outputs": [
    {
     "name": "stdout",
     "output_type": "stream",
     "text": [
      "Test on 80%, train on 20% Accuracy =  0.2900198643742722\n",
      "\n",
      "Confusion Matrix:\n",
      "[[ 401  319  697]\n",
      " [2595 2274 5051]\n",
      " [1420  283 1559]]\n"
     ]
    }
   ],
   "source": [
    "model_svm = svm.SVC(kernel='rbf',C=0.4,gamma='auto')\n",
    "model_svm.fit(scaled_SC_cAMP_X, SC_cAMP_y.ravel())\n",
    "\n",
    "Y_pred = model_svm.predict(scaled_ARPE_X)\n",
    "\n",
    "SC_cAMP_vs_ARPE_SVM_Accuracy = metrics.accuracy_score(y_true = ARPE_y.ravel(), y_pred = Y_pred)\n",
    "print('Test on 80%, train on 20% Accuracy = ', SC_cAMP_vs_ARPE_SVM_Accuracy)\n",
    "\n",
    "\n",
    "SC_cAMP_vs_ARPE_SVM_Confusion = metrics.confusion_matrix(y_true = ARPE_y.ravel(), y_pred = Y_pred)\n",
    "print('\\nConfusion Matrix:')\n",
    "print(SC_cAMP_vs_ARPE_SVM_Confusion)"
   ]
  },
  {
   "cell_type": "code",
   "execution_count": 87,
   "metadata": {},
   "outputs": [
    {
     "name": "stdout",
     "output_type": "stream",
     "text": [
      "Test on 80%, train on 20% Accuracy =  0.18120473996050032\n",
      "\n",
      "Confusion Matrix:\n",
      "[[ 410   52 1336]\n",
      " [2329  932 5109]\n",
      " [1039   85  860]]\n"
     ]
    }
   ],
   "source": [
    "model_svm = svm.SVC(kernel='rbf',C=0.4,gamma='auto')\n",
    "model_svm.fit(scaled_SC_cAMP_X, SC_cAMP_y.ravel())\n",
    "\n",
    "Y_pred = model_svm.predict(scaled_SC_VitC_X)\n",
    "\n",
    "SC_cAMP_vs_SC_VitC_SVM_Accuracy = metrics.accuracy_score(y_true = SC_VitC_y.ravel(), y_pred = Y_pred)\n",
    "print('Test on 80%, train on 20% Accuracy = ', SC_cAMP_vs_SC_VitC_SVM_Accuracy)\n",
    "\n",
    "\n",
    "SC_cAMP_vs_SC_VitC_SVM_Confusion = metrics.confusion_matrix(y_true = SC_VitC_y.ravel(), y_pred = Y_pred)\n",
    "print('\\nConfusion Matrix:')\n",
    "print(SC_cAMP_vs_SC_VitC_SVM_Confusion)"
   ]
  },
  {
   "cell_type": "code",
   "execution_count": 88,
   "metadata": {},
   "outputs": [
    {
     "name": "stdout",
     "output_type": "stream",
     "text": [
      "Test on 80%, train on 20% Accuracy =  0.6933015141540487\n",
      "\n",
      "Confusion Matrix:\n",
      "[[   0 1792    6]\n",
      " [   0 8347   23]\n",
      " [   0 1906   78]]\n"
     ]
    }
   ],
   "source": [
    "model_svm = svm.SVC(kernel='rbf',C=0.4,gamma='auto')\n",
    "model_svm.fit(scaled_SC_VitC_X, SC_VitC_y.ravel())\n",
    "\n",
    "Y_pred = model_svm.predict(scaled_SC_VitC_X)\n",
    "\n",
    "SC_VitC_vs_SC_VitC_SVM_Accuracy = metrics.accuracy_score(y_true = SC_VitC_y.ravel(), y_pred = Y_pred)\n",
    "print('Test on 80%, train on 20% Accuracy = ', SC_VitC_vs_SC_VitC_SVM_Accuracy)\n",
    "\n",
    "\n",
    "SC_VitC_vs_SC_VitC_SVM_Confusion = metrics.confusion_matrix(y_true = SC_VitC_y.ravel(), y_pred = Y_pred)\n",
    "print('\\nConfusion Matrix:')\n",
    "print(SC_VitC_vs_SC_VitC_SVM_Confusion)"
   ]
  },
  {
   "cell_type": "code",
   "execution_count": 89,
   "metadata": {},
   "outputs": [
    {
     "name": "stdout",
     "output_type": "stream",
     "text": [
      "Test on 80%, train on 20% Accuracy =  0.3260172626387176\n",
      "\n",
      "Confusion Matrix:\n",
      "[[   0 3834   33]\n",
      " [   0 3930   23]\n",
      " [   0 4309   36]]\n"
     ]
    }
   ],
   "source": [
    "model_svm = svm.SVC(kernel='rbf',C=0.4,gamma='auto')\n",
    "model_svm.fit(scaled_SC_VitC_X, SC_VitC_y.ravel())\n",
    "\n",
    "Y_pred = model_svm.predict(scaled_SC_cAMP_X)\n",
    "\n",
    "SC_VitC_vs_SC_cAMP_SVM_Accuracy = metrics.accuracy_score(y_true = SC_cAMP_y.ravel(), y_pred = Y_pred)\n",
    "print('Test on 80%, train on 20% Accuracy = ', SC_VitC_vs_SC_cAMP_SVM_Accuracy)\n",
    "\n",
    "\n",
    "SC_VitC_vs_SC_cAMP_SVM_Confusion = metrics.confusion_matrix(y_true = SC_cAMP_y.ravel(), y_pred = Y_pred)\n",
    "print('\\nConfusion Matrix:')\n",
    "print(SC_VitC_vs_SC_cAMP_SVM_Confusion)"
   ]
  },
  {
   "cell_type": "code",
   "execution_count": 90,
   "metadata": {},
   "outputs": [
    {
     "name": "stdout",
     "output_type": "stream",
     "text": [
      "Test on 80%, train on 20% Accuracy =  0.6793616001095966\n",
      "\n",
      "Confusion Matrix:\n",
      "[[   0 1412    5]\n",
      " [   0 9872   48]\n",
      " [   0 3216   46]]\n"
     ]
    }
   ],
   "source": [
    "model_svm = svm.SVC(kernel='rbf',C=0.4,gamma='auto')\n",
    "model_svm.fit(scaled_SC_VitC_X, SC_VitC_y.ravel())\n",
    "\n",
    "Y_pred = model_svm.predict(scaled_ARPE_X)\n",
    "\n",
    "SC_VitC_vs_ARPE_SVM_Accuracy = metrics.accuracy_score(y_true = ARPE_y.ravel(), y_pred = Y_pred)\n",
    "print('Test on 80%, train on 20% Accuracy = ', SC_VitC_vs_ARPE_SVM_Accuracy)\n",
    "\n",
    "\n",
    "SC_VitC_vs_ARPE_SVM_Confusion = metrics.confusion_matrix(y_true = ARPE_y.ravel(), y_pred = Y_pred)\n",
    "print('\\nConfusion Matrix:')\n",
    "print(SC_VitC_vs_ARPE_SVM_Confusion)"
   ]
  },
  {
   "cell_type": "code",
   "execution_count": 91,
   "metadata": {},
   "outputs": [
    {
     "name": "stdout",
     "output_type": "stream",
     "text": [
      "Test on 80%, train on 20% Accuracy =  0.7056647715596959\n",
      "\n",
      "Confusion Matrix:\n",
      "[[   0 1364   53]\n",
      " [   0 9718  202]\n",
      " [   0 2678  584]]\n"
     ]
    }
   ],
   "source": [
    "model_svm = svm.SVC(kernel='rbf',C=0.4,gamma='auto')\n",
    "model_svm.fit(scaled_ARPE_X, ARPE_y.ravel())\n",
    "\n",
    "Y_pred = model_svm.predict(scaled_ARPE_X)\n",
    "\n",
    "ARPE_vs_ARPE_SVM_Accuracy = metrics.accuracy_score(y_true = ARPE_y.ravel(), y_pred = Y_pred)\n",
    "print('Test on 80%, train on 20% Accuracy = ', ARPE_vs_ARPE_SVM_Accuracy)\n",
    "\n",
    "\n",
    "ARPE_vs_ARPE_SVM_Confusion = metrics.confusion_matrix(y_true = ARPE_y.ravel(), y_pred = Y_pred)\n",
    "print('\\nConfusion Matrix:')\n",
    "print(ARPE_vs_ARPE_SVM_Confusion)"
   ]
  },
  {
   "cell_type": "code",
   "execution_count": 92,
   "metadata": {},
   "outputs": [
    {
     "name": "stdout",
     "output_type": "stream",
     "text": [
      "Test on 80%, train on 20% Accuracy =  0.6840849242922976\n",
      "\n",
      "Confusion Matrix:\n",
      "[[   0 1740   58]\n",
      " [   0 8010  360]\n",
      " [   0 1681  303]]\n"
     ]
    }
   ],
   "source": [
    "model_svm = svm.SVC(kernel='rbf',C=0.4,gamma='auto')\n",
    "model_svm.fit(scaled_ARPE_X, ARPE_y.ravel())\n",
    "\n",
    "Y_pred = model_svm.predict(scaled_SC_VitC_X)\n",
    "\n",
    "ARPE_vs_SC_VitC_SVM_Accuracy = metrics.accuracy_score(y_true = SC_VitC_y.ravel(), y_pred = Y_pred)\n",
    "print('Test on 80%, train on 20% Accuracy = ', ARPE_vs_SC_VitC_SVM_Accuracy)\n",
    "\n",
    "\n",
    "ARPE_vs_SC_VitC_SVM_Confusion = metrics.confusion_matrix(y_true = SC_VitC_y.ravel(), y_pred = Y_pred)\n",
    "print('\\nConfusion Matrix:')\n",
    "print(ARPE_vs_SC_VitC_SVM_Confusion)"
   ]
  },
  {
   "cell_type": "code",
   "execution_count": 93,
   "metadata": {},
   "outputs": [
    {
     "name": "stdout",
     "output_type": "stream",
     "text": [
      "Test on 80%, train on 20% Accuracy =  0.33177147554459513\n",
      "\n",
      "Confusion Matrix:\n",
      "[[   0 3498  369]\n",
      " [   0 3836  117]\n",
      " [   0 4145  200]]\n"
     ]
    }
   ],
   "source": [
    "model_svm = svm.SVC(kernel='rbf',C=0.4,gamma='auto')\n",
    "model_svm.fit(scaled_ARPE_X, ARPE_y.ravel())\n",
    "\n",
    "Y_pred = model_svm.predict(scaled_SC_cAMP_X)\n",
    "\n",
    "ARPE_vs_SC_cAMP_SVM_Accuracy = metrics.accuracy_score(y_true = SC_cAMP_y.ravel(), y_pred = Y_pred)\n",
    "print('Test on 80%, train on 20% Accuracy = ', ARPE_vs_SC_cAMP_SVM_Accuracy)\n",
    "\n",
    "\n",
    "ARPE_vs_SC_cAMP_SVM_Confusion = metrics.confusion_matrix(y_true = SC_cAMP_y.ravel(), y_pred = Y_pred)\n",
    "print('\\nConfusion Matrix:')\n",
    "print(ARPE_vs_SC_cAMP_SVM_Confusion)"
   ]
  },
  {
   "cell_type": "markdown",
   "metadata": {},
   "source": [
    "Now to try this with the K-Nearest Neighbors"
   ]
  },
  {
   "cell_type": "code",
   "execution_count": 94,
   "metadata": {},
   "outputs": [
    {
     "name": "stdout",
     "output_type": "stream",
     "text": [
      "Test on 80%, train on 20% Accuracy =  0.46609124537607893\n",
      "\n",
      "Confusion Matrix:\n",
      "[[1762  726 1379]\n",
      " [ 904 1291 1758]\n",
      " [ 859  869 2617]]\n"
     ]
    }
   ],
   "source": [
    "model_KNN = KNeighborsClassifier(n_neighbors=81)\n",
    "model_KNN.fit(scaled_SC_cAMP_X, SC_cAMP_y.ravel())\n",
    "\n",
    "Y_pred = model_KNN.predict(scaled_SC_cAMP_X)\n",
    "\n",
    "SC_cAMP_vs_SC_cAMP_KNN_Accuracy = metrics.accuracy_score(y_true = SC_cAMP_y.ravel(), y_pred = Y_pred)\n",
    "print('Test on 80%, train on 20% Accuracy = ', SC_cAMP_vs_SC_cAMP_KNN_Accuracy)\n",
    "\n",
    "\n",
    "SC_cAMP_vs_SC_cAMP_KNN_Confusion = metrics.confusion_matrix(y_true = SC_cAMP_y.ravel(), y_pred = Y_pred)\n",
    "print('\\nConfusion Matrix:')\n",
    "print(SC_cAMP_vs_SC_cAMP_KNN_Confusion)"
   ]
  },
  {
   "cell_type": "code",
   "execution_count": 95,
   "metadata": {},
   "outputs": [
    {
     "name": "stdout",
     "output_type": "stream",
     "text": [
      "Test on 80%, train on 20% Accuracy =  0.36632646071648745\n",
      "\n",
      "Confusion Matrix:\n",
      "[[ 363  499  555]\n",
      " [2238 3557 4125]\n",
      " [1259  575 1428]]\n"
     ]
    }
   ],
   "source": [
    "model_KNN = KNeighborsClassifier(n_neighbors=81)\n",
    "model_KNN.fit(scaled_SC_cAMP_X, SC_cAMP_y.ravel())\n",
    "\n",
    "Y_pred = model_KNN.predict(scaled_ARPE_X)\n",
    "\n",
    "SC_cAMP_vs_ARPE_KNN_Accuracy = metrics.accuracy_score(y_true = ARPE_y.ravel(), y_pred = Y_pred)\n",
    "print('Test on 80%, train on 20% Accuracy = ', SC_cAMP_vs_ARPE_KNN_Accuracy)\n",
    "\n",
    "\n",
    "SC_cAMP_vs_ARPE_KNN_Confusion = metrics.confusion_matrix(y_true = ARPE_y.ravel(), y_pred = Y_pred)\n",
    "print('\\nConfusion Matrix:')\n",
    "print(SC_cAMP_vs_ARPE_KNN_Confusion)"
   ]
  },
  {
   "cell_type": "code",
   "execution_count": 96,
   "metadata": {},
   "outputs": [
    {
     "name": "stdout",
     "output_type": "stream",
     "text": [
      "Test on 80%, train on 20% Accuracy =  0.26357801184990126\n",
      "\n",
      "Confusion Matrix:\n",
      "[[ 384  291 1123]\n",
      " [2207 2017 4146]\n",
      " [ 971  211  802]]\n"
     ]
    }
   ],
   "source": [
    "model_KNN = KNeighborsClassifier(n_neighbors=81)\n",
    "model_KNN.fit(scaled_SC_cAMP_X, SC_cAMP_y.ravel())\n",
    "\n",
    "Y_pred = model_KNN.predict(scaled_SC_VitC_X)\n",
    "\n",
    "SC_cAMP_vs_SC_VitC_KNN_Accuracy = metrics.accuracy_score(y_true = SC_VitC_y.ravel(), y_pred = Y_pred)\n",
    "print('Test on 80%, train on 20% Accuracy = ', SC_cAMP_vs_SC_VitC_KNN_Accuracy)\n",
    "\n",
    "\n",
    "SC_cAMP_vs_SC_VitC_KNN_Confusion = metrics.confusion_matrix(y_true = SC_VitC_y.ravel(), y_pred = Y_pred)\n",
    "print('\\nConfusion Matrix:')\n",
    "print(SC_cAMP_vs_SC_VitC_KNN_Confusion)"
   ]
  },
  {
   "cell_type": "code",
   "execution_count": 97,
   "metadata": {},
   "outputs": [
    {
     "name": "stdout",
     "output_type": "stream",
     "text": [
      "Test on 80%, train on 20% Accuracy =  0.69050362080316\n",
      "\n",
      "Confusion Matrix:\n",
      "[[   0 1784   14]\n",
      " [   0 8315   55]\n",
      " [   0 1908   76]]\n"
     ]
    }
   ],
   "source": [
    "model_KNN = KNeighborsClassifier(n_neighbors=81)\n",
    "model_KNN.fit(scaled_SC_VitC_X, SC_VitC_y.ravel())\n",
    "\n",
    "Y_pred = model_KNN.predict(scaled_SC_VitC_X)\n",
    "\n",
    "SC_VitC_vs_SC_VitC_KNN_Accuracy = metrics.accuracy_score(y_true = SC_VitC_y.ravel(), y_pred = Y_pred)\n",
    "print('Test on 80%, train on 20% Accuracy = ', SC_VitC_vs_SC_VitC_KNN_Accuracy)\n",
    "\n",
    "\n",
    "SC_VitC_vs_SC_VitC_KNN_Confusion = metrics.confusion_matrix(y_true = SC_VitC_y.ravel(), y_pred = Y_pred)\n",
    "print('\\nConfusion Matrix:')\n",
    "print(SC_VitC_vs_SC_VitC_KNN_Confusion)"
   ]
  },
  {
   "cell_type": "code",
   "execution_count": 98,
   "metadata": {},
   "outputs": [
    {
     "name": "stdout",
     "output_type": "stream",
     "text": [
      "Test on 80%, train on 20% Accuracy =  0.3263460748047678\n",
      "\n",
      "Confusion Matrix:\n",
      "[[   0 3810   57]\n",
      " [   0 3929   24]\n",
      " [   0 4304   41]]\n"
     ]
    }
   ],
   "source": [
    "model_KNN = KNeighborsClassifier(n_neighbors=81)\n",
    "model_KNN.fit(scaled_SC_VitC_X, SC_VitC_y.ravel())\n",
    "\n",
    "Y_pred = model_KNN.predict(scaled_SC_cAMP_X)\n",
    "\n",
    "SC_VitC_vs_SC_cAMP_KNN_Accuracy = metrics.accuracy_score(y_true = SC_cAMP_y.ravel(), y_pred = Y_pred)\n",
    "print('Test on 80%, train on 20% Accuracy = ', SC_VitC_vs_SC_cAMP_KNN_Accuracy)\n",
    "\n",
    "\n",
    "SC_VitC_vs_SC_cAMP_KNN_Confusion = metrics.confusion_matrix(y_true = SC_cAMP_y.ravel(), y_pred = Y_pred)\n",
    "print('\\nConfusion Matrix:')\n",
    "print(SC_VitC_vs_SC_cAMP_KNN_Confusion)"
   ]
  },
  {
   "cell_type": "code",
   "execution_count": 99,
   "metadata": {},
   "outputs": [
    {
     "name": "stdout",
     "output_type": "stream",
     "text": [
      "Test on 80%, train on 20% Accuracy =  0.6806630591136379\n",
      "\n",
      "Confusion Matrix:\n",
      "[[   0 1412    5]\n",
      " [   0 9830   90]\n",
      " [   0 3155  107]]\n"
     ]
    }
   ],
   "source": [
    "model_KNN = KNeighborsClassifier(n_neighbors=81)\n",
    "model_KNN.fit(scaled_SC_VitC_X, SC_VitC_y.ravel())\n",
    "\n",
    "Y_pred = model_KNN.predict(scaled_ARPE_X)\n",
    "\n",
    "SC_VitC_vs_ARPE_KNN_Accuracy = metrics.accuracy_score(y_true = ARPE_y.ravel(), y_pred = Y_pred)\n",
    "print('Test on 80%, train on 20% Accuracy = ', SC_VitC_vs_ARPE_KNN_Accuracy)\n",
    "\n",
    "\n",
    "SC_VitC_vs_ARPE_KNN_Confusion = metrics.confusion_matrix(y_true = ARPE_y.ravel(), y_pred = Y_pred)\n",
    "print('\\nConfusion Matrix:')\n",
    "print(SC_VitC_vs_ARPE_KNN_Confusion)"
   ]
  },
  {
   "cell_type": "code",
   "execution_count": 100,
   "metadata": {},
   "outputs": [
    {
     "name": "stdout",
     "output_type": "stream",
     "text": [
      "Test on 80%, train on 20% Accuracy =  0.6930611685731899\n",
      "\n",
      "Confusion Matrix:\n",
      "[[   0 1367   50]\n",
      " [   0 9654  266]\n",
      " [   0 2798  464]]\n"
     ]
    }
   ],
   "source": [
    "model_KNN = KNeighborsClassifier(n_neighbors=81)\n",
    "model_KNN.fit(scaled_ARPE_X, ARPE_y.ravel())\n",
    "\n",
    "Y_pred = model_KNN.predict(scaled_ARPE_X)\n",
    "\n",
    "ARPE_vs_ARPE_KNN_Accuracy = metrics.accuracy_score(y_true = ARPE_y.ravel(), y_pred = Y_pred)\n",
    "print('Test on 80%, train on 20% Accuracy = ', ARPE_vs_ARPE_KNN_Accuracy)\n",
    "\n",
    "\n",
    "ARPE_vs_ARPE_KNN_Confusion = metrics.confusion_matrix(y_true = ARPE_y.ravel(), y_pred = Y_pred)\n",
    "print('\\nConfusion Matrix:')\n",
    "print(ARPE_vs_ARPE_KNN_Confusion)"
   ]
  },
  {
   "cell_type": "code",
   "execution_count": 101,
   "metadata": {},
   "outputs": [
    {
     "name": "stdout",
     "output_type": "stream",
     "text": [
      "Test on 80%, train on 20% Accuracy =  0.6842495062541145\n",
      "\n",
      "Confusion Matrix:\n",
      "[[   0 1748   50]\n",
      " [   0 8070  300]\n",
      " [   0 1739  245]]\n"
     ]
    }
   ],
   "source": [
    "model_KNN = KNeighborsClassifier(n_neighbors=81)\n",
    "model_KNN.fit(scaled_ARPE_X, ARPE_y.ravel())\n",
    "\n",
    "Y_pred = model_KNN.predict(scaled_SC_VitC_X)\n",
    "\n",
    "ARPE_vs_SC_VitC_KNN_Accuracy = metrics.accuracy_score(y_true = SC_VitC_y.ravel(), y_pred = Y_pred)\n",
    "print('Test on 80%, train on 20% Accuracy = ', ARPE_vs_SC_VitC_KNN_Accuracy)\n",
    "\n",
    "\n",
    "ARPE_vs_SC_VitC_KNN_Confusion = metrics.confusion_matrix(y_true = SC_VitC_y.ravel(), y_pred = Y_pred)\n",
    "print('\\nConfusion Matrix:')\n",
    "print(ARPE_vs_SC_VitC_KNN_Confusion)"
   ]
  },
  {
   "cell_type": "code",
   "execution_count": 102,
   "metadata": {},
   "outputs": [
    {
     "name": "stdout",
     "output_type": "stream",
     "text": [
      "Test on 80%, train on 20% Accuracy =  0.3297163995067818\n",
      "\n",
      "Confusion Matrix:\n",
      "[[   0 3534  333]\n",
      " [   0 3852  101]\n",
      " [   0 4186  159]]\n"
     ]
    }
   ],
   "source": [
    "model_KNN = KNeighborsClassifier(n_neighbors=81)\n",
    "model_KNN.fit(scaled_ARPE_X, ARPE_y.ravel())\n",
    "\n",
    "Y_pred = model_KNN.predict(scaled_SC_cAMP_X)\n",
    "\n",
    "ARPE_vs_SC_cAMP_KNN_Accuracy = metrics.accuracy_score(y_true = SC_cAMP_y.ravel(), y_pred = Y_pred)\n",
    "print('Test on 80%, train on 20% Accuracy = ', ARPE_vs_SC_cAMP_KNN_Accuracy)\n",
    "\n",
    "\n",
    "ARPE_vs_SC_cAMP_KNN_Confusion = metrics.confusion_matrix(y_true = SC_cAMP_y.ravel(), y_pred = Y_pred)\n",
    "print('\\nConfusion Matrix:')\n",
    "print(ARPE_vs_SC_cAMP_KNN_Confusion)"
   ]
  },
  {
   "cell_type": "markdown",
   "metadata": {},
   "source": [
    "Now for the decision trees. These ones don't require scaled data. I honestly don't know how comparable the datasets are, so I am not sure how this will workout. "
   ]
  },
  {
   "cell_type": "code",
   "execution_count": 103,
   "metadata": {},
   "outputs": [
    {
     "name": "stdout",
     "output_type": "stream",
     "text": [
      "Test on 80%, train on 20% Accuracy =  0.6955270908966368\n",
      "\n",
      "Confusion Matrix:\n",
      "[[  18 1296  103]\n",
      " [  14 9256  650]\n",
      " [   0 2382  880]]\n"
     ]
    }
   ],
   "source": [
    "decisionTree = tree.DecisionTreeClassifier(max_depth = 6, min_samples_split = 380)\n",
    "decisionTree = decisionTree.fit(ARPE_X, ARPE_y.ravel())\n",
    "\n",
    "Y_pred = decisionTree.predict(ARPE_X)\n",
    "\n",
    "ARPE_vs_ARPE_DTree_Accuracy = metrics.accuracy_score(y_true = ARPE_y.ravel(), y_pred = Y_pred)\n",
    "print('Test on 80%, train on 20% Accuracy = ', ARPE_vs_ARPE_DTree_Accuracy)\n",
    "\n",
    "\n",
    "ARPE_vs_ARPE_DTree_Confusion = metrics.confusion_matrix(y_true = ARPE_y.ravel(), y_pred = Y_pred)\n",
    "print('\\nConfusion Matrix:')\n",
    "print(ARPE_vs_ARPE_DTree_Confusion)"
   ]
  },
  {
   "cell_type": "code",
   "execution_count": 104,
   "metadata": {},
   "outputs": [
    {
     "name": "stdout",
     "output_type": "stream",
     "text": [
      "Test on 80%, train on 20% Accuracy =  0.3301274147143444\n",
      "\n",
      "Confusion Matrix:\n",
      "[[   1 3402  464]\n",
      " [   2 3797  154]\n",
      " [   0 4127  218]]\n"
     ]
    }
   ],
   "source": [
    "decisionTree = tree.DecisionTreeClassifier(max_depth = 6, min_samples_split = 380)\n",
    "decisionTree = decisionTree.fit(ARPE_X, ARPE_y.ravel())\n",
    "\n",
    "Y_pred = decisionTree.predict(SC_cAMP_X)\n",
    "\n",
    "ARPE_vs_SC_cAMP_DTree_Accuracy = metrics.accuracy_score(y_true = SC_cAMP_y.ravel(), y_pred = Y_pred)\n",
    "print('Test on 80%, train on 20% Accuracy = ', ARPE_vs_SC_cAMP_DTree_Accuracy)\n",
    "\n",
    "\n",
    "ARPE_vs_SC_cAMP_DTree_Confusion = metrics.confusion_matrix(y_true = SC_cAMP_y.ravel(), y_pred = Y_pred)\n",
    "print('\\nConfusion Matrix:')\n",
    "print(ARPE_vs_SC_cAMP_DTree_Confusion)"
   ]
  },
  {
   "cell_type": "code",
   "execution_count": 105,
   "metadata": {},
   "outputs": [
    {
     "name": "stdout",
     "output_type": "stream",
     "text": [
      "Test on 80%, train on 20% Accuracy =  0.6784891375905201\n",
      "\n",
      "Confusion Matrix:\n",
      "[[   0 1734   64]\n",
      " [   2 7905  463]\n",
      " [   0 1644  340]]\n"
     ]
    }
   ],
   "source": [
    "decisionTree = tree.DecisionTreeClassifier(max_depth = 6, min_samples_split = 380)\n",
    "decisionTree = decisionTree.fit(ARPE_X, ARPE_y.ravel())\n",
    "\n",
    "Y_pred = decisionTree.predict(SC_VitC_X)\n",
    "\n",
    "ARPE_vs_SC_VitC_DTree_Accuracy = metrics.accuracy_score(y_true = SC_VitC_y.ravel(), y_pred = Y_pred)\n",
    "print('Test on 80%, train on 20% Accuracy = ', ARPE_vs_SC_VitC_DTree_Accuracy)\n",
    "\n",
    "\n",
    "ARPE_vs_SC_VitC_DTree_Confusion = metrics.confusion_matrix(y_true = SC_VitC_y.ravel(), y_pred = Y_pred)\n",
    "print('\\nConfusion Matrix:')\n",
    "print(ARPE_vs_SC_VitC_DTree_Confusion)"
   ]
  },
  {
   "cell_type": "code",
   "execution_count": 106,
   "metadata": {},
   "outputs": [
    {
     "name": "stdout",
     "output_type": "stream",
     "text": [
      "Test on 80%, train on 20% Accuracy =  0.6931369321922317\n",
      "\n",
      "Confusion Matrix:\n",
      "[[   0 1739   59]\n",
      " [   0 8115  255]\n",
      " [   0 1676  308]]\n"
     ]
    }
   ],
   "source": [
    "decisionTree = tree.DecisionTreeClassifier(max_depth = 6, min_samples_split = 380)\n",
    "decisionTree = decisionTree.fit(SC_VitC_X, SC_VitC_y.ravel())\n",
    "\n",
    "Y_pred = decisionTree.predict(SC_VitC_X)\n",
    "\n",
    "SC_VitC_vs_SC_VitC_DTree_Accuracy = metrics.accuracy_score(y_true = SC_VitC_y.ravel(), y_pred = Y_pred)\n",
    "print('Test on 80%, train on 20% Accuracy = ', SC_VitC_vs_SC_VitC_DTree_Accuracy)\n",
    "\n",
    "\n",
    "SC_VitC_vs_SC_VitC_DTree_Confusion = metrics.confusion_matrix(y_true = SC_VitC_y.ravel(), y_pred = Y_pred)\n",
    "print('\\nConfusion Matrix:')\n",
    "print(SC_VitC_vs_SC_VitC_DTree_Confusion)"
   ]
  },
  {
   "cell_type": "code",
   "execution_count": 107,
   "metadata": {},
   "outputs": [
    {
     "name": "stdout",
     "output_type": "stream",
     "text": [
      "Test on 80%, train on 20% Accuracy =  0.6779231454209192\n",
      "\n",
      "Confusion Matrix:\n",
      "[[   0 1376   41]\n",
      " [   0 9617  303]\n",
      " [   0 2982  280]]\n"
     ]
    }
   ],
   "source": [
    "decisionTree = tree.DecisionTreeClassifier(max_depth = 6, min_samples_split = 380)\n",
    "decisionTree = decisionTree.fit(SC_VitC_X, SC_VitC_y.ravel())\n",
    "\n",
    "Y_pred = decisionTree.predict(ARPE_X)\n",
    "\n",
    "SC_VitC_vs_ARPE_DTree_Accuracy = metrics.accuracy_score(y_true = ARPE_y.ravel(), y_pred = Y_pred)\n",
    "print('Test on 80%, train on 20% Accuracy = ', SC_VitC_vs_ARPE_DTree_Accuracy)\n",
    "\n",
    "\n",
    "SC_VitC_vs_ARPE_DTree_Confusion = metrics.confusion_matrix(y_true = ARPE_y.ravel(), y_pred = Y_pred)\n",
    "print('\\nConfusion Matrix:')\n",
    "print(SC_VitC_vs_ARPE_DTree_Confusion)"
   ]
  },
  {
   "cell_type": "code",
   "execution_count": 108,
   "metadata": {},
   "outputs": [
    {
     "name": "stdout",
     "output_type": "stream",
     "text": [
      "Test on 80%, train on 20% Accuracy =  0.3301274147143444\n",
      "\n",
      "Confusion Matrix:\n",
      "[[   0 3491  376]\n",
      " [   0 3830  123]\n",
      " [   0 4159  186]]\n"
     ]
    }
   ],
   "source": [
    "decisionTree = tree.DecisionTreeClassifier(max_depth = 6, min_samples_split = 380)\n",
    "decisionTree = decisionTree.fit(SC_VitC_X, SC_VitC_y.ravel())\n",
    "\n",
    "Y_pred = decisionTree.predict(SC_cAMP_X)\n",
    "\n",
    "SC_VitC_vs_SC_cAMP_DTree_Accuracy = metrics.accuracy_score(y_true = SC_cAMP_y.ravel(), y_pred = Y_pred)\n",
    "print('Test on 80%, train on 20% Accuracy = ', SC_VitC_vs_SC_cAMP_DTree_Accuracy)\n",
    "\n",
    "\n",
    "SC_VitC_vs_SC_cAMP_DTree_Confusion = metrics.confusion_matrix(y_true = SC_cAMP_y.ravel(), y_pred = Y_pred)\n",
    "print('\\nConfusion Matrix:')\n",
    "print(SC_VitC_vs_SC_cAMP_DTree_Confusion)"
   ]
  },
  {
   "cell_type": "code",
   "execution_count": 109,
   "metadata": {},
   "outputs": [
    {
     "name": "stdout",
     "output_type": "stream",
     "text": [
      "Test on 80%, train on 20% Accuracy =  0.46083025071927664\n",
      "\n",
      "Confusion Matrix:\n",
      "[[2011  146 1710]\n",
      " [1117  591 2245]\n",
      " [1053  288 3004]]\n"
     ]
    }
   ],
   "source": [
    "decisionTree = tree.DecisionTreeClassifier(max_depth = 6, min_samples_split = 380)\n",
    "decisionTree = decisionTree.fit(SC_cAMP_X, SC_cAMP_y.ravel())\n",
    "\n",
    "Y_pred = decisionTree.predict(SC_cAMP_X)\n",
    "\n",
    "SC_cAMP_vs_SC_cAMP_DTree_Accuracy = metrics.accuracy_score(y_true = SC_cAMP_y.ravel(), y_pred = Y_pred)\n",
    "print('Test on 80%, train on 20% Accuracy = ', SC_cAMP_vs_SC_cAMP_DTree_Accuracy)\n",
    "\n",
    "\n",
    "SC_cAMP_vs_SC_cAMP_DTree_Confusion = metrics.confusion_matrix(y_true = SC_cAMP_y.ravel(), y_pred = Y_pred)\n",
    "print('\\nConfusion Matrix:')\n",
    "print(SC_cAMP_vs_SC_cAMP_DTree_Confusion)"
   ]
  },
  {
   "cell_type": "code",
   "execution_count": 110,
   "metadata": {},
   "outputs": [
    {
     "name": "stdout",
     "output_type": "stream",
     "text": [
      "Test on 80%, train on 20% Accuracy =  0.18054641211323239\n",
      "\n",
      "Confusion Matrix:\n",
      "[[ 476  113 1209]\n",
      " [2693  900 4777]\n",
      " [1124   42  818]]\n"
     ]
    }
   ],
   "source": [
    "decisionTree = tree.DecisionTreeClassifier(max_depth = 6, min_samples_split = 380)\n",
    "decisionTree = decisionTree.fit(SC_cAMP_X, SC_cAMP_y.ravel())\n",
    "\n",
    "Y_pred = decisionTree.predict(SC_VitC_X)\n",
    "\n",
    "SC_cAMP_vs_SC_VitC_DTree_Accuracy = metrics.accuracy_score(y_true = SC_VitC_y.ravel(), y_pred = Y_pred)\n",
    "print('Test on 80%, train on 20% Accuracy = ', SC_cAMP_vs_SC_VitC_DTree_Accuracy)\n",
    "\n",
    "\n",
    "SC_cAMP_vs_SC_VitC_DTree_Confusion = metrics.confusion_matrix(y_true = SC_VitC_y.ravel(), y_pred = Y_pred)\n",
    "print('\\nConfusion Matrix:')\n",
    "print(SC_cAMP_vs_SC_VitC_DTree_Confusion)"
   ]
  },
  {
   "cell_type": "code",
   "execution_count": 111,
   "metadata": {},
   "outputs": [
    {
     "name": "stdout",
     "output_type": "stream",
     "text": [
      "Test on 80%, train on 20% Accuracy =  0.2004246866223714\n",
      "\n",
      "Confusion Matrix:\n",
      "[[ 496  176  745]\n",
      " [3459  989 5472]\n",
      " [1753   68 1441]]\n"
     ]
    }
   ],
   "source": [
    "decisionTree = tree.DecisionTreeClassifier(max_depth = 6, min_samples_split = 380)\n",
    "decisionTree = decisionTree.fit(SC_cAMP_X, SC_cAMP_y.ravel())\n",
    "\n",
    "Y_pred = decisionTree.predict(ARPE_X)\n",
    "\n",
    "SC_cAMP_vs_ARPE_DTree_Accuracy = metrics.accuracy_score(y_true = ARPE_y.ravel(), y_pred = Y_pred)\n",
    "print('Test on 80%, train on 20% Accuracy = ', SC_cAMP_vs_ARPE_DTree_Accuracy)\n",
    "\n",
    "\n",
    "SC_cAMP_vs_ARPE_DTree_Confusion = metrics.confusion_matrix(y_true = ARPE_y.ravel(), y_pred = Y_pred)\n",
    "print('\\nConfusion Matrix:')\n",
    "print(SC_cAMP_vs_ARPE_DTree_Confusion)"
   ]
  },
  {
   "cell_type": "code",
   "execution_count": 112,
   "metadata": {},
   "outputs": [
    {
     "name": "stdout",
     "output_type": "stream",
     "text": [
      "14599\n",
      "14599\n",
      "14599\n",
      "\n",
      "\n",
      "12152\n",
      "12152\n",
      "12152\n",
      "\n",
      "\n",
      "12165\n",
      "12165\n",
      "12165\n"
     ]
    }
   ],
   "source": [
    "print(len(ARPE_X))\n",
    "print(len(scaled_ARPE_X))\n",
    "print(len(ARPE_y))\n",
    "print(\"\\n\")\n",
    "print(len(SC_VitC_X))\n",
    "print(len(scaled_SC_VitC_X))\n",
    "print(len(SC_VitC_y))\n",
    "print(\"\\n\")\n",
    "print(len(SC_cAMP_X))\n",
    "print(len(scaled_SC_cAMP_X))\n",
    "print(len(SC_cAMP_y))"
   ]
  },
  {
   "cell_type": "code",
   "execution_count": 113,
   "metadata": {},
   "outputs": [
    {
     "data": {
      "text/html": [
       "<div>\n",
       "<style scoped>\n",
       "    .dataframe tbody tr th:only-of-type {\n",
       "        vertical-align: middle;\n",
       "    }\n",
       "\n",
       "    .dataframe tbody tr th {\n",
       "        vertical-align: top;\n",
       "    }\n",
       "\n",
       "    .dataframe thead th {\n",
       "        text-align: right;\n",
       "    }\n",
       "</style>\n",
       "<table border=\"1\" class=\"dataframe\">\n",
       "  <thead>\n",
       "    <tr style=\"text-align: right;\">\n",
       "      <th></th>\n",
       "      <th>tested_SC_cAMP</th>\n",
       "      <th>tested_SC_VitC</th>\n",
       "      <th>tested_ARPE</th>\n",
       "    </tr>\n",
       "    <tr>\n",
       "      <th>Trained On</th>\n",
       "      <th></th>\n",
       "      <th></th>\n",
       "      <th></th>\n",
       "    </tr>\n",
       "  </thead>\n",
       "  <tbody>\n",
       "    <tr>\n",
       "      <th>SC_cAMP</th>\n",
       "      <td>0.458693</td>\n",
       "      <td>0.181205</td>\n",
       "      <td>0.290020</td>\n",
       "    </tr>\n",
       "    <tr>\n",
       "      <th>SC_VitC</th>\n",
       "      <td>0.326017</td>\n",
       "      <td>0.693302</td>\n",
       "      <td>0.679362</td>\n",
       "    </tr>\n",
       "    <tr>\n",
       "      <th>ARPE</th>\n",
       "      <td>0.331771</td>\n",
       "      <td>0.684085</td>\n",
       "      <td>0.705665</td>\n",
       "    </tr>\n",
       "  </tbody>\n",
       "</table>\n",
       "</div>"
      ],
      "text/plain": [
       "            tested_SC_cAMP  tested_SC_VitC  tested_ARPE\n",
       "Trained On                                             \n",
       "SC_cAMP           0.458693        0.181205     0.290020\n",
       "SC_VitC           0.326017        0.693302     0.679362\n",
       "ARPE              0.331771        0.684085     0.705665"
      ]
     },
     "execution_count": 113,
     "metadata": {},
     "output_type": "execute_result"
    }
   ],
   "source": [
    "SVM_tested_on_cAMP = (SC_cAMP_vs_SC_cAMP_SVM_Accuracy, SC_VitC_vs_SC_cAMP_SVM_Accuracy, ARPE_vs_SC_cAMP_SVM_Accuracy)\n",
    "SVM_tested_on_SC_VitC = (SC_cAMP_vs_SC_VitC_SVM_Accuracy, SC_VitC_vs_SC_VitC_SVM_Accuracy, ARPE_vs_SC_VitC_SVM_Accuracy)\n",
    "SVM_tested_on_ARPE = (SC_cAMP_vs_ARPE_SVM_Accuracy, SC_VitC_vs_ARPE_SVM_Accuracy, ARPE_vs_ARPE_SVM_Accuracy)\n",
    "list_of_trained_on = (\"SC_cAMP\", \"SC_VitC\", \"ARPE\")\n",
    "SVM_accuracy = pd.DataFrame({\"Trained On\":list_of_trained_on, \"tested_SC_cAMP\": SVM_tested_on_cAMP, \n",
    "             \"tested_SC_VitC\": SVM_tested_on_SC_VitC, \"tested_ARPE\": SVM_tested_on_ARPE }).set_index(\"Trained On\")\n",
    "SVM_accuracy.to_csv(output_path+\"SVM_accuracy_table.csv\")\n",
    "SVM_accuracy"
   ]
  },
  {
   "cell_type": "code",
   "execution_count": 114,
   "metadata": {},
   "outputs": [
    {
     "data": {
      "text/html": [
       "<div>\n",
       "<style scoped>\n",
       "    .dataframe tbody tr th:only-of-type {\n",
       "        vertical-align: middle;\n",
       "    }\n",
       "\n",
       "    .dataframe tbody tr th {\n",
       "        vertical-align: top;\n",
       "    }\n",
       "\n",
       "    .dataframe thead th {\n",
       "        text-align: right;\n",
       "    }\n",
       "</style>\n",
       "<table border=\"1\" class=\"dataframe\">\n",
       "  <thead>\n",
       "    <tr style=\"text-align: right;\">\n",
       "      <th></th>\n",
       "      <th>tested_SC_cAMP</th>\n",
       "      <th>tested_SC_VitC</th>\n",
       "      <th>tested_ARPE</th>\n",
       "    </tr>\n",
       "    <tr>\n",
       "      <th>Trained On</th>\n",
       "      <th></th>\n",
       "      <th></th>\n",
       "      <th></th>\n",
       "    </tr>\n",
       "  </thead>\n",
       "  <tbody>\n",
       "    <tr>\n",
       "      <th>SC_cAMP</th>\n",
       "      <td>0.466091</td>\n",
       "      <td>0.263578</td>\n",
       "      <td>0.366326</td>\n",
       "    </tr>\n",
       "    <tr>\n",
       "      <th>SC_VitC</th>\n",
       "      <td>0.326346</td>\n",
       "      <td>0.690504</td>\n",
       "      <td>0.680663</td>\n",
       "    </tr>\n",
       "    <tr>\n",
       "      <th>ARPE</th>\n",
       "      <td>0.329716</td>\n",
       "      <td>0.684250</td>\n",
       "      <td>0.693061</td>\n",
       "    </tr>\n",
       "  </tbody>\n",
       "</table>\n",
       "</div>"
      ],
      "text/plain": [
       "            tested_SC_cAMP  tested_SC_VitC  tested_ARPE\n",
       "Trained On                                             \n",
       "SC_cAMP           0.466091        0.263578     0.366326\n",
       "SC_VitC           0.326346        0.690504     0.680663\n",
       "ARPE              0.329716        0.684250     0.693061"
      ]
     },
     "execution_count": 114,
     "metadata": {},
     "output_type": "execute_result"
    }
   ],
   "source": [
    "KNN_tested_on_cAMP = (SC_cAMP_vs_SC_cAMP_KNN_Accuracy, SC_VitC_vs_SC_cAMP_KNN_Accuracy, ARPE_vs_SC_cAMP_KNN_Accuracy)\n",
    "KNN_tested_on_SC_VitC = (SC_cAMP_vs_SC_VitC_KNN_Accuracy, SC_VitC_vs_SC_VitC_KNN_Accuracy, ARPE_vs_SC_VitC_KNN_Accuracy)\n",
    "KNN_tested_on_ARPE = (SC_cAMP_vs_ARPE_KNN_Accuracy, SC_VitC_vs_ARPE_KNN_Accuracy, ARPE_vs_ARPE_KNN_Accuracy)\n",
    "list_of_trained_on = (\"SC_cAMP\", \"SC_VitC\", \"ARPE\")\n",
    "KNN_accuracy = pd.DataFrame({\"Trained On\":list_of_trained_on, \"tested_SC_cAMP\": KNN_tested_on_cAMP, \n",
    "             \"tested_SC_VitC\": KNN_tested_on_SC_VitC, \"tested_ARPE\": KNN_tested_on_ARPE }).set_index(\"Trained On\")\n",
    "KNN_accuracy.to_csv(output_path+\"KNN_accuracy_table.csv\")\n",
    "KNN_accuracy"
   ]
  },
  {
   "cell_type": "code",
   "execution_count": 115,
   "metadata": {
    "scrolled": true
   },
   "outputs": [
    {
     "data": {
      "text/html": [
       "<div>\n",
       "<style scoped>\n",
       "    .dataframe tbody tr th:only-of-type {\n",
       "        vertical-align: middle;\n",
       "    }\n",
       "\n",
       "    .dataframe tbody tr th {\n",
       "        vertical-align: top;\n",
       "    }\n",
       "\n",
       "    .dataframe thead th {\n",
       "        text-align: right;\n",
       "    }\n",
       "</style>\n",
       "<table border=\"1\" class=\"dataframe\">\n",
       "  <thead>\n",
       "    <tr style=\"text-align: right;\">\n",
       "      <th></th>\n",
       "      <th>tested_SC_cAMP</th>\n",
       "      <th>tested_SC_VitC</th>\n",
       "      <th>tested_ARPE</th>\n",
       "    </tr>\n",
       "    <tr>\n",
       "      <th>Trained On</th>\n",
       "      <th></th>\n",
       "      <th></th>\n",
       "      <th></th>\n",
       "    </tr>\n",
       "  </thead>\n",
       "  <tbody>\n",
       "    <tr>\n",
       "      <th>SC_cAMP</th>\n",
       "      <td>0.460830</td>\n",
       "      <td>0.180546</td>\n",
       "      <td>0.200425</td>\n",
       "    </tr>\n",
       "    <tr>\n",
       "      <th>SC_VitC</th>\n",
       "      <td>0.330127</td>\n",
       "      <td>0.693137</td>\n",
       "      <td>0.677923</td>\n",
       "    </tr>\n",
       "    <tr>\n",
       "      <th>ARPE</th>\n",
       "      <td>0.330127</td>\n",
       "      <td>0.678489</td>\n",
       "      <td>0.695527</td>\n",
       "    </tr>\n",
       "  </tbody>\n",
       "</table>\n",
       "</div>"
      ],
      "text/plain": [
       "            tested_SC_cAMP  tested_SC_VitC  tested_ARPE\n",
       "Trained On                                             \n",
       "SC_cAMP           0.460830        0.180546     0.200425\n",
       "SC_VitC           0.330127        0.693137     0.677923\n",
       "ARPE              0.330127        0.678489     0.695527"
      ]
     },
     "execution_count": 115,
     "metadata": {},
     "output_type": "execute_result"
    }
   ],
   "source": [
    "DTree_tested_on_cAMP = (SC_cAMP_vs_SC_cAMP_DTree_Accuracy, SC_VitC_vs_SC_cAMP_DTree_Accuracy, ARPE_vs_SC_cAMP_DTree_Accuracy)\n",
    "DTree_tested_on_SC_VitC = (SC_cAMP_vs_SC_VitC_DTree_Accuracy, SC_VitC_vs_SC_VitC_DTree_Accuracy, ARPE_vs_SC_VitC_DTree_Accuracy)\n",
    "DTree_tested_on_ARPE = (SC_cAMP_vs_ARPE_DTree_Accuracy, SC_VitC_vs_ARPE_DTree_Accuracy, ARPE_vs_ARPE_DTree_Accuracy)\n",
    "list_of_trained_on = (\"SC_cAMP\", \"SC_VitC\", \"ARPE\")\n",
    "DTree_accuracy = pd.DataFrame({\"Trained On\":list_of_trained_on, \"tested_SC_cAMP\": DTree_tested_on_cAMP, \n",
    "             \"tested_SC_VitC\": DTree_tested_on_SC_VitC, \"tested_ARPE\": DTree_tested_on_ARPE }).set_index(\"Trained On\")\n",
    "DTree_accuracy.to_csv(output_path+\"DTree_accuracy_table.csv\")\n",
    "DTree_accuracy"
   ]
  },
  {
   "cell_type": "code",
   "execution_count": 117,
   "metadata": {},
   "outputs": [
    {
     "name": "stdout",
     "output_type": "stream",
     "text": [
      "14599\n",
      "12152\n",
      "12165\n"
     ]
    }
   ],
   "source": [
    "# Now I have to determine the naive bayes accuracy\n",
    "# This is simple for something like this. It is the proportion of each output possibility squared, all summed\n",
    "# for example, if you have 3 variables and exactly 1/3 of each, then you have (1/3)**2+(1/3)**2+(1/3)**2=0.33\n",
    "# This is the lowest possible naive bayes acuracy and it only increases if you have a higher percentage of one of the possible outcomes\n",
    "print(len(ARPE_y))\n",
    "print(len(SC_VitC_y))\n",
    "print(len(SC_cAMP_y))"
   ]
  },
  {
   "cell_type": "code",
   "execution_count": 118,
   "metadata": {},
   "outputs": [],
   "source": [
    "NBayes_ARPE = ((list(ARPE_y.ravel()).count(0)/len(ARPE_y))**2)+((list(ARPE_y.ravel()).count(1)/len(ARPE_y))**2)+((list(ARPE_y.ravel()).count(2)/len(ARPE_y))**2)\n",
    "NBayes_SC_VitC = ((list(SC_VitC_y.ravel()).count(0)/len(SC_VitC_y))**2)+((list(SC_VitC_y.ravel()).count(1)/len(SC_VitC_y))**2)+((list(SC_VitC_y.ravel()).count(2)/len(SC_VitC_y))**2)\n",
    "NBayes_SC_cAMP = ((list(SC_cAMP_y.ravel()).count(0)/len(SC_cAMP_y))**2)+((list(SC_cAMP_y.ravel()).count(1)/len(SC_cAMP_y))**2)+((list(SC_cAMP_y.ravel()).count(2)/len(SC_cAMP_y))**2)\n",
    "list_of_datasets = ( \"SC_cAMP\", \"SC_VitC\", \"ARPE\")\n",
    "NBayes_values = ( NBayes_SC_cAMP, NBayes_SC_VitC, NBayes_ARPE)\n",
    "NBayes_df = pd.DataFrame({\"Dataset\": list_of_datasets, \"Naive Bayes Accuracy\":NBayes_values}).set_index(\"Dataset\")\n",
    "NBayes_df.to_csv(output_path+\"Naive_Bayes_Accuracies.csv\")\n",
    "# print(NBayes_ARPE)\n",
    "# print(NBayes_SC_VitC)\n",
    "# print(NBayes_SC_cAMP)"
   ]
  },
  {
   "cell_type": "code",
   "execution_count": null,
   "metadata": {},
   "outputs": [],
   "source": []
  }
 ],
 "metadata": {
  "anaconda-cloud": {},
  "kernelspec": {
   "display_name": "Python 3",
   "language": "python",
   "name": "python3"
  },
  "language_info": {
   "codemirror_mode": {
    "name": "ipython",
    "version": 3
   },
   "file_extension": ".py",
   "mimetype": "text/x-python",
   "name": "python",
   "nbconvert_exporter": "python",
   "pygments_lexer": "ipython3",
   "version": "3.7.1"
  }
 },
 "nbformat": 4,
 "nbformat_minor": 1
}
