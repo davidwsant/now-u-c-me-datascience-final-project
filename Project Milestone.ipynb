{
 "cells": [
  {
   "cell_type": "markdown",
   "metadata": {},
   "source": [
    "# Now You C Me - Project Milestone\n",
    "Note: This document provides information satisfying the \"Project Milestone\" section requirements from the class [website](http://datasciencecourse.net/2019/project/).\n",
    "<hr></hr>  \n",
    "\n",
    "**Ada McFarlane :** u1087069, ada.mcfarlane@gmail.com\n",
    "\n",
    "**Rachel Muller :**  u0846845, mullerachel@gmail.com\n",
    "\n",
    "**David Sant :** u0454956, david.sant@utah.edu"
   ]
  },
  {
   "cell_type": "markdown",
   "metadata": {},
   "source": [
    "<hr></hr>\n",
    "\n",
    "## Deviations\n",
    "### Dataset Changes :\n",
    "- Our proposal initially outlined three datasets that we would perform analyses on. However, only the third cell line (ARPE-19 cells treated with or without 50 micromolar Vitamin C) will be used for the remainder of the data science project.  \n",
    "\n",
    "\n",
    "- Due to the 30+ hours it took to clean the singular data set and in order to keep up with the project timeline we initially set (see Gantt chart included with project proposal), we will utilize this cleaned data for the outlined analyses from here on out. \n",
    "\n",
    "### Analysis:\n",
    "- We're considering incorporating some of the methods that have been introduced in class since we submitted the proposal, but haven't yet committed to how we would do that. <!!!>\n",
    "\n",
    "\n",
    "- PCA seems like it might be a good fit for our dataset because of the variety in types of up and downregulation within genes.\n",
    "\n",
    "\n",
    "- Based on the now-cleaned dataset, it seems that it would be worthwhile to analyze fold change between before and after expression levels in both the control and treatment groups. \n",
    "\n",
    "### Peer Feedback :\n",
    "- We got peer feedback from **\"And the Oscar Goes to...\"**:\n",
    "    - Ryzen Benson\n",
    "    - Chrissy Neff\n",
    "    - Ram Siripuram\n",
    "- It was suggested that our team look for directionality between cAMP and Vitamin C as well as between the human retinal and Schwann cells. (This is no longer applicable as the datasets we originally planned to examine will now focus primarily on ARPE-19/human retinal cells. See “Deviations” listed above for more details.)\n",
    "- Our peers also suggested that we perform a classification task to involve the up-regulated, down-regulated, and unchanging gene expressions. This was taken under advisement and will likely be included in the primary analysis of our final submission.\n",
    "- The peer reviewers asked for a clarification on where/how we were obtaining our data. We responded with details similar to those that can be found under the “Our Data” header outlined below.\n",
    "- Our reviewers wanted more details as to what the significance of this project would be, what applications currently exist, and why we are interested in this topic. We answered these questions more fully in our submitted project proposal and a summarized version is provided in this notebook in the next section.\n",
    "- During this part of our peer review, it was also recommended that we describe the topic background in a way that a reader with a non-biological background might still easily understand. We attempted to do this in our project proposal and will maintain this goal in our final submission as well.\n",
    "- Relating to the above: it was suggested that an infographic or commonplace metaphor to represent the underlying workings of the process we are examining might be useful to readers/graders. This is currently being worked on.\n",
    "- It was suggested that regression analyses/models be applied to our data as well. We have taken this under advisement and plan to utilize this technique in our final submission.\n",
    "- There was some initial confusion about the number of classification categories we were utilizing (the reviewers initially understood 15,000 classification categories!). However, this was clarified in that there will be approximately 15,000 genes with 6-9 classification categories utilized in this project. "
   ]
  },
  {
   "cell_type": "markdown",
   "metadata": {},
   "source": [
    "<hr></hr>  \n",
    "\n",
    "## Our Data\n",
    "### Acquired :\n",
    "- As stated in our proposal, the dataset for this project comes from Dave Sant's work in the Gaofeng Wang Lab at the University of Miami. To recap - From data generated in the Gaofeng Wang Lab, we hope to determine if we can use a model to predict if genes will change in transcription levels in response to addition of vitamin C to the culture media (to enhance global 5hmC generation).\n",
    "\n",
    "\n",
    "- We've made a **Github repository** to store and manage our data: [[link]](https://github.com/davidwsant/now-u-c-me-datascience-final-project)\n",
    "\n",
    "### Cleaned :\n",
    "- The dataset we acquired wasn't formatted for the analysis we have in mind, and we knew we'd have to do some work to get it into a usable state. Unfortunately, after getting into the data it turned out that format was not the only issue; it took 30+ hours of cleaning and formatting work to get what we needed.\n",
    "  \n",
    "  \n",
    "- Cleaning steps:\n",
    "    1. The initial cleaning step that was performed involved a normalization to the hMeDIP count files to now show a read count per million (RCPM). No outliers were accounted for as of yet. The columns added by htseq-count were not removed either.\n",
    "    2. The second cleaning step involved accounting for outliers. This was done by ignoring for now the htseq columns and running a linear regression of the averages per treatment type (Vitamin C and control). A Cook’s cutoff value was used because it takes both X and Y axes into consideration. The points with a high Cook's value were removed for the normalization.\n",
    "    3. The third cleaning step is to divide by the length and multiply by 1000 to get fragments per kilobase per million (FPKM). \n",
    "    4. The fourth cleaning step is to determine which values increased, decreased, or experienced no change. A 1.5X fold change cutoff was used, as well as a corrected P-value from the edgeR cutoff of 0.05.\n",
    "    5. The fifth cleaning step involved coordinating each peak in the region analysis with a gene or region of a gene.\n",
    "    6. The sixth cleaning step was to sum the counts per gene for both location and change to get the counts of peaks within each region for each annotated gene. \n",
    "    7. These same normalization techniques were applied to the RNA-seq data similar to the way we performed the hMeDIP-seq normalization. The difference here is that the htseq-count lines will be removed prior to the first RCPM. \n",
    "    8. The next step for normalizing the RNA-seq involved removing genes that are comparatively low in expression because they would just add noise. \n",
    "    \n",
    "    \n",
    "- Cleaning this dataset turned out to be much more difficult than we had anticipated. The amount of work it took to get one dataset cleaned and ready was enough that we decided to adjust our project scope.\n",
    "\n",
    "### Explored :\n",
    "- Exploration of the data has shown that there are about twice as many upregulated genes as there are downregulated genes in the ARPE dataset, but this is still only about 1/3 of the expressed genes (14,599). \n",
    "\n",
    "\n",
    "- Over 2/3 of the expressed genes are protein coding genes (11,228), even though they make up a relatively small portion of the annotated genome. This is consistent with other RNA-seq studies. \n",
    "\n",
    "\n",
    "- It looks like the highest average peak counts are genebody upregulated (1.9) followed by genebody nondifferential (1.6). \n",
    "\n",
    "\n",
    "- We now have many dimensions and this should be helpful for determining if we can classify genes based on the genomic info and hMeDIP peak information (data about DNA methylation)."
   ]
  },
  {
   "cell_type": "markdown",
   "metadata": {},
   "source": [
    "<hr></hr>  \n",
    "\n",
    "## Analysis Plan\n",
    "- We plan to follow through with the analysis steps listed in our original proposal, but adjusted to suit the adjusted scope of our project dataset.\n",
    "- In other words, we still plan to do an overview of the data with descriptive statistics:\n",
    "    - First we will use scatter plots to graph the number of upregulated peaks and the number of downregulated peaks in the gene body of each gene, and color code the genes based on their transcriptional response. We will repeat this for different pairs of peaks (upregulated gene body vs downregulated gene body). \n",
    "    - We will also make histograms dividing the data by transcript response type and then by H3K4me3 dependent genes.\n",
    "    - We would also like to explore the location of the peaks in relation to the transcript start site of the gene they reside with. This will be done by generating a scatter plot with the proportion of the length of the gene as the X-axis and the log of the fold change of the peak as the Y axis, and the color of the point will represent the transcript response type.\n",
    "- We'll be using other methods to make inferences from our dataset, but scaled to suit our project scope:\n",
    "    - We plan to make a decision tree <showing what? !!!>. This will be repeated multiple times with representing the data different ways. \n",
    "    - We will also use K-nearest neighbors and Support Vector Machines to classify transcripts to their respective groups. We are aware that this is natural biological data and will not give super clean models, but we will use these three methods and determine which does the best job classifying transcripts from the Schwann cells treated with vitamin C. \n",
    "    - We were planning to take the top performing model (trained with data from Schwann cells treated with vitamin C) and test it again on the Schwann cells treated with cAMP and then on the human ARPE-19 cells treated with vitamin C. Unfortunately, this part of our original plan does not fit within the adjusted scope of our project.\n",
    "    - As suggested by our peers during the review session in class, we plan to incorporate a regression model into our final analysis. <modeling what though? !!!>\n"
   ]
  },
  {
   "cell_type": "code",
   "execution_count": null,
   "metadata": {},
   "outputs": [],
   "source": []
  }
 ],
 "metadata": {
  "kernelspec": {
   "display_name": "Python 3",
   "language": "python",
   "name": "python3"
  },
  "language_info": {
   "codemirror_mode": {
    "name": "ipython",
    "version": 3
   },
   "file_extension": ".py",
   "mimetype": "text/x-python",
   "name": "python",
   "nbconvert_exporter": "python",
   "pygments_lexer": "ipython3",
   "version": "3.7.1"
  }
 },
 "nbformat": 4,
 "nbformat_minor": 2
}
